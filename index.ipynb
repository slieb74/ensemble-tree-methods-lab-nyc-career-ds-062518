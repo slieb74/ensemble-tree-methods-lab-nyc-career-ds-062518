{
 "cells": [
  {
   "cell_type": "markdown",
   "metadata": {},
   "source": [
    "# Ensemble methods"
   ]
  },
  {
   "cell_type": "markdown",
   "metadata": {},
   "source": [
    "## 1. Importing the data"
   ]
  },
  {
   "cell_type": "markdown",
   "metadata": {},
   "source": [
    "We'll use the same data set whe used in the last lab. The salary data set was extracted from the census bureau database and contains salary information. The goal is to use this data set and to try to draw conclusions regarding what drives salaries. More specifically, the target variable is categorical (> 50k; <= 50 k). Let's create a classification tree!"
   ]
  },
  {
   "cell_type": "code",
   "execution_count": 1,
   "metadata": {},
   "outputs": [
    {
     "name": "stderr",
     "output_type": "stream",
     "text": [
      "/Users/SamLiebman/anaconda3/lib/python3.6/site-packages/sklearn/cross_validation.py:41: DeprecationWarning: This module was deprecated in version 0.18 in favor of the model_selection module into which all the refactored classes and functions are moved. Also note that the interface of the new CV iterators are different from that of this module. This module will be removed in 0.20.\n",
      "  \"This module will be removed in 0.20.\", DeprecationWarning)\n"
     ]
    }
   ],
   "source": [
    "import pandas as pd\n",
    "import numpy as np\n",
    "np.random.seed(0)\n",
    "import statsmodels as sm\n",
    "import matplotlib.pyplot as plt\n",
    "import sklearn as skl\n",
    "import sklearn.preprocessing as preprocessing\n",
    "import sklearn.linear_model as linear_model\n",
    "from sklearn.cross_validation import train_test_split\n",
    "import sklearn.metrics as metrics\n",
    "import sklearn.tree as tree\n",
    "import seaborn as sns\n",
    "import graphviz \n",
    "from sklearn.tree import export_graphviz"
   ]
  },
  {
   "cell_type": "markdown",
   "metadata": {},
   "source": [
    "Our dataset is stored in the file `salaries_final.csv`.  \n",
    "\n",
    "In the cell below, read in the dataset from this file and store it in a DataFrame.  Be sure to set the `index_col` parameter to `0`.  Then, display the head of the DataFrame to ensure that everything loaded correctly."
   ]
  },
  {
   "cell_type": "code",
   "execution_count": 3,
   "metadata": {},
   "outputs": [
    {
     "data": {
      "text/html": [
       "<div>\n",
       "<style scoped>\n",
       "    .dataframe tbody tr th:only-of-type {\n",
       "        vertical-align: middle;\n",
       "    }\n",
       "\n",
       "    .dataframe tbody tr th {\n",
       "        vertical-align: top;\n",
       "    }\n",
       "\n",
       "    .dataframe thead th {\n",
       "        text-align: right;\n",
       "    }\n",
       "</style>\n",
       "<table border=\"1\" class=\"dataframe\">\n",
       "  <thead>\n",
       "    <tr style=\"text-align: right;\">\n",
       "      <th></th>\n",
       "      <th>Age</th>\n",
       "      <th>Education</th>\n",
       "      <th>Occupation</th>\n",
       "      <th>Relationship</th>\n",
       "      <th>Race</th>\n",
       "      <th>Sex</th>\n",
       "      <th>Target</th>\n",
       "    </tr>\n",
       "  </thead>\n",
       "  <tbody>\n",
       "    <tr>\n",
       "      <th>0</th>\n",
       "      <td>39</td>\n",
       "      <td>Bachelors</td>\n",
       "      <td>Adm-clerical</td>\n",
       "      <td>Not-in-family</td>\n",
       "      <td>White</td>\n",
       "      <td>Male</td>\n",
       "      <td>&lt;=50K</td>\n",
       "    </tr>\n",
       "    <tr>\n",
       "      <th>1</th>\n",
       "      <td>50</td>\n",
       "      <td>Bachelors</td>\n",
       "      <td>Exec-managerial</td>\n",
       "      <td>Husband</td>\n",
       "      <td>White</td>\n",
       "      <td>Male</td>\n",
       "      <td>&lt;=50K</td>\n",
       "    </tr>\n",
       "    <tr>\n",
       "      <th>2</th>\n",
       "      <td>38</td>\n",
       "      <td>HS-grad</td>\n",
       "      <td>Handlers-cleaners</td>\n",
       "      <td>Not-in-family</td>\n",
       "      <td>White</td>\n",
       "      <td>Male</td>\n",
       "      <td>&lt;=50K</td>\n",
       "    </tr>\n",
       "    <tr>\n",
       "      <th>3</th>\n",
       "      <td>53</td>\n",
       "      <td>11th</td>\n",
       "      <td>Handlers-cleaners</td>\n",
       "      <td>Husband</td>\n",
       "      <td>Black</td>\n",
       "      <td>Male</td>\n",
       "      <td>&lt;=50K</td>\n",
       "    </tr>\n",
       "    <tr>\n",
       "      <th>4</th>\n",
       "      <td>28</td>\n",
       "      <td>Bachelors</td>\n",
       "      <td>Prof-specialty</td>\n",
       "      <td>Wife</td>\n",
       "      <td>Black</td>\n",
       "      <td>Female</td>\n",
       "      <td>&lt;=50K</td>\n",
       "    </tr>\n",
       "  </tbody>\n",
       "</table>\n",
       "</div>"
      ],
      "text/plain": [
       "   Age  Education         Occupation   Relationship   Race     Sex Target\n",
       "0   39  Bachelors       Adm-clerical  Not-in-family  White    Male  <=50K\n",
       "1   50  Bachelors    Exec-managerial        Husband  White    Male  <=50K\n",
       "2   38    HS-grad  Handlers-cleaners  Not-in-family  White    Male  <=50K\n",
       "3   53       11th  Handlers-cleaners        Husband  Black    Male  <=50K\n",
       "4   28  Bachelors     Prof-specialty           Wife  Black  Female  <=50K"
      ]
     },
     "execution_count": 3,
     "metadata": {},
     "output_type": "execute_result"
    }
   ],
   "source": [
    "salaries = pd.read_csv('salaries_final.csv',index_col=0)\n",
    "salaries.head()"
   ]
  },
  {
   "cell_type": "markdown",
   "metadata": {},
   "source": [
    "In total, there are 6 predictors, and one outcome variable, the target salary <= 50k/ >50k."
   ]
  },
  {
   "cell_type": "markdown",
   "metadata": {},
   "source": [
    "recall that the 6 predictors are:\n",
    "\n",
    "- `Age`: continuous.\n",
    "\n",
    "- `Education`: Categorical. Bachelors, Some-college, 11th, HS-grad, Prof-school, Assoc-acdm, Assoc-voc, 9th, 7th-8th, 12th, \n",
    "Masters, 1st-4th, 10th, Doctorate, 5th-6th, Preschool.\n",
    "\n",
    "- `Occupation`: Tech-support, Craft-repair, Other-service, Sales, Exec-managerial, Prof-specialty, Handlers-cleaners, Machine-op-inspct, Adm-clerical, Farming-fishing, Transport-moving, Priv-house-serv, Protective-serv, Armed-Forces.\n",
    "\n",
    "- `Relationship`: Wife, Own-child, Husband, Not-in-family, Other-relative, Unmarried.\n",
    "\n",
    "- `Race`: White, Asian-Pac-Islander, Amer-Indian-Eskimo, Other, Black.\n",
    "\n",
    "- `Sex`: Female, Male."
   ]
  },
  {
   "cell_type": "markdown",
   "metadata": {},
   "source": [
    "In the last lab, we used the `patsy` library's `dmatrices` module to convert our categorical columns to a one-hot encoded format.  In this lab, we'll pandas to accomplish the same task.  \n",
    "\n",
    "First, we'll need to store our target column in a separate variable and drop it from the dataset.  \n",
    "\n",
    "Do this in the cell below. "
   ]
  },
  {
   "cell_type": "code",
   "execution_count": 7,
   "metadata": {},
   "outputs": [],
   "source": [
    "target = salaries.Target\n",
    "salaries = salaries.drop(columns=['Target'])"
   ]
  },
  {
   "cell_type": "markdown",
   "metadata": {},
   "source": [
    "Next, we'll want to confirm that the Age column is currently encoded in a numeric data type, and not a string. By default, pandas will treat all columns encoded as strings as categorical columns, and create a dummy column for each unique value contained within that column.  We do not want a separate column for each age, so let's double check that the age column is encoded as an integer or a float.  \n",
    "\n",
    "In the cell below, check the `.dtypes` of the DataFrame to examine the data type of each column. "
   ]
  },
  {
   "cell_type": "code",
   "execution_count": 8,
   "metadata": {},
   "outputs": [
    {
     "data": {
      "text/plain": [
       "Age              int64\n",
       "Education       object\n",
       "Occupation      object\n",
       "Relationship    object\n",
       "Race            object\n",
       "Sex             object\n",
       "dtype: object"
      ]
     },
     "execution_count": 8,
     "metadata": {},
     "output_type": "execute_result"
    }
   ],
   "source": [
    "salaries.dtypes"
   ]
  },
  {
   "cell_type": "markdown",
   "metadata": {},
   "source": [
    "Great.  Now we're ready to create some dummy columns and deal with our categorical variables.  \n",
    "\n",
    "In the cell below, use pandas to create dummy columns for each of categorical variables.  If you're unsure of how to do this, check out the [documentation](https://pandas.pydata.org/pandas-docs/stable/generated/pandas.get_dummies.html).  "
   ]
  },
  {
   "cell_type": "code",
   "execution_count": 17,
   "metadata": {},
   "outputs": [
    {
     "data": {
      "text/html": [
       "<div>\n",
       "<style scoped>\n",
       "    .dataframe tbody tr th:only-of-type {\n",
       "        vertical-align: middle;\n",
       "    }\n",
       "\n",
       "    .dataframe tbody tr th {\n",
       "        vertical-align: top;\n",
       "    }\n",
       "\n",
       "    .dataframe thead th {\n",
       "        text-align: right;\n",
       "    }\n",
       "</style>\n",
       "<table border=\"1\" class=\"dataframe\">\n",
       "  <thead>\n",
       "    <tr style=\"text-align: right;\">\n",
       "      <th></th>\n",
       "      <th>Age</th>\n",
       "      <th>Education_10th</th>\n",
       "      <th>Education_11th</th>\n",
       "      <th>Education_12th</th>\n",
       "      <th>Education_1st-4th</th>\n",
       "      <th>Education_5th-6th</th>\n",
       "      <th>Education_7th-8th</th>\n",
       "      <th>Education_9th</th>\n",
       "      <th>Education_Assoc-acdm</th>\n",
       "      <th>Education_Assoc-voc</th>\n",
       "      <th>...</th>\n",
       "      <th>Relationship_Own-child</th>\n",
       "      <th>Relationship_Unmarried</th>\n",
       "      <th>Relationship_Wife</th>\n",
       "      <th>Race_Amer-Indian-Eskimo</th>\n",
       "      <th>Race_Asian-Pac-Islander</th>\n",
       "      <th>Race_Black</th>\n",
       "      <th>Race_Other</th>\n",
       "      <th>Race_White</th>\n",
       "      <th>Sex_Female</th>\n",
       "      <th>Sex_Male</th>\n",
       "    </tr>\n",
       "  </thead>\n",
       "  <tbody>\n",
       "    <tr>\n",
       "      <th>0</th>\n",
       "      <td>39</td>\n",
       "      <td>0</td>\n",
       "      <td>0</td>\n",
       "      <td>0</td>\n",
       "      <td>0</td>\n",
       "      <td>0</td>\n",
       "      <td>0</td>\n",
       "      <td>0</td>\n",
       "      <td>0</td>\n",
       "      <td>0</td>\n",
       "      <td>...</td>\n",
       "      <td>0</td>\n",
       "      <td>0</td>\n",
       "      <td>0</td>\n",
       "      <td>0</td>\n",
       "      <td>0</td>\n",
       "      <td>0</td>\n",
       "      <td>0</td>\n",
       "      <td>1</td>\n",
       "      <td>0</td>\n",
       "      <td>1</td>\n",
       "    </tr>\n",
       "    <tr>\n",
       "      <th>1</th>\n",
       "      <td>50</td>\n",
       "      <td>0</td>\n",
       "      <td>0</td>\n",
       "      <td>0</td>\n",
       "      <td>0</td>\n",
       "      <td>0</td>\n",
       "      <td>0</td>\n",
       "      <td>0</td>\n",
       "      <td>0</td>\n",
       "      <td>0</td>\n",
       "      <td>...</td>\n",
       "      <td>0</td>\n",
       "      <td>0</td>\n",
       "      <td>0</td>\n",
       "      <td>0</td>\n",
       "      <td>0</td>\n",
       "      <td>0</td>\n",
       "      <td>0</td>\n",
       "      <td>1</td>\n",
       "      <td>0</td>\n",
       "      <td>1</td>\n",
       "    </tr>\n",
       "    <tr>\n",
       "      <th>2</th>\n",
       "      <td>38</td>\n",
       "      <td>0</td>\n",
       "      <td>0</td>\n",
       "      <td>0</td>\n",
       "      <td>0</td>\n",
       "      <td>0</td>\n",
       "      <td>0</td>\n",
       "      <td>0</td>\n",
       "      <td>0</td>\n",
       "      <td>0</td>\n",
       "      <td>...</td>\n",
       "      <td>0</td>\n",
       "      <td>0</td>\n",
       "      <td>0</td>\n",
       "      <td>0</td>\n",
       "      <td>0</td>\n",
       "      <td>0</td>\n",
       "      <td>0</td>\n",
       "      <td>1</td>\n",
       "      <td>0</td>\n",
       "      <td>1</td>\n",
       "    </tr>\n",
       "    <tr>\n",
       "      <th>3</th>\n",
       "      <td>53</td>\n",
       "      <td>0</td>\n",
       "      <td>1</td>\n",
       "      <td>0</td>\n",
       "      <td>0</td>\n",
       "      <td>0</td>\n",
       "      <td>0</td>\n",
       "      <td>0</td>\n",
       "      <td>0</td>\n",
       "      <td>0</td>\n",
       "      <td>...</td>\n",
       "      <td>0</td>\n",
       "      <td>0</td>\n",
       "      <td>0</td>\n",
       "      <td>0</td>\n",
       "      <td>0</td>\n",
       "      <td>1</td>\n",
       "      <td>0</td>\n",
       "      <td>0</td>\n",
       "      <td>0</td>\n",
       "      <td>1</td>\n",
       "    </tr>\n",
       "    <tr>\n",
       "      <th>4</th>\n",
       "      <td>28</td>\n",
       "      <td>0</td>\n",
       "      <td>0</td>\n",
       "      <td>0</td>\n",
       "      <td>0</td>\n",
       "      <td>0</td>\n",
       "      <td>0</td>\n",
       "      <td>0</td>\n",
       "      <td>0</td>\n",
       "      <td>0</td>\n",
       "      <td>...</td>\n",
       "      <td>0</td>\n",
       "      <td>0</td>\n",
       "      <td>1</td>\n",
       "      <td>0</td>\n",
       "      <td>0</td>\n",
       "      <td>1</td>\n",
       "      <td>0</td>\n",
       "      <td>0</td>\n",
       "      <td>1</td>\n",
       "      <td>0</td>\n",
       "    </tr>\n",
       "  </tbody>\n",
       "</table>\n",
       "<p>5 rows × 45 columns</p>\n",
       "</div>"
      ],
      "text/plain": [
       "   Age  Education_10th  Education_11th  Education_12th  Education_1st-4th  \\\n",
       "0   39               0               0               0                  0   \n",
       "1   50               0               0               0                  0   \n",
       "2   38               0               0               0                  0   \n",
       "3   53               0               1               0                  0   \n",
       "4   28               0               0               0                  0   \n",
       "\n",
       "   Education_5th-6th  Education_7th-8th  Education_9th  Education_Assoc-acdm  \\\n",
       "0                  0                  0              0                     0   \n",
       "1                  0                  0              0                     0   \n",
       "2                  0                  0              0                     0   \n",
       "3                  0                  0              0                     0   \n",
       "4                  0                  0              0                     0   \n",
       "\n",
       "   Education_Assoc-voc    ...     Relationship_Own-child  \\\n",
       "0                    0    ...                          0   \n",
       "1                    0    ...                          0   \n",
       "2                    0    ...                          0   \n",
       "3                    0    ...                          0   \n",
       "4                    0    ...                          0   \n",
       "\n",
       "   Relationship_Unmarried  Relationship_Wife  Race_Amer-Indian-Eskimo  \\\n",
       "0                       0                  0                        0   \n",
       "1                       0                  0                        0   \n",
       "2                       0                  0                        0   \n",
       "3                       0                  0                        0   \n",
       "4                       0                  1                        0   \n",
       "\n",
       "   Race_Asian-Pac-Islander  Race_Black  Race_Other  Race_White  Sex_Female  \\\n",
       "0                        0           0           0           1           0   \n",
       "1                        0           0           0           1           0   \n",
       "2                        0           0           0           1           0   \n",
       "3                        0           1           0           0           0   \n",
       "4                        0           1           0           0           1   \n",
       "\n",
       "   Sex_Male  \n",
       "0         1  \n",
       "1         1  \n",
       "2         1  \n",
       "3         1  \n",
       "4         0  \n",
       "\n",
       "[5 rows x 45 columns]"
      ]
     },
     "execution_count": 17,
     "metadata": {},
     "output_type": "execute_result"
    }
   ],
   "source": [
    "data = pd.get_dummies(salaries)\n",
    "data.head()"
   ]
  },
  {
   "cell_type": "markdown",
   "metadata": {},
   "source": [
    "Now, split your data and target into training and testing sets using the appropriate method from sklearn. "
   ]
  },
  {
   "cell_type": "code",
   "execution_count": 18,
   "metadata": {},
   "outputs": [],
   "source": [
    "data_train, data_test, target_train, target_test = train_test_split(data,target)"
   ]
  },
  {
   "cell_type": "markdown",
   "metadata": {},
   "source": [
    "## 2. Let's rebuild a \"regular\" tree as a baseline\n",
    "\n",
    "We'll begin by fitting a regular Decision Tree Classifier, so that we have something to compare our ensemble methods to.  "
   ]
  },
  {
   "cell_type": "markdown",
   "metadata": {},
   "source": [
    "### 2.1 Building the tree\n",
    "\n",
    "In the cell below, create a Decision Tree Classifier.  Set the `criterion` to `'gini'`, and a `max_depth` of `5`.  Then, fit the tree to our training data and labels.  "
   ]
  },
  {
   "cell_type": "code",
   "execution_count": 22,
   "metadata": {
    "scrolled": true
   },
   "outputs": [
    {
     "data": {
      "image/svg+xml": [
       "<?xml version=\"1.0\" encoding=\"UTF-8\" standalone=\"no\"?>\n",
       "<!DOCTYPE svg PUBLIC \"-//W3C//DTD SVG 1.1//EN\"\n",
       " \"http://www.w3.org/Graphics/SVG/1.1/DTD/svg11.dtd\">\n",
       "<!-- Generated by graphviz version 2.40.1 (20161225.0304)\n",
       " -->\n",
       "<!-- Title: Tree Pages: 1 -->\n",
       "<svg width=\"3570pt\" height=\"671pt\"\n",
       " viewBox=\"0.00 0.00 3569.50 671.00\" xmlns=\"http://www.w3.org/2000/svg\" xmlns:xlink=\"http://www.w3.org/1999/xlink\">\n",
       "<g id=\"graph0\" class=\"graph\" transform=\"scale(1 1) rotate(0) translate(4 667)\">\n",
       "<title>Tree</title>\n",
       "<polygon fill=\"#ffffff\" stroke=\"transparent\" points=\"-4,4 -4,-667 3565.5,-667 3565.5,4 -4,4\"/>\n",
       "<!-- 0 -->\n",
       "<g id=\"node1\" class=\"node\">\n",
       "<title>0</title>\n",
       "<path fill=\"none\" stroke=\"#000000\" d=\"M1986.5,-663C1986.5,-663 1855.5,-663 1855.5,-663 1849.5,-663 1843.5,-657 1843.5,-651 1843.5,-651 1843.5,-592 1843.5,-592 1843.5,-586 1849.5,-580 1855.5,-580 1855.5,-580 1986.5,-580 1986.5,-580 1992.5,-580 1998.5,-586 1998.5,-592 1998.5,-592 1998.5,-651 1998.5,-651 1998.5,-657 1992.5,-663 1986.5,-663\"/>\n",
       "<text text-anchor=\"middle\" x=\"1921\" y=\"-647.8\" font-family=\"Helvetica,sans-Serif\" font-size=\"14.00\" fill=\"#000000\">Relationship_Husband &lt;= 0.5</text>\n",
       "<text text-anchor=\"middle\" x=\"1921\" y=\"-632.8\" font-family=\"Helvetica,sans-Serif\" font-size=\"14.00\" fill=\"#000000\">gini = 0.365</text>\n",
       "<text text-anchor=\"middle\" x=\"1921\" y=\"-617.8\" font-family=\"Helvetica,sans-Serif\" font-size=\"14.00\" fill=\"#000000\">samples = 24420</text>\n",
       "<text text-anchor=\"middle\" x=\"1921\" y=\"-602.8\" font-family=\"Helvetica,sans-Serif\" font-size=\"14.00\" fill=\"#000000\">value = [18561, 5859]</text>\n",
       "<text text-anchor=\"middle\" x=\"1921\" y=\"-587.8\" font-family=\"Helvetica,sans-Serif\" font-size=\"14.00\" fill=\"#000000\">class = &lt;=50K</text>\n",
       "</g>\n",
       "<!-- 1 -->\n",
       "<g id=\"node2\" class=\"node\">\n",
       "<title>1</title>\n",
       "<path fill=\"none\" stroke=\"#000000\" d=\"M1411,-544C1411,-544 1301,-544 1301,-544 1295,-544 1289,-538 1289,-532 1289,-532 1289,-473 1289,-473 1289,-467 1295,-461 1301,-461 1301,-461 1411,-461 1411,-461 1417,-461 1423,-467 1423,-473 1423,-473 1423,-532 1423,-532 1423,-538 1417,-544 1411,-544\"/>\n",
       "<text text-anchor=\"middle\" x=\"1356\" y=\"-528.8\" font-family=\"Helvetica,sans-Serif\" font-size=\"14.00\" fill=\"#000000\">Relationship_Wife &lt;= 0.5</text>\n",
       "<text text-anchor=\"middle\" x=\"1356\" y=\"-513.8\" font-family=\"Helvetica,sans-Serif\" font-size=\"14.00\" fill=\"#000000\">gini = 0.176</text>\n",
       "<text text-anchor=\"middle\" x=\"1356\" y=\"-498.8\" font-family=\"Helvetica,sans-Serif\" font-size=\"14.00\" fill=\"#000000\">samples = 14509</text>\n",
       "<text text-anchor=\"middle\" x=\"1356\" y=\"-483.8\" font-family=\"Helvetica,sans-Serif\" font-size=\"14.00\" fill=\"#000000\">value = [13094, 1415]</text>\n",
       "<text text-anchor=\"middle\" x=\"1356\" y=\"-468.8\" font-family=\"Helvetica,sans-Serif\" font-size=\"14.00\" fill=\"#000000\">class = &lt;=50K</text>\n",
       "</g>\n",
       "<!-- 0&#45;&gt;1 -->\n",
       "<g id=\"edge1\" class=\"edge\">\n",
       "<title>0&#45;&gt;1</title>\n",
       "<path fill=\"none\" stroke=\"#000000\" d=\"M1843.3283,-605.1408C1735.2406,-582.3755 1540.6438,-541.3896 1432.9453,-518.7062\"/>\n",
       "<polygon fill=\"#000000\" stroke=\"#000000\" points=\"1433.6248,-515.2726 1423.1181,-516.6364 1432.182,-522.1223 1433.6248,-515.2726\"/>\n",
       "<text text-anchor=\"middle\" x=\"1436.7729\" y=\"-533.8779\" font-family=\"Helvetica,sans-Serif\" font-size=\"14.00\" fill=\"#000000\">True</text>\n",
       "</g>\n",
       "<!-- 32 -->\n",
       "<g id=\"node33\" class=\"node\">\n",
       "<title>32</title>\n",
       "<path fill=\"none\" stroke=\"#000000\" d=\"M2289,-544C2289,-544 2165,-544 2165,-544 2159,-544 2153,-538 2153,-532 2153,-532 2153,-473 2153,-473 2153,-467 2159,-461 2165,-461 2165,-461 2289,-461 2289,-461 2295,-461 2301,-467 2301,-473 2301,-473 2301,-532 2301,-532 2301,-538 2295,-544 2289,-544\"/>\n",
       "<text text-anchor=\"middle\" x=\"2227\" y=\"-528.8\" font-family=\"Helvetica,sans-Serif\" font-size=\"14.00\" fill=\"#000000\">Education_Bachelors &lt;= 0.5</text>\n",
       "<text text-anchor=\"middle\" x=\"2227\" y=\"-513.8\" font-family=\"Helvetica,sans-Serif\" font-size=\"14.00\" fill=\"#000000\">gini = 0.495</text>\n",
       "<text text-anchor=\"middle\" x=\"2227\" y=\"-498.8\" font-family=\"Helvetica,sans-Serif\" font-size=\"14.00\" fill=\"#000000\">samples = 9911</text>\n",
       "<text text-anchor=\"middle\" x=\"2227\" y=\"-483.8\" font-family=\"Helvetica,sans-Serif\" font-size=\"14.00\" fill=\"#000000\">value = [5467, 4444]</text>\n",
       "<text text-anchor=\"middle\" x=\"2227\" y=\"-468.8\" font-family=\"Helvetica,sans-Serif\" font-size=\"14.00\" fill=\"#000000\">class = &lt;=50K</text>\n",
       "</g>\n",
       "<!-- 0&#45;&gt;32 -->\n",
       "<g id=\"edge32\" class=\"edge\">\n",
       "<title>0&#45;&gt;32</title>\n",
       "<path fill=\"none\" stroke=\"#000000\" d=\"M1998.6123,-591.3174C2042.8311,-574.1213 2098.2501,-552.5694 2143.4227,-535.0023\"/>\n",
       "<polygon fill=\"#000000\" stroke=\"#000000\" points=\"2144.8474,-538.2037 2152.8989,-531.3171 2142.3102,-531.6796 2144.8474,-538.2037\"/>\n",
       "<text text-anchor=\"middle\" x=\"2142.8304\" y=\"-550.5\" font-family=\"Helvetica,sans-Serif\" font-size=\"14.00\" fill=\"#000000\">False</text>\n",
       "</g>\n",
       "<!-- 2 -->\n",
       "<g id=\"node3\" class=\"node\">\n",
       "<title>2</title>\n",
       "<path fill=\"none\" stroke=\"#000000\" d=\"M737,-425C737,-425 649,-425 649,-425 643,-425 637,-419 637,-413 637,-413 637,-354 637,-354 637,-348 643,-342 649,-342 649,-342 737,-342 737,-342 743,-342 749,-348 749,-354 749,-354 749,-413 749,-413 749,-419 743,-425 737,-425\"/>\n",
       "<text text-anchor=\"middle\" x=\"693\" y=\"-409.8\" font-family=\"Helvetica,sans-Serif\" font-size=\"14.00\" fill=\"#000000\">Age &lt;= 32.5</text>\n",
       "<text text-anchor=\"middle\" x=\"693\" y=\"-394.8\" font-family=\"Helvetica,sans-Serif\" font-size=\"14.00\" fill=\"#000000\">gini = 0.122</text>\n",
       "<text text-anchor=\"middle\" x=\"693\" y=\"-379.8\" font-family=\"Helvetica,sans-Serif\" font-size=\"14.00\" fill=\"#000000\">samples = 13344</text>\n",
       "<text text-anchor=\"middle\" x=\"693\" y=\"-364.8\" font-family=\"Helvetica,sans-Serif\" font-size=\"14.00\" fill=\"#000000\">value = [12471, 873]</text>\n",
       "<text text-anchor=\"middle\" x=\"693\" y=\"-349.8\" font-family=\"Helvetica,sans-Serif\" font-size=\"14.00\" fill=\"#000000\">class = &lt;=50K</text>\n",
       "</g>\n",
       "<!-- 1&#45;&gt;2 -->\n",
       "<g id=\"edge2\" class=\"edge\">\n",
       "<title>1&#45;&gt;2</title>\n",
       "<path fill=\"none\" stroke=\"#000000\" d=\"M1288.7794,-490.4348C1161.3702,-467.5664 886.1611,-418.1699 759.3941,-395.4169\"/>\n",
       "<polygon fill=\"#000000\" stroke=\"#000000\" points=\"759.8886,-391.9498 749.4275,-393.628 758.6519,-398.8397 759.8886,-391.9498\"/>\n",
       "</g>\n",
       "<!-- 17 -->\n",
       "<g id=\"node18\" class=\"node\">\n",
       "<title>17</title>\n",
       "<path fill=\"none\" stroke=\"#000000\" d=\"M1430,-425C1430,-425 1282,-425 1282,-425 1276,-425 1270,-419 1270,-413 1270,-413 1270,-354 1270,-354 1270,-348 1276,-342 1282,-342 1282,-342 1430,-342 1430,-342 1436,-342 1442,-348 1442,-354 1442,-354 1442,-413 1442,-413 1442,-419 1436,-425 1430,-425\"/>\n",
       "<text text-anchor=\"middle\" x=\"1356\" y=\"-409.8\" font-family=\"Helvetica,sans-Serif\" font-size=\"14.00\" fill=\"#000000\">Occupation_Prof&#45;specialty &lt;= 0.5</text>\n",
       "<text text-anchor=\"middle\" x=\"1356\" y=\"-394.8\" font-family=\"Helvetica,sans-Serif\" font-size=\"14.00\" fill=\"#000000\">gini = 0.498</text>\n",
       "<text text-anchor=\"middle\" x=\"1356\" y=\"-379.8\" font-family=\"Helvetica,sans-Serif\" font-size=\"14.00\" fill=\"#000000\">samples = 1165</text>\n",
       "<text text-anchor=\"middle\" x=\"1356\" y=\"-364.8\" font-family=\"Helvetica,sans-Serif\" font-size=\"14.00\" fill=\"#000000\">value = [623, 542]</text>\n",
       "<text text-anchor=\"middle\" x=\"1356\" y=\"-349.8\" font-family=\"Helvetica,sans-Serif\" font-size=\"14.00\" fill=\"#000000\">class = &lt;=50K</text>\n",
       "</g>\n",
       "<!-- 1&#45;&gt;17 -->\n",
       "<g id=\"edge17\" class=\"edge\">\n",
       "<title>1&#45;&gt;17</title>\n",
       "<path fill=\"none\" stroke=\"#000000\" d=\"M1356,-460.8796C1356,-452.6838 1356,-443.9891 1356,-435.5013\"/>\n",
       "<polygon fill=\"#000000\" stroke=\"#000000\" points=\"1359.5001,-435.298 1356,-425.2981 1352.5001,-435.2981 1359.5001,-435.298\"/>\n",
       "</g>\n",
       "<!-- 3 -->\n",
       "<g id=\"node4\" class=\"node\">\n",
       "<title>3</title>\n",
       "<path fill=\"none\" stroke=\"#000000\" d=\"M390,-306C390,-306 308,-306 308,-306 302,-306 296,-300 296,-294 296,-294 296,-235 296,-235 296,-229 302,-223 308,-223 308,-223 390,-223 390,-223 396,-223 402,-229 402,-235 402,-235 402,-294 402,-294 402,-300 396,-306 390,-306\"/>\n",
       "<text text-anchor=\"middle\" x=\"349\" y=\"-290.8\" font-family=\"Helvetica,sans-Serif\" font-size=\"14.00\" fill=\"#000000\">Age &lt;= 27.5</text>\n",
       "<text text-anchor=\"middle\" x=\"349\" y=\"-275.8\" font-family=\"Helvetica,sans-Serif\" font-size=\"14.00\" fill=\"#000000\">gini = 0.043</text>\n",
       "<text text-anchor=\"middle\" x=\"349\" y=\"-260.8\" font-family=\"Helvetica,sans-Serif\" font-size=\"14.00\" fill=\"#000000\">samples = 6973</text>\n",
       "<text text-anchor=\"middle\" x=\"349\" y=\"-245.8\" font-family=\"Helvetica,sans-Serif\" font-size=\"14.00\" fill=\"#000000\">value = [6821, 152]</text>\n",
       "<text text-anchor=\"middle\" x=\"349\" y=\"-230.8\" font-family=\"Helvetica,sans-Serif\" font-size=\"14.00\" fill=\"#000000\">class = &lt;=50K</text>\n",
       "</g>\n",
       "<!-- 2&#45;&gt;3 -->\n",
       "<g id=\"edge3\" class=\"edge\">\n",
       "<title>2&#45;&gt;3</title>\n",
       "<path fill=\"none\" stroke=\"#000000\" d=\"M636.9648,-364.1157C575.214,-342.7542 476.1359,-308.4801 411.8054,-286.2263\"/>\n",
       "<polygon fill=\"#000000\" stroke=\"#000000\" points=\"412.7775,-282.8591 402.1827,-282.8975 410.489,-289.4745 412.7775,-282.8591\"/>\n",
       "</g>\n",
       "<!-- 10 -->\n",
       "<g id=\"node11\" class=\"node\">\n",
       "<title>10</title>\n",
       "<path fill=\"none\" stroke=\"#000000\" d=\"M767,-306C767,-306 619,-306 619,-306 613,-306 607,-300 607,-294 607,-294 607,-235 607,-235 607,-229 613,-223 619,-223 619,-223 767,-223 767,-223 773,-223 779,-229 779,-235 779,-235 779,-294 779,-294 779,-300 773,-306 767,-306\"/>\n",
       "<text text-anchor=\"middle\" x=\"693\" y=\"-290.8\" font-family=\"Helvetica,sans-Serif\" font-size=\"14.00\" fill=\"#000000\">Occupation_Prof&#45;specialty &lt;= 0.5</text>\n",
       "<text text-anchor=\"middle\" x=\"693\" y=\"-275.8\" font-family=\"Helvetica,sans-Serif\" font-size=\"14.00\" fill=\"#000000\">gini = 0.201</text>\n",
       "<text text-anchor=\"middle\" x=\"693\" y=\"-260.8\" font-family=\"Helvetica,sans-Serif\" font-size=\"14.00\" fill=\"#000000\">samples = 6371</text>\n",
       "<text text-anchor=\"middle\" x=\"693\" y=\"-245.8\" font-family=\"Helvetica,sans-Serif\" font-size=\"14.00\" fill=\"#000000\">value = [5650, 721]</text>\n",
       "<text text-anchor=\"middle\" x=\"693\" y=\"-230.8\" font-family=\"Helvetica,sans-Serif\" font-size=\"14.00\" fill=\"#000000\">class = &lt;=50K</text>\n",
       "</g>\n",
       "<!-- 2&#45;&gt;10 -->\n",
       "<g id=\"edge10\" class=\"edge\">\n",
       "<title>2&#45;&gt;10</title>\n",
       "<path fill=\"none\" stroke=\"#000000\" d=\"M693,-341.8796C693,-333.6838 693,-324.9891 693,-316.5013\"/>\n",
       "<polygon fill=\"#000000\" stroke=\"#000000\" points=\"696.5001,-316.298 693,-306.2981 689.5001,-316.2981 696.5001,-316.298\"/>\n",
       "</g>\n",
       "<!-- 4 -->\n",
       "<g id=\"node5\" class=\"node\">\n",
       "<title>4</title>\n",
       "<path fill=\"none\" stroke=\"#000000\" d=\"M200,-187C200,-187 124,-187 124,-187 118,-187 112,-181 112,-175 112,-175 112,-116 112,-116 112,-110 118,-104 124,-104 124,-104 200,-104 200,-104 206,-104 212,-110 212,-116 212,-116 212,-175 212,-175 212,-181 206,-187 200,-187\"/>\n",
       "<text text-anchor=\"middle\" x=\"162\" y=\"-171.8\" font-family=\"Helvetica,sans-Serif\" font-size=\"14.00\" fill=\"#000000\">Age &lt;= 21.5</text>\n",
       "<text text-anchor=\"middle\" x=\"162\" y=\"-156.8\" font-family=\"Helvetica,sans-Serif\" font-size=\"14.00\" fill=\"#000000\">gini = 0.02</text>\n",
       "<text text-anchor=\"middle\" x=\"162\" y=\"-141.8\" font-family=\"Helvetica,sans-Serif\" font-size=\"14.00\" fill=\"#000000\">samples = 5150</text>\n",
       "<text text-anchor=\"middle\" x=\"162\" y=\"-126.8\" font-family=\"Helvetica,sans-Serif\" font-size=\"14.00\" fill=\"#000000\">value = [5098, 52]</text>\n",
       "<text text-anchor=\"middle\" x=\"162\" y=\"-111.8\" font-family=\"Helvetica,sans-Serif\" font-size=\"14.00\" fill=\"#000000\">class = &lt;=50K</text>\n",
       "</g>\n",
       "<!-- 3&#45;&gt;4 -->\n",
       "<g id=\"edge4\" class=\"edge\">\n",
       "<title>3&#45;&gt;4</title>\n",
       "<path fill=\"none\" stroke=\"#000000\" d=\"M295.9135,-230.7177C272.4483,-215.7853 244.7779,-198.1768 220.6992,-182.854\"/>\n",
       "<polygon fill=\"#000000\" stroke=\"#000000\" points=\"222.3208,-179.7374 212.0051,-177.3214 218.5626,-185.643 222.3208,-179.7374\"/>\n",
       "</g>\n",
       "<!-- 7 -->\n",
       "<g id=\"node8\" class=\"node\">\n",
       "<title>7</title>\n",
       "<path fill=\"none\" stroke=\"#000000\" d=\"M411,-187C411,-187 287,-187 287,-187 281,-187 275,-181 275,-175 275,-175 275,-116 275,-116 275,-110 281,-104 287,-104 287,-104 411,-104 411,-104 417,-104 423,-110 423,-116 423,-116 423,-175 423,-175 423,-181 417,-187 411,-187\"/>\n",
       "<text text-anchor=\"middle\" x=\"349\" y=\"-171.8\" font-family=\"Helvetica,sans-Serif\" font-size=\"14.00\" fill=\"#000000\">Education_Bachelors &lt;= 0.5</text>\n",
       "<text text-anchor=\"middle\" x=\"349\" y=\"-156.8\" font-family=\"Helvetica,sans-Serif\" font-size=\"14.00\" fill=\"#000000\">gini = 0.104</text>\n",
       "<text text-anchor=\"middle\" x=\"349\" y=\"-141.8\" font-family=\"Helvetica,sans-Serif\" font-size=\"14.00\" fill=\"#000000\">samples = 1823</text>\n",
       "<text text-anchor=\"middle\" x=\"349\" y=\"-126.8\" font-family=\"Helvetica,sans-Serif\" font-size=\"14.00\" fill=\"#000000\">value = [1723, 100]</text>\n",
       "<text text-anchor=\"middle\" x=\"349\" y=\"-111.8\" font-family=\"Helvetica,sans-Serif\" font-size=\"14.00\" fill=\"#000000\">class = &lt;=50K</text>\n",
       "</g>\n",
       "<!-- 3&#45;&gt;7 -->\n",
       "<g id=\"edge7\" class=\"edge\">\n",
       "<title>3&#45;&gt;7</title>\n",
       "<path fill=\"none\" stroke=\"#000000\" d=\"M349,-222.8796C349,-214.6838 349,-205.9891 349,-197.5013\"/>\n",
       "<polygon fill=\"#000000\" stroke=\"#000000\" points=\"352.5001,-197.298 349,-187.2981 345.5001,-197.2981 352.5001,-197.298\"/>\n",
       "</g>\n",
       "<!-- 5 -->\n",
       "<g id=\"node6\" class=\"node\">\n",
       "<title>5</title>\n",
       "<path fill=\"none\" stroke=\"#000000\" d=\"M82,-68C82,-68 12,-68 12,-68 6,-68 0,-62 0,-56 0,-56 0,-12 0,-12 0,-6 6,0 12,0 12,0 82,0 82,0 88,0 94,-6 94,-12 94,-12 94,-56 94,-56 94,-62 88,-68 82,-68\"/>\n",
       "<text text-anchor=\"middle\" x=\"47\" y=\"-52.8\" font-family=\"Helvetica,sans-Serif\" font-size=\"14.00\" fill=\"#000000\">gini = 0.001</text>\n",
       "<text text-anchor=\"middle\" x=\"47\" y=\"-37.8\" font-family=\"Helvetica,sans-Serif\" font-size=\"14.00\" fill=\"#000000\">samples = 2266</text>\n",
       "<text text-anchor=\"middle\" x=\"47\" y=\"-22.8\" font-family=\"Helvetica,sans-Serif\" font-size=\"14.00\" fill=\"#000000\">value = [2265, 1]</text>\n",
       "<text text-anchor=\"middle\" x=\"47\" y=\"-7.8\" font-family=\"Helvetica,sans-Serif\" font-size=\"14.00\" fill=\"#000000\">class = &lt;=50K</text>\n",
       "</g>\n",
       "<!-- 4&#45;&gt;5 -->\n",
       "<g id=\"edge5\" class=\"edge\">\n",
       "<title>4&#45;&gt;5</title>\n",
       "<path fill=\"none\" stroke=\"#000000\" d=\"M119.1782,-103.9815C109.5095,-94.607 99.2473,-84.6572 89.5882,-75.2921\"/>\n",
       "<polygon fill=\"#000000\" stroke=\"#000000\" points=\"91.9551,-72.7118 82.3392,-68.2637 87.0824,-77.7375 91.9551,-72.7118\"/>\n",
       "</g>\n",
       "<!-- 6 -->\n",
       "<g id=\"node7\" class=\"node\">\n",
       "<title>6</title>\n",
       "<path fill=\"none\" stroke=\"#000000\" d=\"M200,-68C200,-68 124,-68 124,-68 118,-68 112,-62 112,-56 112,-56 112,-12 112,-12 112,-6 118,0 124,0 124,0 200,0 200,0 206,0 212,-6 212,-12 212,-12 212,-56 212,-56 212,-62 206,-68 200,-68\"/>\n",
       "<text text-anchor=\"middle\" x=\"162\" y=\"-52.8\" font-family=\"Helvetica,sans-Serif\" font-size=\"14.00\" fill=\"#000000\">gini = 0.035</text>\n",
       "<text text-anchor=\"middle\" x=\"162\" y=\"-37.8\" font-family=\"Helvetica,sans-Serif\" font-size=\"14.00\" fill=\"#000000\">samples = 2884</text>\n",
       "<text text-anchor=\"middle\" x=\"162\" y=\"-22.8\" font-family=\"Helvetica,sans-Serif\" font-size=\"14.00\" fill=\"#000000\">value = [2833, 51]</text>\n",
       "<text text-anchor=\"middle\" x=\"162\" y=\"-7.8\" font-family=\"Helvetica,sans-Serif\" font-size=\"14.00\" fill=\"#000000\">class = &lt;=50K</text>\n",
       "</g>\n",
       "<!-- 4&#45;&gt;6 -->\n",
       "<g id=\"edge6\" class=\"edge\">\n",
       "<title>4&#45;&gt;6</title>\n",
       "<path fill=\"none\" stroke=\"#000000\" d=\"M162,-103.9815C162,-95.618 162,-86.7965 162,-78.3409\"/>\n",
       "<polygon fill=\"#000000\" stroke=\"#000000\" points=\"165.5001,-78.2636 162,-68.2637 158.5001,-78.2637 165.5001,-78.2636\"/>\n",
       "</g>\n",
       "<!-- 8 -->\n",
       "<g id=\"node9\" class=\"node\">\n",
       "<title>8</title>\n",
       "<path fill=\"none\" stroke=\"#000000\" d=\"M318,-68C318,-68 242,-68 242,-68 236,-68 230,-62 230,-56 230,-56 230,-12 230,-12 230,-6 236,0 242,0 242,0 318,0 318,0 324,0 330,-6 330,-12 330,-12 330,-56 330,-56 330,-62 324,-68 318,-68\"/>\n",
       "<text text-anchor=\"middle\" x=\"280\" y=\"-52.8\" font-family=\"Helvetica,sans-Serif\" font-size=\"14.00\" fill=\"#000000\">gini = 0.065</text>\n",
       "<text text-anchor=\"middle\" x=\"280\" y=\"-37.8\" font-family=\"Helvetica,sans-Serif\" font-size=\"14.00\" fill=\"#000000\">samples = 1487</text>\n",
       "<text text-anchor=\"middle\" x=\"280\" y=\"-22.8\" font-family=\"Helvetica,sans-Serif\" font-size=\"14.00\" fill=\"#000000\">value = [1437, 50]</text>\n",
       "<text text-anchor=\"middle\" x=\"280\" y=\"-7.8\" font-family=\"Helvetica,sans-Serif\" font-size=\"14.00\" fill=\"#000000\">class = &lt;=50K</text>\n",
       "</g>\n",
       "<!-- 7&#45;&gt;8 -->\n",
       "<g id=\"edge8\" class=\"edge\">\n",
       "<title>7&#45;&gt;8</title>\n",
       "<path fill=\"none\" stroke=\"#000000\" d=\"M323.3069,-103.9815C317.8469,-95.1585 312.0716,-85.8258 306.5793,-76.9506\"/>\n",
       "<polygon fill=\"#000000\" stroke=\"#000000\" points=\"309.442,-74.9254 301.2035,-68.2637 303.4896,-78.609 309.442,-74.9254\"/>\n",
       "</g>\n",
       "<!-- 9 -->\n",
       "<g id=\"node10\" class=\"node\">\n",
       "<title>9</title>\n",
       "<path fill=\"none\" stroke=\"#000000\" d=\"M430,-68C430,-68 360,-68 360,-68 354,-68 348,-62 348,-56 348,-56 348,-12 348,-12 348,-6 354,0 360,0 360,0 430,0 430,0 436,0 442,-6 442,-12 442,-12 442,-56 442,-56 442,-62 436,-68 430,-68\"/>\n",
       "<text text-anchor=\"middle\" x=\"395\" y=\"-52.8\" font-family=\"Helvetica,sans-Serif\" font-size=\"14.00\" fill=\"#000000\">gini = 0.253</text>\n",
       "<text text-anchor=\"middle\" x=\"395\" y=\"-37.8\" font-family=\"Helvetica,sans-Serif\" font-size=\"14.00\" fill=\"#000000\">samples = 336</text>\n",
       "<text text-anchor=\"middle\" x=\"395\" y=\"-22.8\" font-family=\"Helvetica,sans-Serif\" font-size=\"14.00\" fill=\"#000000\">value = [286, 50]</text>\n",
       "<text text-anchor=\"middle\" x=\"395\" y=\"-7.8\" font-family=\"Helvetica,sans-Serif\" font-size=\"14.00\" fill=\"#000000\">class = &lt;=50K</text>\n",
       "</g>\n",
       "<!-- 7&#45;&gt;9 -->\n",
       "<g id=\"edge9\" class=\"edge\">\n",
       "<title>7&#45;&gt;9</title>\n",
       "<path fill=\"none\" stroke=\"#000000\" d=\"M366.1287,-103.9815C369.655,-95.4342 373.3785,-86.4086 376.9367,-77.7839\"/>\n",
       "<polygon fill=\"#000000\" stroke=\"#000000\" points=\"380.286,-78.8427 380.8643,-68.2637 373.815,-76.1731 380.286,-78.8427\"/>\n",
       "</g>\n",
       "<!-- 11 -->\n",
       "<g id=\"node12\" class=\"node\">\n",
       "<title>11</title>\n",
       "<path fill=\"none\" stroke=\"#000000\" d=\"M691.5,-187C691.5,-187 528.5,-187 528.5,-187 522.5,-187 516.5,-181 516.5,-175 516.5,-175 516.5,-116 516.5,-116 516.5,-110 522.5,-104 528.5,-104 528.5,-104 691.5,-104 691.5,-104 697.5,-104 703.5,-110 703.5,-116 703.5,-116 703.5,-175 703.5,-175 703.5,-181 697.5,-187 691.5,-187\"/>\n",
       "<text text-anchor=\"middle\" x=\"610\" y=\"-171.8\" font-family=\"Helvetica,sans-Serif\" font-size=\"14.00\" fill=\"#000000\">Occupation_Exec&#45;managerial &lt;= 0.5</text>\n",
       "<text text-anchor=\"middle\" x=\"610\" y=\"-156.8\" font-family=\"Helvetica,sans-Serif\" font-size=\"14.00\" fill=\"#000000\">gini = 0.166</text>\n",
       "<text text-anchor=\"middle\" x=\"610\" y=\"-141.8\" font-family=\"Helvetica,sans-Serif\" font-size=\"14.00\" fill=\"#000000\">samples = 5484</text>\n",
       "<text text-anchor=\"middle\" x=\"610\" y=\"-126.8\" font-family=\"Helvetica,sans-Serif\" font-size=\"14.00\" fill=\"#000000\">value = [4984, 500]</text>\n",
       "<text text-anchor=\"middle\" x=\"610\" y=\"-111.8\" font-family=\"Helvetica,sans-Serif\" font-size=\"14.00\" fill=\"#000000\">class = &lt;=50K</text>\n",
       "</g>\n",
       "<!-- 10&#45;&gt;11 -->\n",
       "<g id=\"edge11\" class=\"edge\">\n",
       "<title>10&#45;&gt;11</title>\n",
       "<path fill=\"none\" stroke=\"#000000\" d=\"M663.9706,-222.8796C657.8145,-214.0534 651.2549,-204.6485 644.9064,-195.5466\"/>\n",
       "<polygon fill=\"#000000\" stroke=\"#000000\" points=\"647.7448,-193.4978 639.1533,-187.2981 642.0033,-197.5024 647.7448,-193.4978\"/>\n",
       "</g>\n",
       "<!-- 14 -->\n",
       "<g id=\"node15\" class=\"node\">\n",
       "<title>14</title>\n",
       "<path fill=\"none\" stroke=\"#000000\" d=\"M818,-187C818,-187 734,-187 734,-187 728,-187 722,-181 722,-175 722,-175 722,-116 722,-116 722,-110 728,-104 734,-104 734,-104 818,-104 818,-104 824,-104 830,-110 830,-116 830,-116 830,-175 830,-175 830,-181 824,-187 818,-187\"/>\n",
       "<text text-anchor=\"middle\" x=\"776\" y=\"-171.8\" font-family=\"Helvetica,sans-Serif\" font-size=\"14.00\" fill=\"#000000\">Sex_Female &lt;= 0.5</text>\n",
       "<text text-anchor=\"middle\" x=\"776\" y=\"-156.8\" font-family=\"Helvetica,sans-Serif\" font-size=\"14.00\" fill=\"#000000\">gini = 0.374</text>\n",
       "<text text-anchor=\"middle\" x=\"776\" y=\"-141.8\" font-family=\"Helvetica,sans-Serif\" font-size=\"14.00\" fill=\"#000000\">samples = 887</text>\n",
       "<text text-anchor=\"middle\" x=\"776\" y=\"-126.8\" font-family=\"Helvetica,sans-Serif\" font-size=\"14.00\" fill=\"#000000\">value = [666, 221]</text>\n",
       "<text text-anchor=\"middle\" x=\"776\" y=\"-111.8\" font-family=\"Helvetica,sans-Serif\" font-size=\"14.00\" fill=\"#000000\">class = &lt;=50K</text>\n",
       "</g>\n",
       "<!-- 10&#45;&gt;14 -->\n",
       "<g id=\"edge14\" class=\"edge\">\n",
       "<title>10&#45;&gt;14</title>\n",
       "<path fill=\"none\" stroke=\"#000000\" d=\"M722.0294,-222.8796C728.1855,-214.0534 734.7451,-204.6485 741.0936,-195.5466\"/>\n",
       "<polygon fill=\"#000000\" stroke=\"#000000\" points=\"743.9967,-197.5024 746.8467,-187.2981 738.2552,-193.4978 743.9967,-197.5024\"/>\n",
       "</g>\n",
       "<!-- 12 -->\n",
       "<g id=\"node13\" class=\"node\">\n",
       "<title>12</title>\n",
       "<path fill=\"none\" stroke=\"#000000\" d=\"M554,-68C554,-68 472,-68 472,-68 466,-68 460,-62 460,-56 460,-56 460,-12 460,-12 460,-6 466,0 472,0 472,0 554,0 554,0 560,0 566,-6 566,-12 566,-12 566,-56 566,-56 566,-62 560,-68 554,-68\"/>\n",
       "<text text-anchor=\"middle\" x=\"513\" y=\"-52.8\" font-family=\"Helvetica,sans-Serif\" font-size=\"14.00\" fill=\"#000000\">gini = 0.123</text>\n",
       "<text text-anchor=\"middle\" x=\"513\" y=\"-37.8\" font-family=\"Helvetica,sans-Serif\" font-size=\"14.00\" fill=\"#000000\">samples = 4693</text>\n",
       "<text text-anchor=\"middle\" x=\"513\" y=\"-22.8\" font-family=\"Helvetica,sans-Serif\" font-size=\"14.00\" fill=\"#000000\">value = [4385, 308]</text>\n",
       "<text text-anchor=\"middle\" x=\"513\" y=\"-7.8\" font-family=\"Helvetica,sans-Serif\" font-size=\"14.00\" fill=\"#000000\">class = &lt;=50K</text>\n",
       "</g>\n",
       "<!-- 11&#45;&gt;12 -->\n",
       "<g id=\"edge12\" class=\"edge\">\n",
       "<title>11&#45;&gt;12</title>\n",
       "<path fill=\"none\" stroke=\"#000000\" d=\"M573.8808,-103.9815C565.8853,-94.7908 557.4087,-85.0472 549.4021,-75.8436\"/>\n",
       "<polygon fill=\"#000000\" stroke=\"#000000\" points=\"552.012,-73.5111 542.8079,-68.2637 546.7307,-78.1055 552.012,-73.5111\"/>\n",
       "</g>\n",
       "<!-- 13 -->\n",
       "<g id=\"node14\" class=\"node\">\n",
       "<title>13</title>\n",
       "<path fill=\"none\" stroke=\"#000000\" d=\"M672,-68C672,-68 596,-68 596,-68 590,-68 584,-62 584,-56 584,-56 584,-12 584,-12 584,-6 590,0 596,0 596,0 672,0 672,0 678,0 684,-6 684,-12 684,-12 684,-56 684,-56 684,-62 678,-68 672,-68\"/>\n",
       "<text text-anchor=\"middle\" x=\"634\" y=\"-52.8\" font-family=\"Helvetica,sans-Serif\" font-size=\"14.00\" fill=\"#000000\">gini = 0.368</text>\n",
       "<text text-anchor=\"middle\" x=\"634\" y=\"-37.8\" font-family=\"Helvetica,sans-Serif\" font-size=\"14.00\" fill=\"#000000\">samples = 791</text>\n",
       "<text text-anchor=\"middle\" x=\"634\" y=\"-22.8\" font-family=\"Helvetica,sans-Serif\" font-size=\"14.00\" fill=\"#000000\">value = [599, 192]</text>\n",
       "<text text-anchor=\"middle\" x=\"634\" y=\"-7.8\" font-family=\"Helvetica,sans-Serif\" font-size=\"14.00\" fill=\"#000000\">class = &lt;=50K</text>\n",
       "</g>\n",
       "<!-- 11&#45;&gt;13 -->\n",
       "<g id=\"edge13\" class=\"edge\">\n",
       "<title>11&#45;&gt;13</title>\n",
       "<path fill=\"none\" stroke=\"#000000\" d=\"M618.9367,-103.9815C620.7567,-95.5261 622.6775,-86.6026 624.5157,-78.0623\"/>\n",
       "<polygon fill=\"#000000\" stroke=\"#000000\" points=\"627.9421,-78.7763 626.6249,-68.2637 621.0989,-77.3032 627.9421,-78.7763\"/>\n",
       "</g>\n",
       "<!-- 15 -->\n",
       "<g id=\"node16\" class=\"node\">\n",
       "<title>15</title>\n",
       "<path fill=\"none\" stroke=\"#000000\" d=\"M790,-68C790,-68 714,-68 714,-68 708,-68 702,-62 702,-56 702,-56 702,-12 702,-12 702,-6 708,0 714,0 714,0 790,0 790,0 796,0 802,-6 802,-12 802,-12 802,-56 802,-56 802,-62 796,-68 790,-68\"/>\n",
       "<text text-anchor=\"middle\" x=\"752\" y=\"-52.8\" font-family=\"Helvetica,sans-Serif\" font-size=\"14.00\" fill=\"#000000\">gini = 0.47</text>\n",
       "<text text-anchor=\"middle\" x=\"752\" y=\"-37.8\" font-family=\"Helvetica,sans-Serif\" font-size=\"14.00\" fill=\"#000000\">samples = 313</text>\n",
       "<text text-anchor=\"middle\" x=\"752\" y=\"-22.8\" font-family=\"Helvetica,sans-Serif\" font-size=\"14.00\" fill=\"#000000\">value = [195, 118]</text>\n",
       "<text text-anchor=\"middle\" x=\"752\" y=\"-7.8\" font-family=\"Helvetica,sans-Serif\" font-size=\"14.00\" fill=\"#000000\">class = &lt;=50K</text>\n",
       "</g>\n",
       "<!-- 14&#45;&gt;15 -->\n",
       "<g id=\"edge15\" class=\"edge\">\n",
       "<title>14&#45;&gt;15</title>\n",
       "<path fill=\"none\" stroke=\"#000000\" d=\"M767.0633,-103.9815C765.2433,-95.5261 763.3225,-86.6026 761.4843,-78.0623\"/>\n",
       "<polygon fill=\"#000000\" stroke=\"#000000\" points=\"764.9011,-77.3032 759.3751,-68.2637 758.0579,-78.7763 764.9011,-77.3032\"/>\n",
       "</g>\n",
       "<!-- 16 -->\n",
       "<g id=\"node17\" class=\"node\">\n",
       "<title>16</title>\n",
       "<path fill=\"none\" stroke=\"#000000\" d=\"M908,-68C908,-68 832,-68 832,-68 826,-68 820,-62 820,-56 820,-56 820,-12 820,-12 820,-6 826,0 832,0 832,0 908,0 908,0 914,0 920,-6 920,-12 920,-12 920,-56 920,-56 920,-62 914,-68 908,-68\"/>\n",
       "<text text-anchor=\"middle\" x=\"870\" y=\"-52.8\" font-family=\"Helvetica,sans-Serif\" font-size=\"14.00\" fill=\"#000000\">gini = 0.294</text>\n",
       "<text text-anchor=\"middle\" x=\"870\" y=\"-37.8\" font-family=\"Helvetica,sans-Serif\" font-size=\"14.00\" fill=\"#000000\">samples = 574</text>\n",
       "<text text-anchor=\"middle\" x=\"870\" y=\"-22.8\" font-family=\"Helvetica,sans-Serif\" font-size=\"14.00\" fill=\"#000000\">value = [471, 103]</text>\n",
       "<text text-anchor=\"middle\" x=\"870\" y=\"-7.8\" font-family=\"Helvetica,sans-Serif\" font-size=\"14.00\" fill=\"#000000\">class = &lt;=50K</text>\n",
       "</g>\n",
       "<!-- 14&#45;&gt;16 -->\n",
       "<g id=\"edge16\" class=\"edge\">\n",
       "<title>14&#45;&gt;16</title>\n",
       "<path fill=\"none\" stroke=\"#000000\" d=\"M811.0021,-103.9815C818.6728,-94.8828 826.8005,-85.242 834.4909,-76.1199\"/>\n",
       "<polygon fill=\"#000000\" stroke=\"#000000\" points=\"837.3444,-78.1652 841.114,-68.2637 831.9925,-73.6533 837.3444,-78.1652\"/>\n",
       "</g>\n",
       "<!-- 18 -->\n",
       "<g id=\"node19\" class=\"node\">\n",
       "<title>18</title>\n",
       "<path fill=\"none\" stroke=\"#000000\" d=\"M1338.5,-306C1338.5,-306 1175.5,-306 1175.5,-306 1169.5,-306 1163.5,-300 1163.5,-294 1163.5,-294 1163.5,-235 1163.5,-235 1163.5,-229 1169.5,-223 1175.5,-223 1175.5,-223 1338.5,-223 1338.5,-223 1344.5,-223 1350.5,-229 1350.5,-235 1350.5,-235 1350.5,-294 1350.5,-294 1350.5,-300 1344.5,-306 1338.5,-306\"/>\n",
       "<text text-anchor=\"middle\" x=\"1257\" y=\"-290.8\" font-family=\"Helvetica,sans-Serif\" font-size=\"14.00\" fill=\"#000000\">Occupation_Exec&#45;managerial &lt;= 0.5</text>\n",
       "<text text-anchor=\"middle\" x=\"1257\" y=\"-275.8\" font-family=\"Helvetica,sans-Serif\" font-size=\"14.00\" fill=\"#000000\">gini = 0.481</text>\n",
       "<text text-anchor=\"middle\" x=\"1257\" y=\"-260.8\" font-family=\"Helvetica,sans-Serif\" font-size=\"14.00\" fill=\"#000000\">samples = 944</text>\n",
       "<text text-anchor=\"middle\" x=\"1257\" y=\"-245.8\" font-family=\"Helvetica,sans-Serif\" font-size=\"14.00\" fill=\"#000000\">value = [563, 381]</text>\n",
       "<text text-anchor=\"middle\" x=\"1257\" y=\"-230.8\" font-family=\"Helvetica,sans-Serif\" font-size=\"14.00\" fill=\"#000000\">class = &lt;=50K</text>\n",
       "</g>\n",
       "<!-- 17&#45;&gt;18 -->\n",
       "<g id=\"edge18\" class=\"edge\">\n",
       "<title>17&#45;&gt;18</title>\n",
       "<path fill=\"none\" stroke=\"#000000\" d=\"M1321.3746,-341.8796C1313.882,-332.8733 1305.8881,-323.2644 1298.1721,-313.9897\"/>\n",
       "<polygon fill=\"#000000\" stroke=\"#000000\" points=\"1300.8593,-311.7472 1291.7732,-306.2981 1295.4781,-316.224 1300.8593,-311.7472\"/>\n",
       "</g>\n",
       "<!-- 25 -->\n",
       "<g id=\"node26\" class=\"node\">\n",
       "<title>25</title>\n",
       "<path fill=\"none\" stroke=\"#000000\" d=\"M1514.5,-306C1514.5,-306 1397.5,-306 1397.5,-306 1391.5,-306 1385.5,-300 1385.5,-294 1385.5,-294 1385.5,-235 1385.5,-235 1385.5,-229 1391.5,-223 1397.5,-223 1397.5,-223 1514.5,-223 1514.5,-223 1520.5,-223 1526.5,-229 1526.5,-235 1526.5,-235 1526.5,-294 1526.5,-294 1526.5,-300 1520.5,-306 1514.5,-306\"/>\n",
       "<text text-anchor=\"middle\" x=\"1456\" y=\"-290.8\" font-family=\"Helvetica,sans-Serif\" font-size=\"14.00\" fill=\"#000000\">Education_HS&#45;grad &lt;= 0.5</text>\n",
       "<text text-anchor=\"middle\" x=\"1456\" y=\"-275.8\" font-family=\"Helvetica,sans-Serif\" font-size=\"14.00\" fill=\"#000000\">gini = 0.396</text>\n",
       "<text text-anchor=\"middle\" x=\"1456\" y=\"-260.8\" font-family=\"Helvetica,sans-Serif\" font-size=\"14.00\" fill=\"#000000\">samples = 221</text>\n",
       "<text text-anchor=\"middle\" x=\"1456\" y=\"-245.8\" font-family=\"Helvetica,sans-Serif\" font-size=\"14.00\" fill=\"#000000\">value = [60, 161]</text>\n",
       "<text text-anchor=\"middle\" x=\"1456\" y=\"-230.8\" font-family=\"Helvetica,sans-Serif\" font-size=\"14.00\" fill=\"#000000\">class = &lt;=50K</text>\n",
       "</g>\n",
       "<!-- 17&#45;&gt;25 -->\n",
       "<g id=\"edge25\" class=\"edge\">\n",
       "<title>17&#45;&gt;25</title>\n",
       "<path fill=\"none\" stroke=\"#000000\" d=\"M1390.9751,-341.8796C1398.5435,-332.8733 1406.6181,-323.2644 1414.412,-313.9897\"/>\n",
       "<polygon fill=\"#000000\" stroke=\"#000000\" points=\"1417.1216,-316.2056 1420.8756,-306.2981 1411.7626,-311.7022 1417.1216,-316.2056\"/>\n",
       "</g>\n",
       "<!-- 19 -->\n",
       "<g id=\"node20\" class=\"node\">\n",
       "<title>19</title>\n",
       "<path fill=\"none\" stroke=\"#000000\" d=\"M1163,-187C1163,-187 1039,-187 1039,-187 1033,-187 1027,-181 1027,-175 1027,-175 1027,-116 1027,-116 1027,-110 1033,-104 1039,-104 1039,-104 1163,-104 1163,-104 1169,-104 1175,-110 1175,-116 1175,-116 1175,-175 1175,-175 1175,-181 1169,-187 1163,-187\"/>\n",
       "<text text-anchor=\"middle\" x=\"1101\" y=\"-171.8\" font-family=\"Helvetica,sans-Serif\" font-size=\"14.00\" fill=\"#000000\">Education_Bachelors &lt;= 0.5</text>\n",
       "<text text-anchor=\"middle\" x=\"1101\" y=\"-156.8\" font-family=\"Helvetica,sans-Serif\" font-size=\"14.00\" fill=\"#000000\">gini = 0.453</text>\n",
       "<text text-anchor=\"middle\" x=\"1101\" y=\"-141.8\" font-family=\"Helvetica,sans-Serif\" font-size=\"14.00\" fill=\"#000000\">samples = 768</text>\n",
       "<text text-anchor=\"middle\" x=\"1101\" y=\"-126.8\" font-family=\"Helvetica,sans-Serif\" font-size=\"14.00\" fill=\"#000000\">value = [502, 266]</text>\n",
       "<text text-anchor=\"middle\" x=\"1101\" y=\"-111.8\" font-family=\"Helvetica,sans-Serif\" font-size=\"14.00\" fill=\"#000000\">class = &lt;=50K</text>\n",
       "</g>\n",
       "<!-- 18&#45;&gt;19 -->\n",
       "<g id=\"edge19\" class=\"edge\">\n",
       "<title>18&#45;&gt;19</title>\n",
       "<path fill=\"none\" stroke=\"#000000\" d=\"M1202.4388,-222.8796C1189.9698,-213.368 1176.6198,-203.1843 1163.8352,-193.432\"/>\n",
       "<polygon fill=\"#000000\" stroke=\"#000000\" points=\"1165.604,-190.3792 1155.5304,-187.0969 1161.3585,-195.9448 1165.604,-190.3792\"/>\n",
       "</g>\n",
       "<!-- 22 -->\n",
       "<g id=\"node23\" class=\"node\">\n",
       "<title>22</title>\n",
       "<path fill=\"none\" stroke=\"#000000\" d=\"M1292,-187C1292,-187 1222,-187 1222,-187 1216,-187 1210,-181 1210,-175 1210,-175 1210,-116 1210,-116 1210,-110 1216,-104 1222,-104 1222,-104 1292,-104 1292,-104 1298,-104 1304,-110 1304,-116 1304,-116 1304,-175 1304,-175 1304,-181 1298,-187 1292,-187\"/>\n",
       "<text text-anchor=\"middle\" x=\"1257\" y=\"-171.8\" font-family=\"Helvetica,sans-Serif\" font-size=\"14.00\" fill=\"#000000\">Age &lt;= 26.5</text>\n",
       "<text text-anchor=\"middle\" x=\"1257\" y=\"-156.8\" font-family=\"Helvetica,sans-Serif\" font-size=\"14.00\" fill=\"#000000\">gini = 0.453</text>\n",
       "<text text-anchor=\"middle\" x=\"1257\" y=\"-141.8\" font-family=\"Helvetica,sans-Serif\" font-size=\"14.00\" fill=\"#000000\">samples = 176</text>\n",
       "<text text-anchor=\"middle\" x=\"1257\" y=\"-126.8\" font-family=\"Helvetica,sans-Serif\" font-size=\"14.00\" fill=\"#000000\">value = [61, 115]</text>\n",
       "<text text-anchor=\"middle\" x=\"1257\" y=\"-111.8\" font-family=\"Helvetica,sans-Serif\" font-size=\"14.00\" fill=\"#000000\">class = &lt;=50K</text>\n",
       "</g>\n",
       "<!-- 18&#45;&gt;22 -->\n",
       "<g id=\"edge22\" class=\"edge\">\n",
       "<title>18&#45;&gt;22</title>\n",
       "<path fill=\"none\" stroke=\"#000000\" d=\"M1257,-222.8796C1257,-214.6838 1257,-205.9891 1257,-197.5013\"/>\n",
       "<polygon fill=\"#000000\" stroke=\"#000000\" points=\"1260.5001,-197.298 1257,-187.2981 1253.5001,-197.2981 1260.5001,-197.298\"/>\n",
       "</g>\n",
       "<!-- 20 -->\n",
       "<g id=\"node21\" class=\"node\">\n",
       "<title>20</title>\n",
       "<path fill=\"none\" stroke=\"#000000\" d=\"M1026,-68C1026,-68 950,-68 950,-68 944,-68 938,-62 938,-56 938,-56 938,-12 938,-12 938,-6 944,0 950,0 950,0 1026,0 1026,0 1032,0 1038,-6 1038,-12 1038,-12 1038,-56 1038,-56 1038,-62 1032,-68 1026,-68\"/>\n",
       "<text text-anchor=\"middle\" x=\"988\" y=\"-52.8\" font-family=\"Helvetica,sans-Serif\" font-size=\"14.00\" fill=\"#000000\">gini = 0.429</text>\n",
       "<text text-anchor=\"middle\" x=\"988\" y=\"-37.8\" font-family=\"Helvetica,sans-Serif\" font-size=\"14.00\" fill=\"#000000\">samples = 677</text>\n",
       "<text text-anchor=\"middle\" x=\"988\" y=\"-22.8\" font-family=\"Helvetica,sans-Serif\" font-size=\"14.00\" fill=\"#000000\">value = [466, 211]</text>\n",
       "<text text-anchor=\"middle\" x=\"988\" y=\"-7.8\" font-family=\"Helvetica,sans-Serif\" font-size=\"14.00\" fill=\"#000000\">class = &lt;=50K</text>\n",
       "</g>\n",
       "<!-- 19&#45;&gt;20 -->\n",
       "<g id=\"edge20\" class=\"edge\">\n",
       "<title>19&#45;&gt;20</title>\n",
       "<path fill=\"none\" stroke=\"#000000\" d=\"M1058.923,-103.9815C1049.4224,-94.607 1039.3387,-84.6572 1029.8476,-75.2921\"/>\n",
       "<polygon fill=\"#000000\" stroke=\"#000000\" points=\"1032.3011,-72.796 1022.7246,-68.2637 1027.3845,-77.7787 1032.3011,-72.796\"/>\n",
       "</g>\n",
       "<!-- 21 -->\n",
       "<g id=\"node22\" class=\"node\">\n",
       "<title>21</title>\n",
       "<path fill=\"none\" stroke=\"#000000\" d=\"M1133.5,-68C1133.5,-68 1068.5,-68 1068.5,-68 1062.5,-68 1056.5,-62 1056.5,-56 1056.5,-56 1056.5,-12 1056.5,-12 1056.5,-6 1062.5,0 1068.5,0 1068.5,0 1133.5,0 1133.5,0 1139.5,0 1145.5,-6 1145.5,-12 1145.5,-12 1145.5,-56 1145.5,-56 1145.5,-62 1139.5,-68 1133.5,-68\"/>\n",
       "<text text-anchor=\"middle\" x=\"1101\" y=\"-52.8\" font-family=\"Helvetica,sans-Serif\" font-size=\"14.00\" fill=\"#000000\">gini = 0.478</text>\n",
       "<text text-anchor=\"middle\" x=\"1101\" y=\"-37.8\" font-family=\"Helvetica,sans-Serif\" font-size=\"14.00\" fill=\"#000000\">samples = 91</text>\n",
       "<text text-anchor=\"middle\" x=\"1101\" y=\"-22.8\" font-family=\"Helvetica,sans-Serif\" font-size=\"14.00\" fill=\"#000000\">value = [36, 55]</text>\n",
       "<text text-anchor=\"middle\" x=\"1101\" y=\"-7.8\" font-family=\"Helvetica,sans-Serif\" font-size=\"14.00\" fill=\"#000000\">class = &lt;=50K</text>\n",
       "</g>\n",
       "<!-- 19&#45;&gt;21 -->\n",
       "<g id=\"edge21\" class=\"edge\">\n",
       "<title>19&#45;&gt;21</title>\n",
       "<path fill=\"none\" stroke=\"#000000\" d=\"M1101,-103.9815C1101,-95.618 1101,-86.7965 1101,-78.3409\"/>\n",
       "<polygon fill=\"#000000\" stroke=\"#000000\" points=\"1104.5001,-78.2636 1101,-68.2637 1097.5001,-78.2637 1104.5001,-78.2636\"/>\n",
       "</g>\n",
       "<!-- 23 -->\n",
       "<g id=\"node24\" class=\"node\">\n",
       "<title>23</title>\n",
       "<path fill=\"none\" stroke=\"#000000\" d=\"M1234.5,-68C1234.5,-68 1175.5,-68 1175.5,-68 1169.5,-68 1163.5,-62 1163.5,-56 1163.5,-56 1163.5,-12 1163.5,-12 1163.5,-6 1169.5,0 1175.5,0 1175.5,0 1234.5,0 1234.5,0 1240.5,0 1246.5,-6 1246.5,-12 1246.5,-12 1246.5,-56 1246.5,-56 1246.5,-62 1240.5,-68 1234.5,-68\"/>\n",
       "<text text-anchor=\"middle\" x=\"1205\" y=\"-52.8\" font-family=\"Helvetica,sans-Serif\" font-size=\"14.00\" fill=\"#000000\">gini = 0.278</text>\n",
       "<text text-anchor=\"middle\" x=\"1205\" y=\"-37.8\" font-family=\"Helvetica,sans-Serif\" font-size=\"14.00\" fill=\"#000000\">samples = 18</text>\n",
       "<text text-anchor=\"middle\" x=\"1205\" y=\"-22.8\" font-family=\"Helvetica,sans-Serif\" font-size=\"14.00\" fill=\"#000000\">value = [15, 3]</text>\n",
       "<text text-anchor=\"middle\" x=\"1205\" y=\"-7.8\" font-family=\"Helvetica,sans-Serif\" font-size=\"14.00\" fill=\"#000000\">class = &lt;=50K</text>\n",
       "</g>\n",
       "<!-- 22&#45;&gt;23 -->\n",
       "<g id=\"edge23\" class=\"edge\">\n",
       "<title>22&#45;&gt;23</title>\n",
       "<path fill=\"none\" stroke=\"#000000\" d=\"M1237.6371,-103.9815C1233.6081,-95.3423 1229.3511,-86.2144 1225.2897,-77.5059\"/>\n",
       "<polygon fill=\"#000000\" stroke=\"#000000\" points=\"1228.3782,-75.8472 1220.9795,-68.2637 1222.0341,-78.8059 1228.3782,-75.8472\"/>\n",
       "</g>\n",
       "<!-- 24 -->\n",
       "<g id=\"node25\" class=\"node\">\n",
       "<title>24</title>\n",
       "<path fill=\"none\" stroke=\"#000000\" d=\"M1347,-68C1347,-68 1277,-68 1277,-68 1271,-68 1265,-62 1265,-56 1265,-56 1265,-12 1265,-12 1265,-6 1271,0 1277,0 1277,0 1347,0 1347,0 1353,0 1359,-6 1359,-12 1359,-12 1359,-56 1359,-56 1359,-62 1353,-68 1347,-68\"/>\n",
       "<text text-anchor=\"middle\" x=\"1312\" y=\"-52.8\" font-family=\"Helvetica,sans-Serif\" font-size=\"14.00\" fill=\"#000000\">gini = 0.413</text>\n",
       "<text text-anchor=\"middle\" x=\"1312\" y=\"-37.8\" font-family=\"Helvetica,sans-Serif\" font-size=\"14.00\" fill=\"#000000\">samples = 158</text>\n",
       "<text text-anchor=\"middle\" x=\"1312\" y=\"-22.8\" font-family=\"Helvetica,sans-Serif\" font-size=\"14.00\" fill=\"#000000\">value = [46, 112]</text>\n",
       "<text text-anchor=\"middle\" x=\"1312\" y=\"-7.8\" font-family=\"Helvetica,sans-Serif\" font-size=\"14.00\" fill=\"#000000\">class = &lt;=50K</text>\n",
       "</g>\n",
       "<!-- 22&#45;&gt;24 -->\n",
       "<g id=\"edge24\" class=\"edge\">\n",
       "<title>22&#45;&gt;24</title>\n",
       "<path fill=\"none\" stroke=\"#000000\" d=\"M1277.48,-103.9815C1281.7415,-95.3423 1286.244,-86.2144 1290.5397,-77.5059\"/>\n",
       "<polygon fill=\"#000000\" stroke=\"#000000\" points=\"1293.8137,-78.7803 1295.0986,-68.2637 1287.5359,-75.6836 1293.8137,-78.7803\"/>\n",
       "</g>\n",
       "<!-- 26 -->\n",
       "<g id=\"node27\" class=\"node\">\n",
       "<title>26</title>\n",
       "<path fill=\"none\" stroke=\"#000000\" d=\"M1491,-187C1491,-187 1421,-187 1421,-187 1415,-187 1409,-181 1409,-175 1409,-175 1409,-116 1409,-116 1409,-110 1415,-104 1421,-104 1421,-104 1491,-104 1491,-104 1497,-104 1503,-110 1503,-116 1503,-116 1503,-175 1503,-175 1503,-181 1497,-187 1491,-187\"/>\n",
       "<text text-anchor=\"middle\" x=\"1456\" y=\"-171.8\" font-family=\"Helvetica,sans-Serif\" font-size=\"14.00\" fill=\"#000000\">Age &lt;= 32.5</text>\n",
       "<text text-anchor=\"middle\" x=\"1456\" y=\"-156.8\" font-family=\"Helvetica,sans-Serif\" font-size=\"14.00\" fill=\"#000000\">gini = 0.375</text>\n",
       "<text text-anchor=\"middle\" x=\"1456\" y=\"-141.8\" font-family=\"Helvetica,sans-Serif\" font-size=\"14.00\" fill=\"#000000\">samples = 208</text>\n",
       "<text text-anchor=\"middle\" x=\"1456\" y=\"-126.8\" font-family=\"Helvetica,sans-Serif\" font-size=\"14.00\" fill=\"#000000\">value = [52, 156]</text>\n",
       "<text text-anchor=\"middle\" x=\"1456\" y=\"-111.8\" font-family=\"Helvetica,sans-Serif\" font-size=\"14.00\" fill=\"#000000\">class = &lt;=50K</text>\n",
       "</g>\n",
       "<!-- 25&#45;&gt;26 -->\n",
       "<g id=\"edge26\" class=\"edge\">\n",
       "<title>25&#45;&gt;26</title>\n",
       "<path fill=\"none\" stroke=\"#000000\" d=\"M1456,-222.8796C1456,-214.6838 1456,-205.9891 1456,-197.5013\"/>\n",
       "<polygon fill=\"#000000\" stroke=\"#000000\" points=\"1459.5001,-197.298 1456,-187.2981 1452.5001,-197.2981 1459.5001,-197.298\"/>\n",
       "</g>\n",
       "<!-- 29 -->\n",
       "<g id=\"node30\" class=\"node\">\n",
       "<title>29</title>\n",
       "<path fill=\"none\" stroke=\"#000000\" d=\"M1711,-187C1711,-187 1567,-187 1567,-187 1561,-187 1555,-181 1555,-175 1555,-175 1555,-116 1555,-116 1555,-110 1561,-104 1567,-104 1567,-104 1711,-104 1711,-104 1717,-104 1723,-110 1723,-116 1723,-116 1723,-175 1723,-175 1723,-181 1717,-187 1711,-187\"/>\n",
       "<text text-anchor=\"middle\" x=\"1639\" y=\"-171.8\" font-family=\"Helvetica,sans-Serif\" font-size=\"14.00\" fill=\"#000000\">Race_Asian&#45;Pac&#45;Islander &lt;= 0.5</text>\n",
       "<text text-anchor=\"middle\" x=\"1639\" y=\"-156.8\" font-family=\"Helvetica,sans-Serif\" font-size=\"14.00\" fill=\"#000000\">gini = 0.473</text>\n",
       "<text text-anchor=\"middle\" x=\"1639\" y=\"-141.8\" font-family=\"Helvetica,sans-Serif\" font-size=\"14.00\" fill=\"#000000\">samples = 13</text>\n",
       "<text text-anchor=\"middle\" x=\"1639\" y=\"-126.8\" font-family=\"Helvetica,sans-Serif\" font-size=\"14.00\" fill=\"#000000\">value = [8, 5]</text>\n",
       "<text text-anchor=\"middle\" x=\"1639\" y=\"-111.8\" font-family=\"Helvetica,sans-Serif\" font-size=\"14.00\" fill=\"#000000\">class = &lt;=50K</text>\n",
       "</g>\n",
       "<!-- 25&#45;&gt;29 -->\n",
       "<g id=\"edge29\" class=\"edge\">\n",
       "<title>25&#45;&gt;29</title>\n",
       "<path fill=\"none\" stroke=\"#000000\" d=\"M1520.0045,-222.8796C1535.0495,-213.0962 1551.1879,-202.6019 1566.5733,-192.5971\"/>\n",
       "<polygon fill=\"#000000\" stroke=\"#000000\" points=\"1568.5563,-195.4827 1575.0316,-187.0969 1564.7402,-189.6143 1568.5563,-195.4827\"/>\n",
       "</g>\n",
       "<!-- 27 -->\n",
       "<g id=\"node28\" class=\"node\">\n",
       "<title>27</title>\n",
       "<path fill=\"none\" stroke=\"#000000\" d=\"M1454.5,-68C1454.5,-68 1389.5,-68 1389.5,-68 1383.5,-68 1377.5,-62 1377.5,-56 1377.5,-56 1377.5,-12 1377.5,-12 1377.5,-6 1383.5,0 1389.5,0 1389.5,0 1454.5,0 1454.5,0 1460.5,0 1466.5,-6 1466.5,-12 1466.5,-12 1466.5,-56 1466.5,-56 1466.5,-62 1460.5,-68 1454.5,-68\"/>\n",
       "<text text-anchor=\"middle\" x=\"1422\" y=\"-52.8\" font-family=\"Helvetica,sans-Serif\" font-size=\"14.00\" fill=\"#000000\">gini = 0.482</text>\n",
       "<text text-anchor=\"middle\" x=\"1422\" y=\"-37.8\" font-family=\"Helvetica,sans-Serif\" font-size=\"14.00\" fill=\"#000000\">samples = 47</text>\n",
       "<text text-anchor=\"middle\" x=\"1422\" y=\"-22.8\" font-family=\"Helvetica,sans-Serif\" font-size=\"14.00\" fill=\"#000000\">value = [19, 28]</text>\n",
       "<text text-anchor=\"middle\" x=\"1422\" y=\"-7.8\" font-family=\"Helvetica,sans-Serif\" font-size=\"14.00\" fill=\"#000000\">class = &lt;=50K</text>\n",
       "</g>\n",
       "<!-- 26&#45;&gt;27 -->\n",
       "<g id=\"edge27\" class=\"edge\">\n",
       "<title>26&#45;&gt;27</title>\n",
       "<path fill=\"none\" stroke=\"#000000\" d=\"M1443.3397,-103.9815C1440.7613,-95.5261 1438.0403,-86.6026 1435.436,-78.0623\"/>\n",
       "<polygon fill=\"#000000\" stroke=\"#000000\" points=\"1438.7127,-76.808 1432.4481,-68.2637 1432.0171,-78.8497 1438.7127,-76.808\"/>\n",
       "</g>\n",
       "<!-- 28 -->\n",
       "<g id=\"node29\" class=\"node\">\n",
       "<title>28</title>\n",
       "<path fill=\"none\" stroke=\"#000000\" d=\"M1567,-68C1567,-68 1497,-68 1497,-68 1491,-68 1485,-62 1485,-56 1485,-56 1485,-12 1485,-12 1485,-6 1491,0 1497,0 1497,0 1567,0 1567,0 1573,0 1579,-6 1579,-12 1579,-12 1579,-56 1579,-56 1579,-62 1573,-68 1567,-68\"/>\n",
       "<text text-anchor=\"middle\" x=\"1532\" y=\"-52.8\" font-family=\"Helvetica,sans-Serif\" font-size=\"14.00\" fill=\"#000000\">gini = 0.326</text>\n",
       "<text text-anchor=\"middle\" x=\"1532\" y=\"-37.8\" font-family=\"Helvetica,sans-Serif\" font-size=\"14.00\" fill=\"#000000\">samples = 161</text>\n",
       "<text text-anchor=\"middle\" x=\"1532\" y=\"-22.8\" font-family=\"Helvetica,sans-Serif\" font-size=\"14.00\" fill=\"#000000\">value = [33, 128]</text>\n",
       "<text text-anchor=\"middle\" x=\"1532\" y=\"-7.8\" font-family=\"Helvetica,sans-Serif\" font-size=\"14.00\" fill=\"#000000\">class = &lt;=50K</text>\n",
       "</g>\n",
       "<!-- 26&#45;&gt;28 -->\n",
       "<g id=\"edge28\" class=\"edge\">\n",
       "<title>26&#45;&gt;28</title>\n",
       "<path fill=\"none\" stroke=\"#000000\" d=\"M1484.2996,-103.9815C1490.3762,-95.0666 1496.8074,-85.6313 1502.9132,-76.6734\"/>\n",
       "<polygon fill=\"#000000\" stroke=\"#000000\" points=\"1505.9052,-78.498 1508.6454,-68.2637 1500.1211,-74.5555 1505.9052,-78.498\"/>\n",
       "</g>\n",
       "<!-- 30 -->\n",
       "<g id=\"node31\" class=\"node\">\n",
       "<title>30</title>\n",
       "<path fill=\"none\" stroke=\"#000000\" d=\"M1668.5,-68C1668.5,-68 1609.5,-68 1609.5,-68 1603.5,-68 1597.5,-62 1597.5,-56 1597.5,-56 1597.5,-12 1597.5,-12 1597.5,-6 1603.5,0 1609.5,0 1609.5,0 1668.5,0 1668.5,0 1674.5,0 1680.5,-6 1680.5,-12 1680.5,-12 1680.5,-56 1680.5,-56 1680.5,-62 1674.5,-68 1668.5,-68\"/>\n",
       "<text text-anchor=\"middle\" x=\"1639\" y=\"-52.8\" font-family=\"Helvetica,sans-Serif\" font-size=\"14.00\" fill=\"#000000\">gini = 0.444</text>\n",
       "<text text-anchor=\"middle\" x=\"1639\" y=\"-37.8\" font-family=\"Helvetica,sans-Serif\" font-size=\"14.00\" fill=\"#000000\">samples = 12</text>\n",
       "<text text-anchor=\"middle\" x=\"1639\" y=\"-22.8\" font-family=\"Helvetica,sans-Serif\" font-size=\"14.00\" fill=\"#000000\">value = [8, 4]</text>\n",
       "<text text-anchor=\"middle\" x=\"1639\" y=\"-7.8\" font-family=\"Helvetica,sans-Serif\" font-size=\"14.00\" fill=\"#000000\">class = &lt;=50K</text>\n",
       "</g>\n",
       "<!-- 29&#45;&gt;30 -->\n",
       "<g id=\"edge30\" class=\"edge\">\n",
       "<title>29&#45;&gt;30</title>\n",
       "<path fill=\"none\" stroke=\"#000000\" d=\"M1639,-103.9815C1639,-95.618 1639,-86.7965 1639,-78.3409\"/>\n",
       "<polygon fill=\"#000000\" stroke=\"#000000\" points=\"1642.5001,-78.2636 1639,-68.2637 1635.5001,-78.2637 1642.5001,-78.2636\"/>\n",
       "</g>\n",
       "<!-- 31 -->\n",
       "<g id=\"node32\" class=\"node\">\n",
       "<title>31</title>\n",
       "<path fill=\"none\" stroke=\"#000000\" d=\"M1769.5,-68C1769.5,-68 1710.5,-68 1710.5,-68 1704.5,-68 1698.5,-62 1698.5,-56 1698.5,-56 1698.5,-12 1698.5,-12 1698.5,-6 1704.5,0 1710.5,0 1710.5,0 1769.5,0 1769.5,0 1775.5,0 1781.5,-6 1781.5,-12 1781.5,-12 1781.5,-56 1781.5,-56 1781.5,-62 1775.5,-68 1769.5,-68\"/>\n",
       "<text text-anchor=\"middle\" x=\"1740\" y=\"-52.8\" font-family=\"Helvetica,sans-Serif\" font-size=\"14.00\" fill=\"#000000\">gini = 0.0</text>\n",
       "<text text-anchor=\"middle\" x=\"1740\" y=\"-37.8\" font-family=\"Helvetica,sans-Serif\" font-size=\"14.00\" fill=\"#000000\">samples = 1</text>\n",
       "<text text-anchor=\"middle\" x=\"1740\" y=\"-22.8\" font-family=\"Helvetica,sans-Serif\" font-size=\"14.00\" fill=\"#000000\">value = [0, 1]</text>\n",
       "<text text-anchor=\"middle\" x=\"1740\" y=\"-7.8\" font-family=\"Helvetica,sans-Serif\" font-size=\"14.00\" fill=\"#000000\">class = &lt;=50K</text>\n",
       "</g>\n",
       "<!-- 29&#45;&gt;31 -->\n",
       "<g id=\"edge31\" class=\"edge\">\n",
       "<title>29&#45;&gt;31</title>\n",
       "<path fill=\"none\" stroke=\"#000000\" d=\"M1676.6087,-103.9815C1684.9339,-94.7908 1693.76,-85.0472 1702.0968,-75.8436\"/>\n",
       "<polygon fill=\"#000000\" stroke=\"#000000\" points=\"1704.8434,-78.0248 1708.963,-68.2637 1699.6554,-73.3254 1704.8434,-78.0248\"/>\n",
       "</g>\n",
       "<!-- 33 -->\n",
       "<g id=\"node34\" class=\"node\">\n",
       "<title>33</title>\n",
       "<path fill=\"none\" stroke=\"#000000\" d=\"M2301,-425C2301,-425 2153,-425 2153,-425 2147,-425 2141,-419 2141,-413 2141,-413 2141,-354 2141,-354 2141,-348 2147,-342 2153,-342 2153,-342 2301,-342 2301,-342 2307,-342 2313,-348 2313,-354 2313,-354 2313,-413 2313,-413 2313,-419 2307,-425 2301,-425\"/>\n",
       "<text text-anchor=\"middle\" x=\"2227\" y=\"-409.8\" font-family=\"Helvetica,sans-Serif\" font-size=\"14.00\" fill=\"#000000\">Occupation_Prof&#45;specialty &lt;= 0.5</text>\n",
       "<text text-anchor=\"middle\" x=\"2227\" y=\"-394.8\" font-family=\"Helvetica,sans-Serif\" font-size=\"14.00\" fill=\"#000000\">gini = 0.479</text>\n",
       "<text text-anchor=\"middle\" x=\"2227\" y=\"-379.8\" font-family=\"Helvetica,sans-Serif\" font-size=\"14.00\" fill=\"#000000\">samples = 8086</text>\n",
       "<text text-anchor=\"middle\" x=\"2227\" y=\"-364.8\" font-family=\"Helvetica,sans-Serif\" font-size=\"14.00\" fill=\"#000000\">value = [4881, 3205]</text>\n",
       "<text text-anchor=\"middle\" x=\"2227\" y=\"-349.8\" font-family=\"Helvetica,sans-Serif\" font-size=\"14.00\" fill=\"#000000\">class = &lt;=50K</text>\n",
       "</g>\n",
       "<!-- 32&#45;&gt;33 -->\n",
       "<g id=\"edge33\" class=\"edge\">\n",
       "<title>32&#45;&gt;33</title>\n",
       "<path fill=\"none\" stroke=\"#000000\" d=\"M2227,-460.8796C2227,-452.6838 2227,-443.9891 2227,-435.5013\"/>\n",
       "<polygon fill=\"#000000\" stroke=\"#000000\" points=\"2230.5001,-435.298 2227,-425.2981 2223.5001,-435.2981 2230.5001,-435.298\"/>\n",
       "</g>\n",
       "<!-- 48 -->\n",
       "<g id=\"node49\" class=\"node\">\n",
       "<title>48</title>\n",
       "<path fill=\"none\" stroke=\"#000000\" d=\"M3007.5,-425C3007.5,-425 2844.5,-425 2844.5,-425 2838.5,-425 2832.5,-419 2832.5,-413 2832.5,-413 2832.5,-354 2832.5,-354 2832.5,-348 2838.5,-342 2844.5,-342 2844.5,-342 3007.5,-342 3007.5,-342 3013.5,-342 3019.5,-348 3019.5,-354 3019.5,-354 3019.5,-413 3019.5,-413 3019.5,-419 3013.5,-425 3007.5,-425\"/>\n",
       "<text text-anchor=\"middle\" x=\"2926\" y=\"-409.8\" font-family=\"Helvetica,sans-Serif\" font-size=\"14.00\" fill=\"#000000\">Occupation_Exec&#45;managerial &lt;= 0.5</text>\n",
       "<text text-anchor=\"middle\" x=\"2926\" y=\"-394.8\" font-family=\"Helvetica,sans-Serif\" font-size=\"14.00\" fill=\"#000000\">gini = 0.436</text>\n",
       "<text text-anchor=\"middle\" x=\"2926\" y=\"-379.8\" font-family=\"Helvetica,sans-Serif\" font-size=\"14.00\" fill=\"#000000\">samples = 1825</text>\n",
       "<text text-anchor=\"middle\" x=\"2926\" y=\"-364.8\" font-family=\"Helvetica,sans-Serif\" font-size=\"14.00\" fill=\"#000000\">value = [586, 1239]</text>\n",
       "<text text-anchor=\"middle\" x=\"2926\" y=\"-349.8\" font-family=\"Helvetica,sans-Serif\" font-size=\"14.00\" fill=\"#000000\">class = &lt;=50K</text>\n",
       "</g>\n",
       "<!-- 32&#45;&gt;48 -->\n",
       "<g id=\"edge48\" class=\"edge\">\n",
       "<title>32&#45;&gt;48</title>\n",
       "<path fill=\"none\" stroke=\"#000000\" d=\"M2301.1435,-489.8776C2426.2982,-468.5708 2679.7456,-425.4231 2822.4022,-401.1368\"/>\n",
       "<polygon fill=\"#000000\" stroke=\"#000000\" points=\"2823.208,-404.5501 2832.4787,-399.4214 2822.0332,-397.6494 2823.208,-404.5501\"/>\n",
       "</g>\n",
       "<!-- 34 -->\n",
       "<g id=\"node35\" class=\"node\">\n",
       "<title>34</title>\n",
       "<path fill=\"none\" stroke=\"#000000\" d=\"M2245.5,-306C2245.5,-306 2082.5,-306 2082.5,-306 2076.5,-306 2070.5,-300 2070.5,-294 2070.5,-294 2070.5,-235 2070.5,-235 2070.5,-229 2076.5,-223 2082.5,-223 2082.5,-223 2245.5,-223 2245.5,-223 2251.5,-223 2257.5,-229 2257.5,-235 2257.5,-235 2257.5,-294 2257.5,-294 2257.5,-300 2251.5,-306 2245.5,-306\"/>\n",
       "<text text-anchor=\"middle\" x=\"2164\" y=\"-290.8\" font-family=\"Helvetica,sans-Serif\" font-size=\"14.00\" fill=\"#000000\">Occupation_Exec&#45;managerial &lt;= 0.5</text>\n",
       "<text text-anchor=\"middle\" x=\"2164\" y=\"-275.8\" font-family=\"Helvetica,sans-Serif\" font-size=\"14.00\" fill=\"#000000\">gini = 0.458</text>\n",
       "<text text-anchor=\"middle\" x=\"2164\" y=\"-260.8\" font-family=\"Helvetica,sans-Serif\" font-size=\"14.00\" fill=\"#000000\">samples = 7189</text>\n",
       "<text text-anchor=\"middle\" x=\"2164\" y=\"-245.8\" font-family=\"Helvetica,sans-Serif\" font-size=\"14.00\" fill=\"#000000\">value = [4633, 2556]</text>\n",
       "<text text-anchor=\"middle\" x=\"2164\" y=\"-230.8\" font-family=\"Helvetica,sans-Serif\" font-size=\"14.00\" fill=\"#000000\">class = &lt;=50K</text>\n",
       "</g>\n",
       "<!-- 33&#45;&gt;34 -->\n",
       "<g id=\"edge34\" class=\"edge\">\n",
       "<title>33&#45;&gt;34</title>\n",
       "<path fill=\"none\" stroke=\"#000000\" d=\"M2204.9657,-341.8796C2200.436,-333.3236 2195.6185,-324.2238 2190.9382,-315.3833\"/>\n",
       "<polygon fill=\"#000000\" stroke=\"#000000\" points=\"2193.9006,-313.4983 2186.1284,-306.2981 2187.7141,-316.7736 2193.9006,-313.4983\"/>\n",
       "</g>\n",
       "<!-- 41 -->\n",
       "<g id=\"node42\" class=\"node\">\n",
       "<title>41</title>\n",
       "<path fill=\"none\" stroke=\"#000000\" d=\"M2388,-306C2388,-306 2312,-306 2312,-306 2306,-306 2300,-300 2300,-294 2300,-294 2300,-235 2300,-235 2300,-229 2306,-223 2312,-223 2312,-223 2388,-223 2388,-223 2394,-223 2400,-229 2400,-235 2400,-235 2400,-294 2400,-294 2400,-300 2394,-306 2388,-306\"/>\n",
       "<text text-anchor=\"middle\" x=\"2350\" y=\"-290.8\" font-family=\"Helvetica,sans-Serif\" font-size=\"14.00\" fill=\"#000000\">Age &lt;= 32.5</text>\n",
       "<text text-anchor=\"middle\" x=\"2350\" y=\"-275.8\" font-family=\"Helvetica,sans-Serif\" font-size=\"14.00\" fill=\"#000000\">gini = 0.4</text>\n",
       "<text text-anchor=\"middle\" x=\"2350\" y=\"-260.8\" font-family=\"Helvetica,sans-Serif\" font-size=\"14.00\" fill=\"#000000\">samples = 897</text>\n",
       "<text text-anchor=\"middle\" x=\"2350\" y=\"-245.8\" font-family=\"Helvetica,sans-Serif\" font-size=\"14.00\" fill=\"#000000\">value = [248, 649]</text>\n",
       "<text text-anchor=\"middle\" x=\"2350\" y=\"-230.8\" font-family=\"Helvetica,sans-Serif\" font-size=\"14.00\" fill=\"#000000\">class = &lt;=50K</text>\n",
       "</g>\n",
       "<!-- 33&#45;&gt;41 -->\n",
       "<g id=\"edge41\" class=\"edge\">\n",
       "<title>33&#45;&gt;41</title>\n",
       "<path fill=\"none\" stroke=\"#000000\" d=\"M2270.0194,-341.8796C2279.5147,-332.6931 2289.6578,-322.8798 2299.4215,-313.4336\"/>\n",
       "<polygon fill=\"#000000\" stroke=\"#000000\" points=\"2302.0436,-315.7668 2306.797,-306.2981 2297.1763,-310.7359 2302.0436,-315.7668\"/>\n",
       "</g>\n",
       "<!-- 35 -->\n",
       "<g id=\"node36\" class=\"node\">\n",
       "<title>35</title>\n",
       "<path fill=\"none\" stroke=\"#000000\" d=\"M2024,-187C2024,-187 1936,-187 1936,-187 1930,-187 1924,-181 1924,-175 1924,-175 1924,-116 1924,-116 1924,-110 1930,-104 1936,-104 1936,-104 2024,-104 2024,-104 2030,-104 2036,-110 2036,-116 2036,-116 2036,-175 2036,-175 2036,-181 2030,-187 2024,-187\"/>\n",
       "<text text-anchor=\"middle\" x=\"1980\" y=\"-171.8\" font-family=\"Helvetica,sans-Serif\" font-size=\"14.00\" fill=\"#000000\">Age &lt;= 35.5</text>\n",
       "<text text-anchor=\"middle\" x=\"1980\" y=\"-156.8\" font-family=\"Helvetica,sans-Serif\" font-size=\"14.00\" fill=\"#000000\">gini = 0.425</text>\n",
       "<text text-anchor=\"middle\" x=\"1980\" y=\"-141.8\" font-family=\"Helvetica,sans-Serif\" font-size=\"14.00\" fill=\"#000000\">samples = 6096</text>\n",
       "<text text-anchor=\"middle\" x=\"1980\" y=\"-126.8\" font-family=\"Helvetica,sans-Serif\" font-size=\"14.00\" fill=\"#000000\">value = [4231, 1865]</text>\n",
       "<text text-anchor=\"middle\" x=\"1980\" y=\"-111.8\" font-family=\"Helvetica,sans-Serif\" font-size=\"14.00\" fill=\"#000000\">class = &lt;=50K</text>\n",
       "</g>\n",
       "<!-- 34&#45;&gt;35 -->\n",
       "<g id=\"edge35\" class=\"edge\">\n",
       "<title>34&#45;&gt;35</title>\n",
       "<path fill=\"none\" stroke=\"#000000\" d=\"M2099.6457,-222.8796C2081.8337,-211.3599 2062.4976,-198.8544 2044.6679,-187.3232\"/>\n",
       "<polygon fill=\"#000000\" stroke=\"#000000\" points=\"2046.347,-184.241 2036.0493,-181.7493 2042.5456,-190.1189 2046.347,-184.241\"/>\n",
       "</g>\n",
       "<!-- 38 -->\n",
       "<g id=\"node39\" class=\"node\">\n",
       "<title>38</title>\n",
       "<path fill=\"none\" stroke=\"#000000\" d=\"M2221.5,-187C2221.5,-187 2106.5,-187 2106.5,-187 2100.5,-187 2094.5,-181 2094.5,-175 2094.5,-175 2094.5,-116 2094.5,-116 2094.5,-110 2100.5,-104 2106.5,-104 2106.5,-104 2221.5,-104 2221.5,-104 2227.5,-104 2233.5,-110 2233.5,-116 2233.5,-116 2233.5,-175 2233.5,-175 2233.5,-181 2227.5,-187 2221.5,-187\"/>\n",
       "<text text-anchor=\"middle\" x=\"2164\" y=\"-171.8\" font-family=\"Helvetica,sans-Serif\" font-size=\"14.00\" fill=\"#000000\">Education_Masters &lt;= 0.5</text>\n",
       "<text text-anchor=\"middle\" x=\"2164\" y=\"-156.8\" font-family=\"Helvetica,sans-Serif\" font-size=\"14.00\" fill=\"#000000\">gini = 0.465</text>\n",
       "<text text-anchor=\"middle\" x=\"2164\" y=\"-141.8\" font-family=\"Helvetica,sans-Serif\" font-size=\"14.00\" fill=\"#000000\">samples = 1093</text>\n",
       "<text text-anchor=\"middle\" x=\"2164\" y=\"-126.8\" font-family=\"Helvetica,sans-Serif\" font-size=\"14.00\" fill=\"#000000\">value = [402, 691]</text>\n",
       "<text text-anchor=\"middle\" x=\"2164\" y=\"-111.8\" font-family=\"Helvetica,sans-Serif\" font-size=\"14.00\" fill=\"#000000\">class = &lt;=50K</text>\n",
       "</g>\n",
       "<!-- 34&#45;&gt;38 -->\n",
       "<g id=\"edge38\" class=\"edge\">\n",
       "<title>34&#45;&gt;38</title>\n",
       "<path fill=\"none\" stroke=\"#000000\" d=\"M2164,-222.8796C2164,-214.6838 2164,-205.9891 2164,-197.5013\"/>\n",
       "<polygon fill=\"#000000\" stroke=\"#000000\" points=\"2167.5001,-197.298 2164,-187.2981 2160.5001,-197.2981 2167.5001,-197.298\"/>\n",
       "</g>\n",
       "<!-- 36 -->\n",
       "<g id=\"node37\" class=\"node\">\n",
       "<title>36</title>\n",
       "<path fill=\"none\" stroke=\"#000000\" d=\"M1894,-68C1894,-68 1812,-68 1812,-68 1806,-68 1800,-62 1800,-56 1800,-56 1800,-12 1800,-12 1800,-6 1806,0 1812,0 1812,0 1894,0 1894,0 1900,0 1906,-6 1906,-12 1906,-12 1906,-56 1906,-56 1906,-62 1900,-68 1894,-68\"/>\n",
       "<text text-anchor=\"middle\" x=\"1853\" y=\"-52.8\" font-family=\"Helvetica,sans-Serif\" font-size=\"14.00\" fill=\"#000000\">gini = 0.31</text>\n",
       "<text text-anchor=\"middle\" x=\"1853\" y=\"-37.8\" font-family=\"Helvetica,sans-Serif\" font-size=\"14.00\" fill=\"#000000\">samples = 1868</text>\n",
       "<text text-anchor=\"middle\" x=\"1853\" y=\"-22.8\" font-family=\"Helvetica,sans-Serif\" font-size=\"14.00\" fill=\"#000000\">value = [1509, 359]</text>\n",
       "<text text-anchor=\"middle\" x=\"1853\" y=\"-7.8\" font-family=\"Helvetica,sans-Serif\" font-size=\"14.00\" fill=\"#000000\">class = &lt;=50K</text>\n",
       "</g>\n",
       "<!-- 35&#45;&gt;36 -->\n",
       "<g id=\"edge36\" class=\"edge\">\n",
       "<title>35&#45;&gt;36</title>\n",
       "<path fill=\"none\" stroke=\"#000000\" d=\"M1932.7099,-103.9815C1921.9275,-94.5151 1910.477,-84.462 1899.7187,-75.0168\"/>\n",
       "<polygon fill=\"#000000\" stroke=\"#000000\" points=\"1901.8507,-72.2311 1892.0268,-68.2637 1897.2324,-77.4915 1901.8507,-72.2311\"/>\n",
       "</g>\n",
       "<!-- 37 -->\n",
       "<g id=\"node38\" class=\"node\">\n",
       "<title>37</title>\n",
       "<path fill=\"none\" stroke=\"#000000\" d=\"M2024,-68C2024,-68 1936,-68 1936,-68 1930,-68 1924,-62 1924,-56 1924,-56 1924,-12 1924,-12 1924,-6 1930,0 1936,0 1936,0 2024,0 2024,0 2030,0 2036,-6 2036,-12 2036,-12 2036,-56 2036,-56 2036,-62 2030,-68 2024,-68\"/>\n",
       "<text text-anchor=\"middle\" x=\"1980\" y=\"-52.8\" font-family=\"Helvetica,sans-Serif\" font-size=\"14.00\" fill=\"#000000\">gini = 0.459</text>\n",
       "<text text-anchor=\"middle\" x=\"1980\" y=\"-37.8\" font-family=\"Helvetica,sans-Serif\" font-size=\"14.00\" fill=\"#000000\">samples = 4228</text>\n",
       "<text text-anchor=\"middle\" x=\"1980\" y=\"-22.8\" font-family=\"Helvetica,sans-Serif\" font-size=\"14.00\" fill=\"#000000\">value = [2722, 1506]</text>\n",
       "<text text-anchor=\"middle\" x=\"1980\" y=\"-7.8\" font-family=\"Helvetica,sans-Serif\" font-size=\"14.00\" fill=\"#000000\">class = &lt;=50K</text>\n",
       "</g>\n",
       "<!-- 35&#45;&gt;37 -->\n",
       "<g id=\"edge37\" class=\"edge\">\n",
       "<title>35&#45;&gt;37</title>\n",
       "<path fill=\"none\" stroke=\"#000000\" d=\"M1980,-103.9815C1980,-95.618 1980,-86.7965 1980,-78.3409\"/>\n",
       "<polygon fill=\"#000000\" stroke=\"#000000\" points=\"1983.5001,-78.2636 1980,-68.2637 1976.5001,-78.2637 1983.5001,-78.2636\"/>\n",
       "</g>\n",
       "<!-- 39 -->\n",
       "<g id=\"node40\" class=\"node\">\n",
       "<title>39</title>\n",
       "<path fill=\"none\" stroke=\"#000000\" d=\"M2142,-68C2142,-68 2066,-68 2066,-68 2060,-68 2054,-62 2054,-56 2054,-56 2054,-12 2054,-12 2054,-6 2060,0 2066,0 2066,0 2142,0 2142,0 2148,0 2154,-6 2154,-12 2154,-12 2154,-56 2154,-56 2154,-62 2148,-68 2142,-68\"/>\n",
       "<text text-anchor=\"middle\" x=\"2104\" y=\"-52.8\" font-family=\"Helvetica,sans-Serif\" font-size=\"14.00\" fill=\"#000000\">gini = 0.492</text>\n",
       "<text text-anchor=\"middle\" x=\"2104\" y=\"-37.8\" font-family=\"Helvetica,sans-Serif\" font-size=\"14.00\" fill=\"#000000\">samples = 848</text>\n",
       "<text text-anchor=\"middle\" x=\"2104\" y=\"-22.8\" font-family=\"Helvetica,sans-Serif\" font-size=\"14.00\" fill=\"#000000\">value = [372, 476]</text>\n",
       "<text text-anchor=\"middle\" x=\"2104\" y=\"-7.8\" font-family=\"Helvetica,sans-Serif\" font-size=\"14.00\" fill=\"#000000\">class = &lt;=50K</text>\n",
       "</g>\n",
       "<!-- 38&#45;&gt;39 -->\n",
       "<g id=\"edge39\" class=\"edge\">\n",
       "<title>38&#45;&gt;39</title>\n",
       "<path fill=\"none\" stroke=\"#000000\" d=\"M2141.6582,-103.9815C2136.9598,-95.2504 2131.9929,-86.0202 2127.2617,-77.2281\"/>\n",
       "<polygon fill=\"#000000\" stroke=\"#000000\" points=\"2130.2586,-75.4111 2122.4379,-68.2637 2124.0944,-78.7282 2130.2586,-75.4111\"/>\n",
       "</g>\n",
       "<!-- 40 -->\n",
       "<g id=\"node41\" class=\"node\">\n",
       "<title>40</title>\n",
       "<path fill=\"none\" stroke=\"#000000\" d=\"M2254,-68C2254,-68 2184,-68 2184,-68 2178,-68 2172,-62 2172,-56 2172,-56 2172,-12 2172,-12 2172,-6 2178,0 2184,0 2184,0 2254,0 2254,0 2260,0 2266,-6 2266,-12 2266,-12 2266,-56 2266,-56 2266,-62 2260,-68 2254,-68\"/>\n",
       "<text text-anchor=\"middle\" x=\"2219\" y=\"-52.8\" font-family=\"Helvetica,sans-Serif\" font-size=\"14.00\" fill=\"#000000\">gini = 0.215</text>\n",
       "<text text-anchor=\"middle\" x=\"2219\" y=\"-37.8\" font-family=\"Helvetica,sans-Serif\" font-size=\"14.00\" fill=\"#000000\">samples = 245</text>\n",
       "<text text-anchor=\"middle\" x=\"2219\" y=\"-22.8\" font-family=\"Helvetica,sans-Serif\" font-size=\"14.00\" fill=\"#000000\">value = [30, 215]</text>\n",
       "<text text-anchor=\"middle\" x=\"2219\" y=\"-7.8\" font-family=\"Helvetica,sans-Serif\" font-size=\"14.00\" fill=\"#000000\">class = &lt;=50K</text>\n",
       "</g>\n",
       "<!-- 38&#45;&gt;40 -->\n",
       "<g id=\"edge40\" class=\"edge\">\n",
       "<title>38&#45;&gt;40</title>\n",
       "<path fill=\"none\" stroke=\"#000000\" d=\"M2184.48,-103.9815C2188.7415,-95.3423 2193.244,-86.2144 2197.5397,-77.5059\"/>\n",
       "<polygon fill=\"#000000\" stroke=\"#000000\" points=\"2200.8137,-78.7803 2202.0986,-68.2637 2194.5359,-75.6836 2200.8137,-78.7803\"/>\n",
       "</g>\n",
       "<!-- 42 -->\n",
       "<g id=\"node43\" class=\"node\">\n",
       "<title>42</title>\n",
       "<path fill=\"none\" stroke=\"#000000\" d=\"M2415.5,-187C2415.5,-187 2284.5,-187 2284.5,-187 2278.5,-187 2272.5,-181 2272.5,-175 2272.5,-175 2272.5,-116 2272.5,-116 2272.5,-110 2278.5,-104 2284.5,-104 2284.5,-104 2415.5,-104 2415.5,-104 2421.5,-104 2427.5,-110 2427.5,-116 2427.5,-116 2427.5,-175 2427.5,-175 2427.5,-181 2421.5,-187 2415.5,-187\"/>\n",
       "<text text-anchor=\"middle\" x=\"2350\" y=\"-171.8\" font-family=\"Helvetica,sans-Serif\" font-size=\"14.00\" fill=\"#000000\">Education_Prof&#45;school &lt;= 0.5</text>\n",
       "<text text-anchor=\"middle\" x=\"2350\" y=\"-156.8\" font-family=\"Helvetica,sans-Serif\" font-size=\"14.00\" fill=\"#000000\">gini = 0.495</text>\n",
       "<text text-anchor=\"middle\" x=\"2350\" y=\"-141.8\" font-family=\"Helvetica,sans-Serif\" font-size=\"14.00\" fill=\"#000000\">samples = 109</text>\n",
       "<text text-anchor=\"middle\" x=\"2350\" y=\"-126.8\" font-family=\"Helvetica,sans-Serif\" font-size=\"14.00\" fill=\"#000000\">value = [60, 49]</text>\n",
       "<text text-anchor=\"middle\" x=\"2350\" y=\"-111.8\" font-family=\"Helvetica,sans-Serif\" font-size=\"14.00\" fill=\"#000000\">class = &lt;=50K</text>\n",
       "</g>\n",
       "<!-- 41&#45;&gt;42 -->\n",
       "<g id=\"edge42\" class=\"edge\">\n",
       "<title>41&#45;&gt;42</title>\n",
       "<path fill=\"none\" stroke=\"#000000\" d=\"M2350,-222.8796C2350,-214.6838 2350,-205.9891 2350,-197.5013\"/>\n",
       "<polygon fill=\"#000000\" stroke=\"#000000\" points=\"2353.5001,-197.298 2350,-187.2981 2346.5001,-197.2981 2353.5001,-197.298\"/>\n",
       "</g>\n",
       "<!-- 45 -->\n",
       "<g id=\"node46\" class=\"node\">\n",
       "<title>45</title>\n",
       "<path fill=\"none\" stroke=\"#000000\" d=\"M2608.5,-187C2608.5,-187 2477.5,-187 2477.5,-187 2471.5,-187 2465.5,-181 2465.5,-175 2465.5,-175 2465.5,-116 2465.5,-116 2465.5,-110 2471.5,-104 2477.5,-104 2477.5,-104 2608.5,-104 2608.5,-104 2614.5,-104 2620.5,-110 2620.5,-116 2620.5,-116 2620.5,-175 2620.5,-175 2620.5,-181 2614.5,-187 2608.5,-187\"/>\n",
       "<text text-anchor=\"middle\" x=\"2543\" y=\"-171.8\" font-family=\"Helvetica,sans-Serif\" font-size=\"14.00\" fill=\"#000000\">Education_Prof&#45;school &lt;= 0.5</text>\n",
       "<text text-anchor=\"middle\" x=\"2543\" y=\"-156.8\" font-family=\"Helvetica,sans-Serif\" font-size=\"14.00\" fill=\"#000000\">gini = 0.363</text>\n",
       "<text text-anchor=\"middle\" x=\"2543\" y=\"-141.8\" font-family=\"Helvetica,sans-Serif\" font-size=\"14.00\" fill=\"#000000\">samples = 788</text>\n",
       "<text text-anchor=\"middle\" x=\"2543\" y=\"-126.8\" font-family=\"Helvetica,sans-Serif\" font-size=\"14.00\" fill=\"#000000\">value = [188, 600]</text>\n",
       "<text text-anchor=\"middle\" x=\"2543\" y=\"-111.8\" font-family=\"Helvetica,sans-Serif\" font-size=\"14.00\" fill=\"#000000\">class = &lt;=50K</text>\n",
       "</g>\n",
       "<!-- 41&#45;&gt;45 -->\n",
       "<g id=\"edge45\" class=\"edge\">\n",
       "<title>41&#45;&gt;45</title>\n",
       "<path fill=\"none\" stroke=\"#000000\" d=\"M2400.2047,-233.5448C2420.6063,-220.9655 2444.626,-206.1555 2467.0854,-192.3075\"/>\n",
       "<polygon fill=\"#000000\" stroke=\"#000000\" points=\"2468.9308,-195.2815 2475.6059,-187.0538 2465.257,-189.323 2468.9308,-195.2815\"/>\n",
       "</g>\n",
       "<!-- 43 -->\n",
       "<g id=\"node44\" class=\"node\">\n",
       "<title>43</title>\n",
       "<path fill=\"none\" stroke=\"#000000\" d=\"M2361.5,-68C2361.5,-68 2296.5,-68 2296.5,-68 2290.5,-68 2284.5,-62 2284.5,-56 2284.5,-56 2284.5,-12 2284.5,-12 2284.5,-6 2290.5,0 2296.5,0 2296.5,0 2361.5,0 2361.5,0 2367.5,0 2373.5,-6 2373.5,-12 2373.5,-12 2373.5,-56 2373.5,-56 2373.5,-62 2367.5,-68 2361.5,-68\"/>\n",
       "<text text-anchor=\"middle\" x=\"2329\" y=\"-52.8\" font-family=\"Helvetica,sans-Serif\" font-size=\"14.00\" fill=\"#000000\">gini = 0.478</text>\n",
       "<text text-anchor=\"middle\" x=\"2329\" y=\"-37.8\" font-family=\"Helvetica,sans-Serif\" font-size=\"14.00\" fill=\"#000000\">samples = 91</text>\n",
       "<text text-anchor=\"middle\" x=\"2329\" y=\"-22.8\" font-family=\"Helvetica,sans-Serif\" font-size=\"14.00\" fill=\"#000000\">value = [55, 36]</text>\n",
       "<text text-anchor=\"middle\" x=\"2329\" y=\"-7.8\" font-family=\"Helvetica,sans-Serif\" font-size=\"14.00\" fill=\"#000000\">class = &lt;=50K</text>\n",
       "</g>\n",
       "<!-- 42&#45;&gt;43 -->\n",
       "<g id=\"edge43\" class=\"edge\">\n",
       "<title>42&#45;&gt;43</title>\n",
       "<path fill=\"none\" stroke=\"#000000\" d=\"M2342.1804,-103.9815C2340.6052,-95.618 2338.9437,-86.7965 2337.3512,-78.3409\"/>\n",
       "<polygon fill=\"#000000\" stroke=\"#000000\" points=\"2340.7437,-77.4431 2335.4532,-68.2637 2333.8647,-78.7387 2340.7437,-77.4431\"/>\n",
       "</g>\n",
       "<!-- 44 -->\n",
       "<g id=\"node45\" class=\"node\">\n",
       "<title>44</title>\n",
       "<path fill=\"none\" stroke=\"#000000\" d=\"M2462.5,-68C2462.5,-68 2403.5,-68 2403.5,-68 2397.5,-68 2391.5,-62 2391.5,-56 2391.5,-56 2391.5,-12 2391.5,-12 2391.5,-6 2397.5,0 2403.5,0 2403.5,0 2462.5,0 2462.5,0 2468.5,0 2474.5,-6 2474.5,-12 2474.5,-12 2474.5,-56 2474.5,-56 2474.5,-62 2468.5,-68 2462.5,-68\"/>\n",
       "<text text-anchor=\"middle\" x=\"2433\" y=\"-52.8\" font-family=\"Helvetica,sans-Serif\" font-size=\"14.00\" fill=\"#000000\">gini = 0.401</text>\n",
       "<text text-anchor=\"middle\" x=\"2433\" y=\"-37.8\" font-family=\"Helvetica,sans-Serif\" font-size=\"14.00\" fill=\"#000000\">samples = 18</text>\n",
       "<text text-anchor=\"middle\" x=\"2433\" y=\"-22.8\" font-family=\"Helvetica,sans-Serif\" font-size=\"14.00\" fill=\"#000000\">value = [5, 13]</text>\n",
       "<text text-anchor=\"middle\" x=\"2433\" y=\"-7.8\" font-family=\"Helvetica,sans-Serif\" font-size=\"14.00\" fill=\"#000000\">class = &lt;=50K</text>\n",
       "</g>\n",
       "<!-- 42&#45;&gt;44 -->\n",
       "<g id=\"edge44\" class=\"edge\">\n",
       "<title>42&#45;&gt;44</title>\n",
       "<path fill=\"none\" stroke=\"#000000\" d=\"M2380.9061,-103.9815C2387.6108,-94.9747 2394.7108,-85.4367 2401.4403,-76.3965\"/>\n",
       "<polygon fill=\"#000000\" stroke=\"#000000\" points=\"2404.3306,-78.3752 2407.4943,-68.2637 2398.7155,-74.1953 2404.3306,-78.3752\"/>\n",
       "</g>\n",
       "<!-- 46 -->\n",
       "<g id=\"node47\" class=\"node\">\n",
       "<title>46</title>\n",
       "<path fill=\"none\" stroke=\"#000000\" d=\"M2581,-68C2581,-68 2505,-68 2505,-68 2499,-68 2493,-62 2493,-56 2493,-56 2493,-12 2493,-12 2493,-6 2499,0 2505,0 2505,0 2581,0 2581,0 2587,0 2593,-6 2593,-12 2593,-12 2593,-56 2593,-56 2593,-62 2587,-68 2581,-68\"/>\n",
       "<text text-anchor=\"middle\" x=\"2543\" y=\"-52.8\" font-family=\"Helvetica,sans-Serif\" font-size=\"14.00\" fill=\"#000000\">gini = 0.412</text>\n",
       "<text text-anchor=\"middle\" x=\"2543\" y=\"-37.8\" font-family=\"Helvetica,sans-Serif\" font-size=\"14.00\" fill=\"#000000\">samples = 582</text>\n",
       "<text text-anchor=\"middle\" x=\"2543\" y=\"-22.8\" font-family=\"Helvetica,sans-Serif\" font-size=\"14.00\" fill=\"#000000\">value = [169, 413]</text>\n",
       "<text text-anchor=\"middle\" x=\"2543\" y=\"-7.8\" font-family=\"Helvetica,sans-Serif\" font-size=\"14.00\" fill=\"#000000\">class = &lt;=50K</text>\n",
       "</g>\n",
       "<!-- 45&#45;&gt;46 -->\n",
       "<g id=\"edge46\" class=\"edge\">\n",
       "<title>45&#45;&gt;46</title>\n",
       "<path fill=\"none\" stroke=\"#000000\" d=\"M2543,-103.9815C2543,-95.618 2543,-86.7965 2543,-78.3409\"/>\n",
       "<polygon fill=\"#000000\" stroke=\"#000000\" points=\"2546.5001,-78.2636 2543,-68.2637 2539.5001,-78.2637 2546.5001,-78.2636\"/>\n",
       "</g>\n",
       "<!-- 47 -->\n",
       "<g id=\"node48\" class=\"node\">\n",
       "<title>47</title>\n",
       "<path fill=\"none\" stroke=\"#000000\" d=\"M2693,-68C2693,-68 2623,-68 2623,-68 2617,-68 2611,-62 2611,-56 2611,-56 2611,-12 2611,-12 2611,-6 2617,0 2623,0 2623,0 2693,0 2693,0 2699,0 2705,-6 2705,-12 2705,-12 2705,-56 2705,-56 2705,-62 2699,-68 2693,-68\"/>\n",
       "<text text-anchor=\"middle\" x=\"2658\" y=\"-52.8\" font-family=\"Helvetica,sans-Serif\" font-size=\"14.00\" fill=\"#000000\">gini = 0.167</text>\n",
       "<text text-anchor=\"middle\" x=\"2658\" y=\"-37.8\" font-family=\"Helvetica,sans-Serif\" font-size=\"14.00\" fill=\"#000000\">samples = 206</text>\n",
       "<text text-anchor=\"middle\" x=\"2658\" y=\"-22.8\" font-family=\"Helvetica,sans-Serif\" font-size=\"14.00\" fill=\"#000000\">value = [19, 187]</text>\n",
       "<text text-anchor=\"middle\" x=\"2658\" y=\"-7.8\" font-family=\"Helvetica,sans-Serif\" font-size=\"14.00\" fill=\"#000000\">class = &lt;=50K</text>\n",
       "</g>\n",
       "<!-- 45&#45;&gt;47 -->\n",
       "<g id=\"edge47\" class=\"edge\">\n",
       "<title>45&#45;&gt;47</title>\n",
       "<path fill=\"none\" stroke=\"#000000\" d=\"M2585.8218,-103.9815C2595.4905,-94.607 2605.7527,-84.6572 2615.4118,-75.2921\"/>\n",
       "<polygon fill=\"#000000\" stroke=\"#000000\" points=\"2617.9176,-77.7375 2622.6608,-68.2637 2613.0449,-72.7118 2617.9176,-77.7375\"/>\n",
       "</g>\n",
       "<!-- 49 -->\n",
       "<g id=\"node50\" class=\"node\">\n",
       "<title>49</title>\n",
       "<path fill=\"none\" stroke=\"#000000\" d=\"M2964,-306C2964,-306 2888,-306 2888,-306 2882,-306 2876,-300 2876,-294 2876,-294 2876,-235 2876,-235 2876,-229 2882,-223 2888,-223 2888,-223 2964,-223 2964,-223 2970,-223 2976,-229 2976,-235 2976,-235 2976,-294 2976,-294 2976,-300 2970,-306 2964,-306\"/>\n",
       "<text text-anchor=\"middle\" x=\"2926\" y=\"-290.8\" font-family=\"Helvetica,sans-Serif\" font-size=\"14.00\" fill=\"#000000\">Age &lt;= 28.5</text>\n",
       "<text text-anchor=\"middle\" x=\"2926\" y=\"-275.8\" font-family=\"Helvetica,sans-Serif\" font-size=\"14.00\" fill=\"#000000\">gini = 0.47</text>\n",
       "<text text-anchor=\"middle\" x=\"2926\" y=\"-260.8\" font-family=\"Helvetica,sans-Serif\" font-size=\"14.00\" fill=\"#000000\">samples = 1232</text>\n",
       "<text text-anchor=\"middle\" x=\"2926\" y=\"-245.8\" font-family=\"Helvetica,sans-Serif\" font-size=\"14.00\" fill=\"#000000\">value = [464, 768]</text>\n",
       "<text text-anchor=\"middle\" x=\"2926\" y=\"-230.8\" font-family=\"Helvetica,sans-Serif\" font-size=\"14.00\" fill=\"#000000\">class = &lt;=50K</text>\n",
       "</g>\n",
       "<!-- 48&#45;&gt;49 -->\n",
       "<g id=\"edge49\" class=\"edge\">\n",
       "<title>48&#45;&gt;49</title>\n",
       "<path fill=\"none\" stroke=\"#000000\" d=\"M2926,-341.8796C2926,-333.6838 2926,-324.9891 2926,-316.5013\"/>\n",
       "<polygon fill=\"#000000\" stroke=\"#000000\" points=\"2929.5001,-316.298 2926,-306.2981 2922.5001,-316.2981 2929.5001,-316.298\"/>\n",
       "</g>\n",
       "<!-- 56 -->\n",
       "<g id=\"node57\" class=\"node\">\n",
       "<title>56</title>\n",
       "<path fill=\"none\" stroke=\"#000000\" d=\"M3286,-306C3286,-306 3210,-306 3210,-306 3204,-306 3198,-300 3198,-294 3198,-294 3198,-235 3198,-235 3198,-229 3204,-223 3210,-223 3210,-223 3286,-223 3286,-223 3292,-223 3298,-229 3298,-235 3298,-235 3298,-294 3298,-294 3298,-300 3292,-306 3286,-306\"/>\n",
       "<text text-anchor=\"middle\" x=\"3248\" y=\"-290.8\" font-family=\"Helvetica,sans-Serif\" font-size=\"14.00\" fill=\"#000000\">Age &lt;= 28.5</text>\n",
       "<text text-anchor=\"middle\" x=\"3248\" y=\"-275.8\" font-family=\"Helvetica,sans-Serif\" font-size=\"14.00\" fill=\"#000000\">gini = 0.327</text>\n",
       "<text text-anchor=\"middle\" x=\"3248\" y=\"-260.8\" font-family=\"Helvetica,sans-Serif\" font-size=\"14.00\" fill=\"#000000\">samples = 593</text>\n",
       "<text text-anchor=\"middle\" x=\"3248\" y=\"-245.8\" font-family=\"Helvetica,sans-Serif\" font-size=\"14.00\" fill=\"#000000\">value = [122, 471]</text>\n",
       "<text text-anchor=\"middle\" x=\"3248\" y=\"-230.8\" font-family=\"Helvetica,sans-Serif\" font-size=\"14.00\" fill=\"#000000\">class = &lt;=50K</text>\n",
       "</g>\n",
       "<!-- 48&#45;&gt;56 -->\n",
       "<g id=\"edge56\" class=\"edge\">\n",
       "<title>48&#45;&gt;56</title>\n",
       "<path fill=\"none\" stroke=\"#000000\" d=\"M3019.5683,-348.9204C3073.9421,-328.8258 3140.8402,-304.1025 3188.151,-286.6181\"/>\n",
       "<polygon fill=\"#000000\" stroke=\"#000000\" points=\"3189.4732,-289.8609 3197.6398,-283.1114 3187.0466,-283.295 3189.4732,-289.8609\"/>\n",
       "</g>\n",
       "<!-- 50 -->\n",
       "<g id=\"node51\" class=\"node\">\n",
       "<title>50</title>\n",
       "<path fill=\"none\" stroke=\"#000000\" d=\"M2901.5,-187C2901.5,-187 2836.5,-187 2836.5,-187 2830.5,-187 2824.5,-181 2824.5,-175 2824.5,-175 2824.5,-116 2824.5,-116 2824.5,-110 2830.5,-104 2836.5,-104 2836.5,-104 2901.5,-104 2901.5,-104 2907.5,-104 2913.5,-110 2913.5,-116 2913.5,-116 2913.5,-175 2913.5,-175 2913.5,-181 2907.5,-187 2901.5,-187\"/>\n",
       "<text text-anchor=\"middle\" x=\"2869\" y=\"-171.8\" font-family=\"Helvetica,sans-Serif\" font-size=\"14.00\" fill=\"#000000\">Age &lt;= 24.5</text>\n",
       "<text text-anchor=\"middle\" x=\"2869\" y=\"-156.8\" font-family=\"Helvetica,sans-Serif\" font-size=\"14.00\" fill=\"#000000\">gini = 0.471</text>\n",
       "<text text-anchor=\"middle\" x=\"2869\" y=\"-141.8\" font-family=\"Helvetica,sans-Serif\" font-size=\"14.00\" fill=\"#000000\">samples = 92</text>\n",
       "<text text-anchor=\"middle\" x=\"2869\" y=\"-126.8\" font-family=\"Helvetica,sans-Serif\" font-size=\"14.00\" fill=\"#000000\">value = [57, 35]</text>\n",
       "<text text-anchor=\"middle\" x=\"2869\" y=\"-111.8\" font-family=\"Helvetica,sans-Serif\" font-size=\"14.00\" fill=\"#000000\">class = &lt;=50K</text>\n",
       "</g>\n",
       "<!-- 49&#45;&gt;50 -->\n",
       "<g id=\"edge50\" class=\"edge\">\n",
       "<title>49&#45;&gt;50</title>\n",
       "<path fill=\"none\" stroke=\"#000000\" d=\"M2906.0642,-222.8796C2901.9659,-214.3236 2897.6072,-205.2238 2893.3727,-196.3833\"/>\n",
       "<polygon fill=\"#000000\" stroke=\"#000000\" points=\"2896.4975,-194.8049 2889.0209,-187.2981 2890.1843,-197.8288 2896.4975,-194.8049\"/>\n",
       "</g>\n",
       "<!-- 53 -->\n",
       "<g id=\"node54\" class=\"node\">\n",
       "<title>53</title>\n",
       "<path fill=\"none\" stroke=\"#000000\" d=\"M3020,-187C3020,-187 2944,-187 2944,-187 2938,-187 2932,-181 2932,-175 2932,-175 2932,-116 2932,-116 2932,-110 2938,-104 2944,-104 2944,-104 3020,-104 3020,-104 3026,-104 3032,-110 3032,-116 3032,-116 3032,-175 3032,-175 3032,-181 3026,-187 3020,-187\"/>\n",
       "<text text-anchor=\"middle\" x=\"2982\" y=\"-171.8\" font-family=\"Helvetica,sans-Serif\" font-size=\"14.00\" fill=\"#000000\">Age &lt;= 57.5</text>\n",
       "<text text-anchor=\"middle\" x=\"2982\" y=\"-156.8\" font-family=\"Helvetica,sans-Serif\" font-size=\"14.00\" fill=\"#000000\">gini = 0.459</text>\n",
       "<text text-anchor=\"middle\" x=\"2982\" y=\"-141.8\" font-family=\"Helvetica,sans-Serif\" font-size=\"14.00\" fill=\"#000000\">samples = 1140</text>\n",
       "<text text-anchor=\"middle\" x=\"2982\" y=\"-126.8\" font-family=\"Helvetica,sans-Serif\" font-size=\"14.00\" fill=\"#000000\">value = [407, 733]</text>\n",
       "<text text-anchor=\"middle\" x=\"2982\" y=\"-111.8\" font-family=\"Helvetica,sans-Serif\" font-size=\"14.00\" fill=\"#000000\">class = &lt;=50K</text>\n",
       "</g>\n",
       "<!-- 49&#45;&gt;53 -->\n",
       "<g id=\"edge53\" class=\"edge\">\n",
       "<title>49&#45;&gt;53</title>\n",
       "<path fill=\"none\" stroke=\"#000000\" d=\"M2945.5861,-222.8796C2949.6124,-214.3236 2953.8947,-205.2238 2958.0549,-196.3833\"/>\n",
       "<polygon fill=\"#000000\" stroke=\"#000000\" points=\"2961.2392,-197.8366 2962.3303,-187.2981 2954.9054,-194.856 2961.2392,-197.8366\"/>\n",
       "</g>\n",
       "<!-- 51 -->\n",
       "<g id=\"node52\" class=\"node\">\n",
       "<title>51</title>\n",
       "<path fill=\"none\" stroke=\"#000000\" d=\"M2794.5,-68C2794.5,-68 2735.5,-68 2735.5,-68 2729.5,-68 2723.5,-62 2723.5,-56 2723.5,-56 2723.5,-12 2723.5,-12 2723.5,-6 2729.5,0 2735.5,0 2735.5,0 2794.5,0 2794.5,0 2800.5,0 2806.5,-6 2806.5,-12 2806.5,-12 2806.5,-56 2806.5,-56 2806.5,-62 2800.5,-68 2794.5,-68\"/>\n",
       "<text text-anchor=\"middle\" x=\"2765\" y=\"-52.8\" font-family=\"Helvetica,sans-Serif\" font-size=\"14.00\" fill=\"#000000\">gini = 0.245</text>\n",
       "<text text-anchor=\"middle\" x=\"2765\" y=\"-37.8\" font-family=\"Helvetica,sans-Serif\" font-size=\"14.00\" fill=\"#000000\">samples = 14</text>\n",
       "<text text-anchor=\"middle\" x=\"2765\" y=\"-22.8\" font-family=\"Helvetica,sans-Serif\" font-size=\"14.00\" fill=\"#000000\">value = [12, 2]</text>\n",
       "<text text-anchor=\"middle\" x=\"2765\" y=\"-7.8\" font-family=\"Helvetica,sans-Serif\" font-size=\"14.00\" fill=\"#000000\">class = &lt;=50K</text>\n",
       "</g>\n",
       "<!-- 50&#45;&gt;51 -->\n",
       "<g id=\"edge51\" class=\"edge\">\n",
       "<title>50&#45;&gt;51</title>\n",
       "<path fill=\"none\" stroke=\"#000000\" d=\"M2830.2742,-103.9815C2821.7018,-94.7908 2812.6135,-85.0472 2804.029,-75.8436\"/>\n",
       "<polygon fill=\"#000000\" stroke=\"#000000\" points=\"2806.3393,-73.1891 2796.9589,-68.2637 2801.2204,-77.9637 2806.3393,-73.1891\"/>\n",
       "</g>\n",
       "<!-- 52 -->\n",
       "<g id=\"node53\" class=\"node\">\n",
       "<title>52</title>\n",
       "<path fill=\"none\" stroke=\"#000000\" d=\"M2901.5,-68C2901.5,-68 2836.5,-68 2836.5,-68 2830.5,-68 2824.5,-62 2824.5,-56 2824.5,-56 2824.5,-12 2824.5,-12 2824.5,-6 2830.5,0 2836.5,0 2836.5,0 2901.5,0 2901.5,0 2907.5,0 2913.5,-6 2913.5,-12 2913.5,-12 2913.5,-56 2913.5,-56 2913.5,-62 2907.5,-68 2901.5,-68\"/>\n",
       "<text text-anchor=\"middle\" x=\"2869\" y=\"-52.8\" font-family=\"Helvetica,sans-Serif\" font-size=\"14.00\" fill=\"#000000\">gini = 0.488</text>\n",
       "<text text-anchor=\"middle\" x=\"2869\" y=\"-37.8\" font-family=\"Helvetica,sans-Serif\" font-size=\"14.00\" fill=\"#000000\">samples = 78</text>\n",
       "<text text-anchor=\"middle\" x=\"2869\" y=\"-22.8\" font-family=\"Helvetica,sans-Serif\" font-size=\"14.00\" fill=\"#000000\">value = [45, 33]</text>\n",
       "<text text-anchor=\"middle\" x=\"2869\" y=\"-7.8\" font-family=\"Helvetica,sans-Serif\" font-size=\"14.00\" fill=\"#000000\">class = &lt;=50K</text>\n",
       "</g>\n",
       "<!-- 50&#45;&gt;52 -->\n",
       "<g id=\"edge52\" class=\"edge\">\n",
       "<title>50&#45;&gt;52</title>\n",
       "<path fill=\"none\" stroke=\"#000000\" d=\"M2869,-103.9815C2869,-95.618 2869,-86.7965 2869,-78.3409\"/>\n",
       "<polygon fill=\"#000000\" stroke=\"#000000\" points=\"2872.5001,-78.2636 2869,-68.2637 2865.5001,-78.2637 2872.5001,-78.2636\"/>\n",
       "</g>\n",
       "<!-- 54 -->\n",
       "<g id=\"node55\" class=\"node\">\n",
       "<title>54</title>\n",
       "<path fill=\"none\" stroke=\"#000000\" d=\"M3020,-68C3020,-68 2944,-68 2944,-68 2938,-68 2932,-62 2932,-56 2932,-56 2932,-12 2932,-12 2932,-6 2938,0 2944,0 2944,0 3020,0 3020,0 3026,0 3032,-6 3032,-12 3032,-12 3032,-56 3032,-56 3032,-62 3026,-68 3020,-68\"/>\n",
       "<text text-anchor=\"middle\" x=\"2982\" y=\"-52.8\" font-family=\"Helvetica,sans-Serif\" font-size=\"14.00\" fill=\"#000000\">gini = 0.445</text>\n",
       "<text text-anchor=\"middle\" x=\"2982\" y=\"-37.8\" font-family=\"Helvetica,sans-Serif\" font-size=\"14.00\" fill=\"#000000\">samples = 985</text>\n",
       "<text text-anchor=\"middle\" x=\"2982\" y=\"-22.8\" font-family=\"Helvetica,sans-Serif\" font-size=\"14.00\" fill=\"#000000\">value = [329, 656]</text>\n",
       "<text text-anchor=\"middle\" x=\"2982\" y=\"-7.8\" font-family=\"Helvetica,sans-Serif\" font-size=\"14.00\" fill=\"#000000\">class = &lt;=50K</text>\n",
       "</g>\n",
       "<!-- 53&#45;&gt;54 -->\n",
       "<g id=\"edge54\" class=\"edge\">\n",
       "<title>53&#45;&gt;54</title>\n",
       "<path fill=\"none\" stroke=\"#000000\" d=\"M2982,-103.9815C2982,-95.618 2982,-86.7965 2982,-78.3409\"/>\n",
       "<polygon fill=\"#000000\" stroke=\"#000000\" points=\"2985.5001,-78.2636 2982,-68.2637 2978.5001,-78.2637 2985.5001,-78.2636\"/>\n",
       "</g>\n",
       "<!-- 55 -->\n",
       "<g id=\"node56\" class=\"node\">\n",
       "<title>55</title>\n",
       "<path fill=\"none\" stroke=\"#000000\" d=\"M3127.5,-68C3127.5,-68 3062.5,-68 3062.5,-68 3056.5,-68 3050.5,-62 3050.5,-56 3050.5,-56 3050.5,-12 3050.5,-12 3050.5,-6 3056.5,0 3062.5,0 3062.5,0 3127.5,0 3127.5,0 3133.5,0 3139.5,-6 3139.5,-12 3139.5,-12 3139.5,-56 3139.5,-56 3139.5,-62 3133.5,-68 3127.5,-68\"/>\n",
       "<text text-anchor=\"middle\" x=\"3095\" y=\"-52.8\" font-family=\"Helvetica,sans-Serif\" font-size=\"14.00\" fill=\"#000000\">gini = 0.5</text>\n",
       "<text text-anchor=\"middle\" x=\"3095\" y=\"-37.8\" font-family=\"Helvetica,sans-Serif\" font-size=\"14.00\" fill=\"#000000\">samples = 155</text>\n",
       "<text text-anchor=\"middle\" x=\"3095\" y=\"-22.8\" font-family=\"Helvetica,sans-Serif\" font-size=\"14.00\" fill=\"#000000\">value = [78, 77]</text>\n",
       "<text text-anchor=\"middle\" x=\"3095\" y=\"-7.8\" font-family=\"Helvetica,sans-Serif\" font-size=\"14.00\" fill=\"#000000\">class = &lt;=50K</text>\n",
       "</g>\n",
       "<!-- 53&#45;&gt;55 -->\n",
       "<g id=\"edge55\" class=\"edge\">\n",
       "<title>53&#45;&gt;55</title>\n",
       "<path fill=\"none\" stroke=\"#000000\" d=\"M3024.077,-103.9815C3033.5776,-94.607 3043.6613,-84.6572 3053.1524,-75.2921\"/>\n",
       "<polygon fill=\"#000000\" stroke=\"#000000\" points=\"3055.6155,-77.7787 3060.2754,-68.2637 3050.6989,-72.796 3055.6155,-77.7787\"/>\n",
       "</g>\n",
       "<!-- 57 -->\n",
       "<g id=\"node58\" class=\"node\">\n",
       "<title>57</title>\n",
       "<path fill=\"none\" stroke=\"#000000\" d=\"M3280.5,-187C3280.5,-187 3215.5,-187 3215.5,-187 3209.5,-187 3203.5,-181 3203.5,-175 3203.5,-175 3203.5,-116 3203.5,-116 3203.5,-110 3209.5,-104 3215.5,-104 3215.5,-104 3280.5,-104 3280.5,-104 3286.5,-104 3292.5,-110 3292.5,-116 3292.5,-116 3292.5,-175 3292.5,-175 3292.5,-181 3286.5,-187 3280.5,-187\"/>\n",
       "<text text-anchor=\"middle\" x=\"3248\" y=\"-171.8\" font-family=\"Helvetica,sans-Serif\" font-size=\"14.00\" fill=\"#000000\">Age &lt;= 25.5</text>\n",
       "<text text-anchor=\"middle\" x=\"3248\" y=\"-156.8\" font-family=\"Helvetica,sans-Serif\" font-size=\"14.00\" fill=\"#000000\">gini = 0.497</text>\n",
       "<text text-anchor=\"middle\" x=\"3248\" y=\"-141.8\" font-family=\"Helvetica,sans-Serif\" font-size=\"14.00\" fill=\"#000000\">samples = 26</text>\n",
       "<text text-anchor=\"middle\" x=\"3248\" y=\"-126.8\" font-family=\"Helvetica,sans-Serif\" font-size=\"14.00\" fill=\"#000000\">value = [14, 12]</text>\n",
       "<text text-anchor=\"middle\" x=\"3248\" y=\"-111.8\" font-family=\"Helvetica,sans-Serif\" font-size=\"14.00\" fill=\"#000000\">class = &lt;=50K</text>\n",
       "</g>\n",
       "<!-- 56&#45;&gt;57 -->\n",
       "<g id=\"edge57\" class=\"edge\">\n",
       "<title>56&#45;&gt;57</title>\n",
       "<path fill=\"none\" stroke=\"#000000\" d=\"M3248,-222.8796C3248,-214.6838 3248,-205.9891 3248,-197.5013\"/>\n",
       "<polygon fill=\"#000000\" stroke=\"#000000\" points=\"3251.5001,-197.298 3248,-187.2981 3244.5001,-197.2981 3251.5001,-197.298\"/>\n",
       "</g>\n",
       "<!-- 60 -->\n",
       "<g id=\"node61\" class=\"node\">\n",
       "<title>60</title>\n",
       "<path fill=\"none\" stroke=\"#000000\" d=\"M3448,-187C3448,-187 3372,-187 3372,-187 3366,-187 3360,-181 3360,-175 3360,-175 3360,-116 3360,-116 3360,-110 3366,-104 3372,-104 3372,-104 3448,-104 3448,-104 3454,-104 3460,-110 3460,-116 3460,-116 3460,-175 3460,-175 3460,-181 3454,-187 3448,-187\"/>\n",
       "<text text-anchor=\"middle\" x=\"3410\" y=\"-171.8\" font-family=\"Helvetica,sans-Serif\" font-size=\"14.00\" fill=\"#000000\">Age &lt;= 69.5</text>\n",
       "<text text-anchor=\"middle\" x=\"3410\" y=\"-156.8\" font-family=\"Helvetica,sans-Serif\" font-size=\"14.00\" fill=\"#000000\">gini = 0.308</text>\n",
       "<text text-anchor=\"middle\" x=\"3410\" y=\"-141.8\" font-family=\"Helvetica,sans-Serif\" font-size=\"14.00\" fill=\"#000000\">samples = 567</text>\n",
       "<text text-anchor=\"middle\" x=\"3410\" y=\"-126.8\" font-family=\"Helvetica,sans-Serif\" font-size=\"14.00\" fill=\"#000000\">value = [108, 459]</text>\n",
       "<text text-anchor=\"middle\" x=\"3410\" y=\"-111.8\" font-family=\"Helvetica,sans-Serif\" font-size=\"14.00\" fill=\"#000000\">class = &lt;=50K</text>\n",
       "</g>\n",
       "<!-- 56&#45;&gt;60 -->\n",
       "<g id=\"edge60\" class=\"edge\">\n",
       "<title>56&#45;&gt;60</title>\n",
       "<path fill=\"none\" stroke=\"#000000\" d=\"M3298.3698,-227.5C3315.2119,-215.1283 3334.1259,-201.2347 3351.5319,-188.4488\"/>\n",
       "<polygon fill=\"#000000\" stroke=\"#000000\" points=\"3353.9525,-191.0135 3359.9398,-182.2726 3349.8084,-185.372 3353.9525,-191.0135\"/>\n",
       "</g>\n",
       "<!-- 58 -->\n",
       "<g id=\"node59\" class=\"node\">\n",
       "<title>58</title>\n",
       "<path fill=\"none\" stroke=\"#000000\" d=\"M3228.5,-68C3228.5,-68 3169.5,-68 3169.5,-68 3163.5,-68 3157.5,-62 3157.5,-56 3157.5,-56 3157.5,-12 3157.5,-12 3157.5,-6 3163.5,0 3169.5,0 3169.5,0 3228.5,0 3228.5,0 3234.5,0 3240.5,-6 3240.5,-12 3240.5,-12 3240.5,-56 3240.5,-56 3240.5,-62 3234.5,-68 3228.5,-68\"/>\n",
       "<text text-anchor=\"middle\" x=\"3199\" y=\"-52.8\" font-family=\"Helvetica,sans-Serif\" font-size=\"14.00\" fill=\"#000000\">gini = 0.278</text>\n",
       "<text text-anchor=\"middle\" x=\"3199\" y=\"-37.8\" font-family=\"Helvetica,sans-Serif\" font-size=\"14.00\" fill=\"#000000\">samples = 6</text>\n",
       "<text text-anchor=\"middle\" x=\"3199\" y=\"-22.8\" font-family=\"Helvetica,sans-Serif\" font-size=\"14.00\" fill=\"#000000\">value = [5, 1]</text>\n",
       "<text text-anchor=\"middle\" x=\"3199\" y=\"-7.8\" font-family=\"Helvetica,sans-Serif\" font-size=\"14.00\" fill=\"#000000\">class = &lt;=50K</text>\n",
       "</g>\n",
       "<!-- 57&#45;&gt;58 -->\n",
       "<g id=\"edge58\" class=\"edge\">\n",
       "<title>57&#45;&gt;58</title>\n",
       "<path fill=\"none\" stroke=\"#000000\" d=\"M3229.7542,-103.9815C3225.9576,-95.3423 3221.9462,-86.2144 3218.1192,-77.5059\"/>\n",
       "<polygon fill=\"#000000\" stroke=\"#000000\" points=\"3221.2851,-76.0105 3214.0576,-68.2637 3214.8767,-78.8268 3221.2851,-76.0105\"/>\n",
       "</g>\n",
       "<!-- 59 -->\n",
       "<g id=\"node60\" class=\"node\">\n",
       "<title>59</title>\n",
       "<path fill=\"none\" stroke=\"#000000\" d=\"M3329.5,-68C3329.5,-68 3270.5,-68 3270.5,-68 3264.5,-68 3258.5,-62 3258.5,-56 3258.5,-56 3258.5,-12 3258.5,-12 3258.5,-6 3264.5,0 3270.5,0 3270.5,0 3329.5,0 3329.5,0 3335.5,0 3341.5,-6 3341.5,-12 3341.5,-12 3341.5,-56 3341.5,-56 3341.5,-62 3335.5,-68 3329.5,-68\"/>\n",
       "<text text-anchor=\"middle\" x=\"3300\" y=\"-52.8\" font-family=\"Helvetica,sans-Serif\" font-size=\"14.00\" fill=\"#000000\">gini = 0.495</text>\n",
       "<text text-anchor=\"middle\" x=\"3300\" y=\"-37.8\" font-family=\"Helvetica,sans-Serif\" font-size=\"14.00\" fill=\"#000000\">samples = 20</text>\n",
       "<text text-anchor=\"middle\" x=\"3300\" y=\"-22.8\" font-family=\"Helvetica,sans-Serif\" font-size=\"14.00\" fill=\"#000000\">value = [9, 11]</text>\n",
       "<text text-anchor=\"middle\" x=\"3300\" y=\"-7.8\" font-family=\"Helvetica,sans-Serif\" font-size=\"14.00\" fill=\"#000000\">class = &lt;=50K</text>\n",
       "</g>\n",
       "<!-- 57&#45;&gt;59 -->\n",
       "<g id=\"edge59\" class=\"edge\">\n",
       "<title>57&#45;&gt;59</title>\n",
       "<path fill=\"none\" stroke=\"#000000\" d=\"M3267.3629,-103.9815C3271.3919,-95.3423 3275.6489,-86.2144 3279.7103,-77.5059\"/>\n",
       "<polygon fill=\"#000000\" stroke=\"#000000\" points=\"3282.9659,-78.8059 3284.0205,-68.2637 3276.6218,-75.8472 3282.9659,-78.8059\"/>\n",
       "</g>\n",
       "<!-- 61 -->\n",
       "<g id=\"node62\" class=\"node\">\n",
       "<title>61</title>\n",
       "<path fill=\"none\" stroke=\"#000000\" d=\"M3448,-68C3448,-68 3372,-68 3372,-68 3366,-68 3360,-62 3360,-56 3360,-56 3360,-12 3360,-12 3360,-6 3366,0 3372,0 3372,0 3448,0 3448,0 3454,0 3460,-6 3460,-12 3460,-12 3460,-56 3460,-56 3460,-62 3454,-68 3448,-68\"/>\n",
       "<text text-anchor=\"middle\" x=\"3410\" y=\"-52.8\" font-family=\"Helvetica,sans-Serif\" font-size=\"14.00\" fill=\"#000000\">gini = 0.298</text>\n",
       "<text text-anchor=\"middle\" x=\"3410\" y=\"-37.8\" font-family=\"Helvetica,sans-Serif\" font-size=\"14.00\" fill=\"#000000\">samples = 555</text>\n",
       "<text text-anchor=\"middle\" x=\"3410\" y=\"-22.8\" font-family=\"Helvetica,sans-Serif\" font-size=\"14.00\" fill=\"#000000\">value = [101, 454]</text>\n",
       "<text text-anchor=\"middle\" x=\"3410\" y=\"-7.8\" font-family=\"Helvetica,sans-Serif\" font-size=\"14.00\" fill=\"#000000\">class = &lt;=50K</text>\n",
       "</g>\n",
       "<!-- 60&#45;&gt;61 -->\n",
       "<g id=\"edge61\" class=\"edge\">\n",
       "<title>60&#45;&gt;61</title>\n",
       "<path fill=\"none\" stroke=\"#000000\" d=\"M3410,-103.9815C3410,-95.618 3410,-86.7965 3410,-78.3409\"/>\n",
       "<polygon fill=\"#000000\" stroke=\"#000000\" points=\"3413.5001,-78.2636 3410,-68.2637 3406.5001,-78.2637 3413.5001,-78.2636\"/>\n",
       "</g>\n",
       "<!-- 62 -->\n",
       "<g id=\"node63\" class=\"node\">\n",
       "<title>62</title>\n",
       "<path fill=\"none\" stroke=\"#000000\" d=\"M3549.5,-68C3549.5,-68 3490.5,-68 3490.5,-68 3484.5,-68 3478.5,-62 3478.5,-56 3478.5,-56 3478.5,-12 3478.5,-12 3478.5,-6 3484.5,0 3490.5,0 3490.5,0 3549.5,0 3549.5,0 3555.5,0 3561.5,-6 3561.5,-12 3561.5,-12 3561.5,-56 3561.5,-56 3561.5,-62 3555.5,-68 3549.5,-68\"/>\n",
       "<text text-anchor=\"middle\" x=\"3520\" y=\"-52.8\" font-family=\"Helvetica,sans-Serif\" font-size=\"14.00\" fill=\"#000000\">gini = 0.486</text>\n",
       "<text text-anchor=\"middle\" x=\"3520\" y=\"-37.8\" font-family=\"Helvetica,sans-Serif\" font-size=\"14.00\" fill=\"#000000\">samples = 12</text>\n",
       "<text text-anchor=\"middle\" x=\"3520\" y=\"-22.8\" font-family=\"Helvetica,sans-Serif\" font-size=\"14.00\" fill=\"#000000\">value = [7, 5]</text>\n",
       "<text text-anchor=\"middle\" x=\"3520\" y=\"-7.8\" font-family=\"Helvetica,sans-Serif\" font-size=\"14.00\" fill=\"#000000\">class = &lt;=50K</text>\n",
       "</g>\n",
       "<!-- 60&#45;&gt;62 -->\n",
       "<g id=\"edge62\" class=\"edge\">\n",
       "<title>60&#45;&gt;62</title>\n",
       "<path fill=\"none\" stroke=\"#000000\" d=\"M3450.9599,-103.9815C3460.1176,-94.6989 3469.8319,-84.8522 3478.9915,-75.5677\"/>\n",
       "<polygon fill=\"#000000\" stroke=\"#000000\" points=\"3481.6658,-77.8406 3486.1973,-68.2637 3476.6826,-72.9244 3481.6658,-77.8406\"/>\n",
       "</g>\n",
       "</g>\n",
       "</svg>\n"
      ],
      "text/plain": [
       "<graphviz.files.Source at 0x1a0c51a860>"
      ]
     },
     "execution_count": 22,
     "metadata": {},
     "output_type": "execute_result"
    }
   ],
   "source": [
    "from sklearn.tree import DecisionTreeClassifier\n",
    "tree_clf = tree.DecisionTreeClassifier(criterion='gini', max_depth=5)\n",
    "tree_clf.fit(data_train,target_train)\n",
    "\n",
    "# Optional--uncomment this code to visualize the Decision Tree\n",
    "export_graphviz(tree_clf, out_file=\"mytree.dot\", feature_names=data_train.columns , class_names=list(target_train), rounded=True)\n",
    "with open(\"mytree.dot\") as f:\n",
    "    dot_graph = f.read()\n",
    "graphviz.Source(dot_graph)"
   ]
  },
  {
   "cell_type": "markdown",
   "metadata": {},
   "source": [
    "### 2.1 Feature importance\n",
    "\n",
    "Let's quickly examine how important each feature ended up being in our Decision Tree model.  Check the `feature_importances_` attribute of our trained model to see what it displays. "
   ]
  },
  {
   "cell_type": "code",
   "execution_count": 23,
   "metadata": {},
   "outputs": [
    {
     "data": {
      "text/plain": [
       "array([6.71769968e-02, 0.00000000e+00, 0.00000000e+00, 0.00000000e+00,\n",
       "       0.00000000e+00, 0.00000000e+00, 0.00000000e+00, 0.00000000e+00,\n",
       "       0.00000000e+00, 0.00000000e+00, 8.91862053e-02, 0.00000000e+00,\n",
       "       1.12609751e-03, 1.31041758e-02, 0.00000000e+00, 5.22321466e-03,\n",
       "       0.00000000e+00, 0.00000000e+00, 0.00000000e+00, 0.00000000e+00,\n",
       "       0.00000000e+00, 1.00017051e-01, 0.00000000e+00, 0.00000000e+00,\n",
       "       0.00000000e+00, 0.00000000e+00, 0.00000000e+00, 1.00613596e-01,\n",
       "       0.00000000e+00, 0.00000000e+00, 0.00000000e+00, 0.00000000e+00,\n",
       "       4.99747317e-01, 0.00000000e+00, 0.00000000e+00, 0.00000000e+00,\n",
       "       0.00000000e+00, 1.18072896e-01, 0.00000000e+00, 2.82824121e-04,\n",
       "       0.00000000e+00, 0.00000000e+00, 0.00000000e+00, 5.44962524e-03,\n",
       "       0.00000000e+00])"
      ]
     },
     "execution_count": 23,
     "metadata": {},
     "output_type": "execute_result"
    }
   ],
   "source": [
    "tree_clf.feature_importances_"
   ]
  },
  {
   "cell_type": "markdown",
   "metadata": {},
   "source": [
    "That matrix isn't very helpful, but a visualization of the data it contains could be.  Run the cell below to plot a visualization of the feature importances for this model. "
   ]
  },
  {
   "cell_type": "code",
   "execution_count": 27,
   "metadata": {},
   "outputs": [
    {
     "data": {
      "image/png": "[encoded data removed]",
      "text/plain": [
       "<Figure size 576x576 with 1 Axes>"
      ]
     },
     "metadata": {},
     "output_type": "display_data"
    }
   ],
   "source": [
    "def plot_feature_importances(model):\n",
    "    n_features = data_train.shape[1]\n",
    "    plt.figure(figsize=(8,8))\n",
    "    plt.barh(range(n_features), model.feature_importances_, align='center') \n",
    "    plt.yticks(np.arange(n_features), data_train.columns.values) \n",
    "    plt.xlabel(\"Feature importance\")\n",
    "    plt.ylabel(\"Feature\")\n",
    "\n",
    "plot_feature_importances(tree_clf)"
   ]
  },
  {
   "cell_type": "markdown",
   "metadata": {},
   "source": [
    "### 2.3 Model performance\n",
    "\n",
    "As we did in the last lab, let's see how well our model performed on the data. "
   ]
  },
  {
   "cell_type": "code",
   "execution_count": 28,
   "metadata": {},
   "outputs": [],
   "source": [
    "from sklearn.metrics import accuracy_score"
   ]
  },
  {
   "cell_type": "code",
   "execution_count": 31,
   "metadata": {},
   "outputs": [
    {
     "name": "stdout",
     "output_type": "stream",
     "text": [
      "[[5762  397]\n",
      " [1078  904]]\n",
      "             precision    recall  f1-score   support\n",
      "\n",
      "      <=50K       0.84      0.94      0.89      6159\n",
      "       >50K       0.69      0.46      0.55      1982\n",
      "\n",
      "avg / total       0.81      0.82      0.80      8141\n",
      "\n"
     ]
    }
   ],
   "source": [
    "pred = tree_clf.predict(data_test)\n",
    "print(metrics.confusion_matrix(target_test, pred))\n",
    "print(metrics.classification_report(target_test, pred))"
   ]
  },
  {
   "cell_type": "code",
   "execution_count": 32,
   "metadata": {},
   "outputs": [
    {
     "name": "stdout",
     "output_type": "stream",
     "text": [
      "Testing Accuracy for Decision Tree Classifier: 81.88%\n"
     ]
    }
   ],
   "source": [
    "print(\"Testing Accuracy for Decision Tree Classifier: {:.4}%\".format(accuracy_score(target_test, pred) * 100))"
   ]
  },
  {
   "cell_type": "markdown",
   "metadata": {},
   "source": [
    "## 3. Bagged trees\n",
    "\n",
    "The first Ensemble approach we'll try is a Bag of Trees.  This will make use of **_Bagging_**, along with a number of Decision Tree Classifier models.  \n",
    "\n",
    "In the cell below, import `BaggingClassifier`, which can be found inside of sklearn's `ensemble` module. "
   ]
  },
  {
   "cell_type": "code",
   "execution_count": 34,
   "metadata": {},
   "outputs": [],
   "source": [
    "from sklearn.ensemble import BaggingClassifier"
   ]
  },
  {
   "cell_type": "markdown",
   "metadata": {},
   "source": [
    "Now, create a `BaggingClassifier`.  In the first parameter spot, create a `DecisionTreeClassifier` and set the same parameters that we did above for `criterion` and `max_depth`.  Also set the `n_estimators` parameter for our Bagging Classifier to `20`. "
   ]
  },
  {
   "cell_type": "code",
   "execution_count": 35,
   "metadata": {},
   "outputs": [],
   "source": [
    "bagged_tree = BaggingClassifier(base_estimator=DecisionTreeClassifier(criterion='gini',max_depth=20),n_estimators=20)"
   ]
  },
  {
   "cell_type": "markdown",
   "metadata": {},
   "source": [
    "Great! Now, fit it to our training data. "
   ]
  },
  {
   "cell_type": "code",
   "execution_count": 37,
   "metadata": {},
   "outputs": [],
   "source": [
    "bagged_model = bagged_tree.fit(data_train,target_train)"
   ]
  },
  {
   "cell_type": "markdown",
   "metadata": {},
   "source": [
    "Checking the accuracy of a model is such a common task that all (supervised learning) models contain a `score()` method that wraps the `accuracy_score` helper method we've been using.  All we have to do is pass it a dataset and the corresponding labels and it will return the accuracy score for those data/labels.  \n",
    "\n",
    "Let's use it to get the training accuracy of our model. In the cell below, call the `.score()` method on our Bagging model and pass in our training data and training labels as parameters. "
   ]
  },
  {
   "cell_type": "code",
   "execution_count": 39,
   "metadata": {},
   "outputs": [
    {
     "data": {
      "text/plain": [
       "0.8941441441441441"
      ]
     },
     "execution_count": 39,
     "metadata": {},
     "output_type": "execute_result"
    }
   ],
   "source": [
    "bagged_model.score(data_train,target_train)"
   ]
  },
  {
   "cell_type": "markdown",
   "metadata": {},
   "source": [
    "Now, let's check the accuracy score that really matters--our testing accuracy.  This time, pass in our testing data and labels to see how the model did.  "
   ]
  },
  {
   "cell_type": "code",
   "execution_count": 40,
   "metadata": {},
   "outputs": [
    {
     "data": {
      "text/plain": [
       "0.8105883798059207"
      ]
     },
     "execution_count": 40,
     "metadata": {},
     "output_type": "execute_result"
    }
   ],
   "source": [
    "bagged_model.score(data_test,target_test)"
   ]
  },
  {
   "cell_type": "markdown",
   "metadata": {},
   "source": [
    "## 4. Random forests\n",
    "\n",
    "Another popular ensemble method is the **_Random Forest_** model.  Let's fit a Random Forest Classifier next and see how it measures up compared to all the others. "
   ]
  },
  {
   "cell_type": "markdown",
   "metadata": {},
   "source": [
    "### 4.1 Fitting a random forests model\n",
    "\n",
    "In the cell below, import the `RandomForestClassifier` from sklearn's `ensemble` module. "
   ]
  },
  {
   "cell_type": "code",
   "execution_count": 41,
   "metadata": {},
   "outputs": [],
   "source": [
    "from sklearn.ensemble import RandomForestClassifier"
   ]
  },
  {
   "cell_type": "markdown",
   "metadata": {},
   "source": [
    "In the cell below, create a `RandomForestClassifier`, and set the number estimators to `100` and the max depth to `5`. Then, fit the model to our training data. "
   ]
  },
  {
   "cell_type": "code",
   "execution_count": 43,
   "metadata": {},
   "outputs": [],
   "source": [
    "forest = RandomForestClassifier(n_estimators=100,max_depth=5)\n",
    "forest_model = forest.fit(data_train,target_train)\n"
   ]
  },
  {
   "cell_type": "markdown",
   "metadata": {},
   "source": [
    "Now, let's check the training and testing accuracy of the model using its `.score()` method."
   ]
  },
  {
   "cell_type": "code",
   "execution_count": 44,
   "metadata": {},
   "outputs": [
    {
     "data": {
      "text/plain": [
       "0.8161343161343161"
      ]
     },
     "execution_count": 44,
     "metadata": {},
     "output_type": "execute_result"
    }
   ],
   "source": [
    "forest_model.score(data_train,target_train)"
   ]
  },
  {
   "cell_type": "code",
   "execution_count": 45,
   "metadata": {},
   "outputs": [
    {
     "data": {
      "text/plain": [
       "0.8120624001965361"
      ]
     },
     "execution_count": 45,
     "metadata": {},
     "output_type": "execute_result"
    }
   ],
   "source": [
    "forest_model.score(data_test,target_test)"
   ]
  },
  {
   "cell_type": "markdown",
   "metadata": {},
   "source": [
    "### 4.2 Look at the feature importances"
   ]
  },
  {
   "cell_type": "code",
   "execution_count": 47,
   "metadata": {},
   "outputs": [
    {
     "data": {
      "image/png": "[encoded data removed]",
      "text/plain": [
       "<Figure size 576x576 with 1 Axes>"
      ]
     },
     "metadata": {},
     "output_type": "display_data"
    }
   ],
   "source": [
    "forest_model.feature_importances_\n",
    "plot_feature_importances(forest_model)"
   ]
  },
  {
   "cell_type": "markdown",
   "metadata": {},
   "source": [
    "Note: \"relationship\" represents what this individual is relative to others. For example an\n",
    "individual could be a Husband. Each entry only has one relationship, so it is a bit of a weird attribute.\n",
    "\n",
    "Also note that more features show up. This is a pretty typical result. "
   ]
  },
  {
   "cell_type": "markdown",
   "metadata": {},
   "source": [
    "### 4.3 Look at the trees in your forest"
   ]
  },
  {
   "cell_type": "markdown",
   "metadata": {},
   "source": [
    "Let's create a forest with some small trees. You'll learn how to access trees in your forest!\n",
    "\n",
    "In the cell below, create another `RandomForestClassifier`.  Set the number of estimators to 5, the `max_features` to 10, and the `max_depth` to 2."
   ]
  },
  {
   "cell_type": "code",
   "execution_count": 48,
   "metadata": {},
   "outputs": [
    {
     "data": {
      "text/plain": [
       "RandomForestClassifier(bootstrap=True, class_weight=None, criterion='gini',\n",
       "            max_depth=2, max_features=10, max_leaf_nodes=None,\n",
       "            min_impurity_decrease=0.0, min_impurity_split=None,\n",
       "            min_samples_leaf=1, min_samples_split=2,\n",
       "            min_weight_fraction_leaf=0.0, n_estimators=5, n_jobs=1,\n",
       "            oob_score=False, random_state=None, verbose=0,\n",
       "            warm_start=False)"
      ]
     },
     "execution_count": 48,
     "metadata": {},
     "output_type": "execute_result"
    }
   ],
   "source": [
    "forest_2 = RandomForestClassifier(n_estimators=5,max_features=10,max_depth=2)\n",
    "forest_2.fit(data_train,target_train)\n"
   ]
  },
  {
   "cell_type": "markdown",
   "metadata": {},
   "source": [
    "Making `max_features` smaller will lead to very different trees in your forest!"
   ]
  },
  {
   "cell_type": "markdown",
   "metadata": {},
   "source": [
    "The trees in your forest are stored in the `.estimators_` attribute.\n",
    "\n",
    "Run the cells below to examine 2 different trees from our new Random Forest Classifier.  "
   ]
  },
  {
   "cell_type": "code",
   "execution_count": 54,
   "metadata": {},
   "outputs": [],
   "source": [
    "tree_1 = forest_2.estimators_[0]"
   ]
  },
  {
   "cell_type": "code",
   "execution_count": 55,
   "metadata": {},
   "outputs": [],
   "source": [
    "tree_2 = forest_2.estimators_[1]"
   ]
  },
  {
   "cell_type": "markdown",
   "metadata": {},
   "source": [
    "As an optional step, uncomment the cells below to visualize the two trees from our Random Forest. "
   ]
  },
  {
   "cell_type": "code",
   "execution_count": 56,
   "metadata": {},
   "outputs": [
    {
     "data": {
      "image/svg+xml": [
       "<?xml version=\"1.0\" encoding=\"UTF-8\" standalone=\"no\"?>\n",
       "<!DOCTYPE svg PUBLIC \"-//W3C//DTD SVG 1.1//EN\"\n",
       " \"http://www.w3.org/Graphics/SVG/1.1/DTD/svg11.dtd\">\n",
       "<!-- Generated by graphviz version 2.40.1 (20161225.0304)\n",
       " -->\n",
       "<!-- Title: Tree Pages: 1 -->\n",
       "<svg width=\"491pt\" height=\"314pt\"\n",
       " viewBox=\"0.00 0.00 491.00 314.00\" xmlns=\"http://www.w3.org/2000/svg\" xmlns:xlink=\"http://www.w3.org/1999/xlink\">\n",
       "<g id=\"graph0\" class=\"graph\" transform=\"scale(1 1) rotate(0) translate(4 310)\">\n",
       "<title>Tree</title>\n",
       "<polygon fill=\"#ffffff\" stroke=\"transparent\" points=\"-4,4 -4,-310 487,-310 487,4 -4,4\"/>\n",
       "<!-- 0 -->\n",
       "<g id=\"node1\" class=\"node\">\n",
       "<title>0</title>\n",
       "<path fill=\"none\" stroke=\"#000000\" d=\"M321,-306C321,-306 185,-306 185,-306 179,-306 173,-300 173,-294 173,-294 173,-235 173,-235 173,-229 179,-223 185,-223 185,-223 321,-223 321,-223 327,-223 333,-229 333,-235 333,-235 333,-294 333,-294 333,-300 327,-306 321,-306\"/>\n",
       "<text text-anchor=\"middle\" x=\"253\" y=\"-290.8\" font-family=\"Helvetica,sans-Serif\" font-size=\"14.00\" fill=\"#000000\">Relationship_Own&#45;child &lt;= 0.5</text>\n",
       "<text text-anchor=\"middle\" x=\"253\" y=\"-275.8\" font-family=\"Helvetica,sans-Serif\" font-size=\"14.00\" fill=\"#000000\">gini = 0.371</text>\n",
       "<text text-anchor=\"middle\" x=\"253\" y=\"-260.8\" font-family=\"Helvetica,sans-Serif\" font-size=\"14.00\" fill=\"#000000\">samples = 15460</text>\n",
       "<text text-anchor=\"middle\" x=\"253\" y=\"-245.8\" font-family=\"Helvetica,sans-Serif\" font-size=\"14.00\" fill=\"#000000\">value = [18407, 6013]</text>\n",
       "<text text-anchor=\"middle\" x=\"253\" y=\"-230.8\" font-family=\"Helvetica,sans-Serif\" font-size=\"14.00\" fill=\"#000000\">class = &lt;=50K</text>\n",
       "</g>\n",
       "<!-- 1 -->\n",
       "<g id=\"node2\" class=\"node\">\n",
       "<title>1</title>\n",
       "<path fill=\"none\" stroke=\"#000000\" d=\"M245.5,-187C245.5,-187 114.5,-187 114.5,-187 108.5,-187 102.5,-181 102.5,-175 102.5,-175 102.5,-116 102.5,-116 102.5,-110 108.5,-104 114.5,-104 114.5,-104 245.5,-104 245.5,-104 251.5,-104 257.5,-110 257.5,-116 257.5,-116 257.5,-175 257.5,-175 257.5,-181 251.5,-187 245.5,-187\"/>\n",
       "<text text-anchor=\"middle\" x=\"180\" y=\"-171.8\" font-family=\"Helvetica,sans-Serif\" font-size=\"14.00\" fill=\"#000000\">Relationship_Husband &lt;= 0.5</text>\n",
       "<text text-anchor=\"middle\" x=\"180\" y=\"-156.8\" font-family=\"Helvetica,sans-Serif\" font-size=\"14.00\" fill=\"#000000\">gini = 0.411</text>\n",
       "<text text-anchor=\"middle\" x=\"180\" y=\"-141.8\" font-family=\"Helvetica,sans-Serif\" font-size=\"14.00\" fill=\"#000000\">samples = 13046</text>\n",
       "<text text-anchor=\"middle\" x=\"180\" y=\"-126.8\" font-family=\"Helvetica,sans-Serif\" font-size=\"14.00\" fill=\"#000000\">value = [14675, 5955]</text>\n",
       "<text text-anchor=\"middle\" x=\"180\" y=\"-111.8\" font-family=\"Helvetica,sans-Serif\" font-size=\"14.00\" fill=\"#000000\">class = &lt;=50K</text>\n",
       "</g>\n",
       "<!-- 0&#45;&gt;1 -->\n",
       "<g id=\"edge1\" class=\"edge\">\n",
       "<title>0&#45;&gt;1</title>\n",
       "<path fill=\"none\" stroke=\"#000000\" d=\"M227.4681,-222.8796C222.109,-214.1434 216.4021,-204.8404 210.8718,-195.8253\"/>\n",
       "<polygon fill=\"#000000\" stroke=\"#000000\" points=\"213.8533,-193.9919 205.6408,-187.2981 207.8865,-197.6522 213.8533,-193.9919\"/>\n",
       "<text text-anchor=\"middle\" x=\"199.8161\" y=\"-207.9101\" font-family=\"Helvetica,sans-Serif\" font-size=\"14.00\" fill=\"#000000\">True</text>\n",
       "</g>\n",
       "<!-- 4 -->\n",
       "<g id=\"node5\" class=\"node\">\n",
       "<title>4</title>\n",
       "<path fill=\"none\" stroke=\"#000000\" d=\"M364,-187C364,-187 288,-187 288,-187 282,-187 276,-181 276,-175 276,-175 276,-116 276,-116 276,-110 282,-104 288,-104 288,-104 364,-104 364,-104 370,-104 376,-110 376,-116 376,-116 376,-175 376,-175 376,-181 370,-187 364,-187\"/>\n",
       "<text text-anchor=\"middle\" x=\"326\" y=\"-171.8\" font-family=\"Helvetica,sans-Serif\" font-size=\"14.00\" fill=\"#000000\">Age &lt;= 31.5</text>\n",
       "<text text-anchor=\"middle\" x=\"326\" y=\"-156.8\" font-family=\"Helvetica,sans-Serif\" font-size=\"14.00\" fill=\"#000000\">gini = 0.03</text>\n",
       "<text text-anchor=\"middle\" x=\"326\" y=\"-141.8\" font-family=\"Helvetica,sans-Serif\" font-size=\"14.00\" fill=\"#000000\">samples = 2414</text>\n",
       "<text text-anchor=\"middle\" x=\"326\" y=\"-126.8\" font-family=\"Helvetica,sans-Serif\" font-size=\"14.00\" fill=\"#000000\">value = [3732, 58]</text>\n",
       "<text text-anchor=\"middle\" x=\"326\" y=\"-111.8\" font-family=\"Helvetica,sans-Serif\" font-size=\"14.00\" fill=\"#000000\">class = &lt;=50K</text>\n",
       "</g>\n",
       "<!-- 0&#45;&gt;4 -->\n",
       "<g id=\"edge4\" class=\"edge\">\n",
       "<title>0&#45;&gt;4</title>\n",
       "<path fill=\"none\" stroke=\"#000000\" d=\"M278.5319,-222.8796C283.891,-214.1434 289.5979,-204.8404 295.1282,-195.8253\"/>\n",
       "<polygon fill=\"#000000\" stroke=\"#000000\" points=\"298.1135,-197.6522 300.3592,-187.2981 292.1467,-193.9919 298.1135,-197.6522\"/>\n",
       "<text text-anchor=\"middle\" x=\"306.1839\" y=\"-207.9101\" font-family=\"Helvetica,sans-Serif\" font-size=\"14.00\" fill=\"#000000\">False</text>\n",
       "</g>\n",
       "<!-- 2 -->\n",
       "<g id=\"node3\" class=\"node\">\n",
       "<title>2</title>\n",
       "<path fill=\"none\" stroke=\"#000000\" d=\"M100,-68C100,-68 12,-68 12,-68 6,-68 0,-62 0,-56 0,-56 0,-12 0,-12 0,-6 6,0 12,0 12,0 100,0 100,0 106,0 112,-6 112,-12 112,-12 112,-56 112,-56 112,-62 106,-68 100,-68\"/>\n",
       "<text text-anchor=\"middle\" x=\"56\" y=\"-52.8\" font-family=\"Helvetica,sans-Serif\" font-size=\"14.00\" fill=\"#000000\">gini = 0.225</text>\n",
       "<text text-anchor=\"middle\" x=\"56\" y=\"-37.8\" font-family=\"Helvetica,sans-Serif\" font-size=\"14.00\" fill=\"#000000\">samples = 6757</text>\n",
       "<text text-anchor=\"middle\" x=\"56\" y=\"-22.8\" font-family=\"Helvetica,sans-Serif\" font-size=\"14.00\" fill=\"#000000\">value = [9214, 1371]</text>\n",
       "<text text-anchor=\"middle\" x=\"56\" y=\"-7.8\" font-family=\"Helvetica,sans-Serif\" font-size=\"14.00\" fill=\"#000000\">class = &lt;=50K</text>\n",
       "</g>\n",
       "<!-- 1&#45;&gt;2 -->\n",
       "<g id=\"edge2\" class=\"edge\">\n",
       "<title>1&#45;&gt;2</title>\n",
       "<path fill=\"none\" stroke=\"#000000\" d=\"M133.827,-103.9815C123.2993,-94.5151 112.1192,-84.462 101.6151,-75.0168\"/>\n",
       "<polygon fill=\"#000000\" stroke=\"#000000\" points=\"103.8811,-72.3475 94.1049,-68.2637 99.2006,-77.5526 103.8811,-72.3475\"/>\n",
       "</g>\n",
       "<!-- 3 -->\n",
       "<g id=\"node4\" class=\"node\">\n",
       "<title>3</title>\n",
       "<path fill=\"none\" stroke=\"#000000\" d=\"M230,-68C230,-68 142,-68 142,-68 136,-68 130,-62 130,-56 130,-56 130,-12 130,-12 130,-6 136,0 142,0 142,0 230,0 230,0 236,0 242,-6 242,-12 242,-12 242,-56 242,-56 242,-62 236,-68 230,-68\"/>\n",
       "<text text-anchor=\"middle\" x=\"186\" y=\"-52.8\" font-family=\"Helvetica,sans-Serif\" font-size=\"14.00\" fill=\"#000000\">gini = 0.496</text>\n",
       "<text text-anchor=\"middle\" x=\"186\" y=\"-37.8\" font-family=\"Helvetica,sans-Serif\" font-size=\"14.00\" fill=\"#000000\">samples = 6289</text>\n",
       "<text text-anchor=\"middle\" x=\"186\" y=\"-22.8\" font-family=\"Helvetica,sans-Serif\" font-size=\"14.00\" fill=\"#000000\">value = [5461, 4584]</text>\n",
       "<text text-anchor=\"middle\" x=\"186\" y=\"-7.8\" font-family=\"Helvetica,sans-Serif\" font-size=\"14.00\" fill=\"#000000\">class = &lt;=50K</text>\n",
       "</g>\n",
       "<!-- 1&#45;&gt;3 -->\n",
       "<g id=\"edge3\" class=\"edge\">\n",
       "<title>1&#45;&gt;3</title>\n",
       "<path fill=\"none\" stroke=\"#000000\" d=\"M182.2342,-103.9815C182.6842,-95.618 183.1589,-86.7965 183.6139,-78.3409\"/>\n",
       "<polygon fill=\"#000000\" stroke=\"#000000\" points=\"187.1137,-78.4373 184.1562,-68.2637 180.1238,-78.0611 187.1137,-78.4373\"/>\n",
       "</g>\n",
       "<!-- 5 -->\n",
       "<g id=\"node6\" class=\"node\">\n",
       "<title>5</title>\n",
       "<path fill=\"none\" stroke=\"#000000\" d=\"M359,-68C359,-68 283,-68 283,-68 277,-68 271,-62 271,-56 271,-56 271,-12 271,-12 271,-6 277,0 283,0 283,0 359,0 359,0 365,0 371,-6 371,-12 371,-12 371,-56 371,-56 371,-62 365,-68 359,-68\"/>\n",
       "<text text-anchor=\"middle\" x=\"321\" y=\"-52.8\" font-family=\"Helvetica,sans-Serif\" font-size=\"14.00\" fill=\"#000000\">gini = 0.011</text>\n",
       "<text text-anchor=\"middle\" x=\"321\" y=\"-37.8\" font-family=\"Helvetica,sans-Serif\" font-size=\"14.00\" fill=\"#000000\">samples = 2026</text>\n",
       "<text text-anchor=\"middle\" x=\"321\" y=\"-22.8\" font-family=\"Helvetica,sans-Serif\" font-size=\"14.00\" fill=\"#000000\">value = [3160, 18]</text>\n",
       "<text text-anchor=\"middle\" x=\"321\" y=\"-7.8\" font-family=\"Helvetica,sans-Serif\" font-size=\"14.00\" fill=\"#000000\">class = &lt;=50K</text>\n",
       "</g>\n",
       "<!-- 4&#45;&gt;5 -->\n",
       "<g id=\"edge5\" class=\"edge\">\n",
       "<title>4&#45;&gt;5</title>\n",
       "<path fill=\"none\" stroke=\"#000000\" d=\"M324.1382,-103.9815C323.7631,-95.618 323.3676,-86.7965 322.9884,-78.3409\"/>\n",
       "<polygon fill=\"#000000\" stroke=\"#000000\" points=\"326.481,-78.0968 322.5365,-68.2637 319.4881,-78.4105 326.481,-78.0968\"/>\n",
       "</g>\n",
       "<!-- 6 -->\n",
       "<g id=\"node7\" class=\"node\">\n",
       "<title>6</title>\n",
       "<path fill=\"none\" stroke=\"#000000\" d=\"M471,-68C471,-68 401,-68 401,-68 395,-68 389,-62 389,-56 389,-56 389,-12 389,-12 389,-6 395,0 401,0 401,0 471,0 471,0 477,0 483,-6 483,-12 483,-12 483,-56 483,-56 483,-62 477,-68 471,-68\"/>\n",
       "<text text-anchor=\"middle\" x=\"436\" y=\"-52.8\" font-family=\"Helvetica,sans-Serif\" font-size=\"14.00\" fill=\"#000000\">gini = 0.122</text>\n",
       "<text text-anchor=\"middle\" x=\"436\" y=\"-37.8\" font-family=\"Helvetica,sans-Serif\" font-size=\"14.00\" fill=\"#000000\">samples = 388</text>\n",
       "<text text-anchor=\"middle\" x=\"436\" y=\"-22.8\" font-family=\"Helvetica,sans-Serif\" font-size=\"14.00\" fill=\"#000000\">value = [572, 40]</text>\n",
       "<text text-anchor=\"middle\" x=\"436\" y=\"-7.8\" font-family=\"Helvetica,sans-Serif\" font-size=\"14.00\" fill=\"#000000\">class = &lt;=50K</text>\n",
       "</g>\n",
       "<!-- 4&#45;&gt;6 -->\n",
       "<g id=\"edge6\" class=\"edge\">\n",
       "<title>4&#45;&gt;6</title>\n",
       "<path fill=\"none\" stroke=\"#000000\" d=\"M366.9599,-103.9815C376.1176,-94.6989 385.8319,-84.8522 394.9915,-75.5677\"/>\n",
       "<polygon fill=\"#000000\" stroke=\"#000000\" points=\"397.6658,-77.8406 402.1973,-68.2637 392.6826,-72.9244 397.6658,-77.8406\"/>\n",
       "</g>\n",
       "</g>\n",
       "</svg>\n"
      ],
      "text/plain": [
       "<graphviz.files.Source at 0x1a199aacc0>"
      ]
     },
     "execution_count": 56,
     "metadata": {},
     "output_type": "execute_result"
    }
   ],
   "source": [
    "export_graphviz(tree_1, out_file=\"mytree.dot\", feature_names=data_train.columns , class_names=list(target_train), rounded=True)\n",
    "with open(\"mytree.dot\") as f:\n",
    "    dot_graph = f.read()\n",
    "graphviz.Source(dot_graph)"
   ]
  },
  {
   "cell_type": "code",
   "execution_count": 58,
   "metadata": {},
   "outputs": [
    {
     "data": {
      "image/svg+xml": [
       "<?xml version=\"1.0\" encoding=\"UTF-8\" standalone=\"no\"?>\n",
       "<!DOCTYPE svg PUBLIC \"-//W3C//DTD SVG 1.1//EN\"\n",
       " \"http://www.w3.org/Graphics/SVG/1.1/DTD/svg11.dtd\">\n",
       "<!-- Generated by graphviz version 2.40.1 (20161225.0304)\n",
       " -->\n",
       "<!-- Title: Tree Pages: 1 -->\n",
       "<svg width=\"507pt\" height=\"314pt\"\n",
       " viewBox=\"0.00 0.00 507.00 314.00\" xmlns=\"http://www.w3.org/2000/svg\" xmlns:xlink=\"http://www.w3.org/1999/xlink\">\n",
       "<g id=\"graph0\" class=\"graph\" transform=\"scale(1 1) rotate(0) translate(4 310)\">\n",
       "<title>Tree</title>\n",
       "<polygon fill=\"#ffffff\" stroke=\"transparent\" points=\"-4,4 -4,-310 503,-310 503,4 -4,4\"/>\n",
       "<!-- 0 -->\n",
       "<g id=\"node1\" class=\"node\">\n",
       "<title>0</title>\n",
       "<path fill=\"none\" stroke=\"#000000\" d=\"M293,-306C293,-306 199,-306 199,-306 193,-306 187,-300 187,-294 187,-294 187,-235 187,-235 187,-229 193,-223 199,-223 199,-223 293,-223 293,-223 299,-223 305,-229 305,-235 305,-235 305,-294 305,-294 305,-300 299,-306 293,-306\"/>\n",
       "<text text-anchor=\"middle\" x=\"246\" y=\"-290.8\" font-family=\"Helvetica,sans-Serif\" font-size=\"14.00\" fill=\"#000000\">Age &lt;= 30.5</text>\n",
       "<text text-anchor=\"middle\" x=\"246\" y=\"-275.8\" font-family=\"Helvetica,sans-Serif\" font-size=\"14.00\" fill=\"#000000\">gini = 0.367</text>\n",
       "<text text-anchor=\"middle\" x=\"246\" y=\"-260.8\" font-family=\"Helvetica,sans-Serif\" font-size=\"14.00\" fill=\"#000000\">samples = 15381</text>\n",
       "<text text-anchor=\"middle\" x=\"246\" y=\"-245.8\" font-family=\"Helvetica,sans-Serif\" font-size=\"14.00\" fill=\"#000000\">value = [18496, 5924]</text>\n",
       "<text text-anchor=\"middle\" x=\"246\" y=\"-230.8\" font-family=\"Helvetica,sans-Serif\" font-size=\"14.00\" fill=\"#000000\">class = &lt;=50K</text>\n",
       "</g>\n",
       "<!-- 1 -->\n",
       "<g id=\"node2\" class=\"node\">\n",
       "<title>1</title>\n",
       "<path fill=\"none\" stroke=\"#000000\" d=\"M234.5,-187C234.5,-187 103.5,-187 103.5,-187 97.5,-187 91.5,-181 91.5,-175 91.5,-175 91.5,-116 91.5,-116 91.5,-110 97.5,-104 103.5,-104 103.5,-104 234.5,-104 234.5,-104 240.5,-104 246.5,-110 246.5,-116 246.5,-116 246.5,-175 246.5,-175 246.5,-181 240.5,-187 234.5,-187\"/>\n",
       "<text text-anchor=\"middle\" x=\"169\" y=\"-171.8\" font-family=\"Helvetica,sans-Serif\" font-size=\"14.00\" fill=\"#000000\">Relationship_Husband &lt;= 0.5</text>\n",
       "<text text-anchor=\"middle\" x=\"169\" y=\"-156.8\" font-family=\"Helvetica,sans-Serif\" font-size=\"14.00\" fill=\"#000000\">gini = 0.12</text>\n",
       "<text text-anchor=\"middle\" x=\"169\" y=\"-141.8\" font-family=\"Helvetica,sans-Serif\" font-size=\"14.00\" fill=\"#000000\">samples = 5041</text>\n",
       "<text text-anchor=\"middle\" x=\"169\" y=\"-126.8\" font-family=\"Helvetica,sans-Serif\" font-size=\"14.00\" fill=\"#000000\">value = [7530, 516]</text>\n",
       "<text text-anchor=\"middle\" x=\"169\" y=\"-111.8\" font-family=\"Helvetica,sans-Serif\" font-size=\"14.00\" fill=\"#000000\">class = &lt;=50K</text>\n",
       "</g>\n",
       "<!-- 0&#45;&gt;1 -->\n",
       "<g id=\"edge1\" class=\"edge\">\n",
       "<title>0&#45;&gt;1</title>\n",
       "<path fill=\"none\" stroke=\"#000000\" d=\"M219.0691,-222.8796C213.4163,-214.1434 207.3967,-204.8404 201.5634,-195.8253\"/>\n",
       "<polygon fill=\"#000000\" stroke=\"#000000\" points=\"204.4169,-193.7924 196.0458,-187.2981 198.5399,-197.5952 204.4169,-193.7924\"/>\n",
       "<text text-anchor=\"middle\" x=\"190.8076\" y=\"-208.0431\" font-family=\"Helvetica,sans-Serif\" font-size=\"14.00\" fill=\"#000000\">True</text>\n",
       "</g>\n",
       "<!-- 4 -->\n",
       "<g id=\"node5\" class=\"node\">\n",
       "<title>4</title>\n",
       "<path fill=\"none\" stroke=\"#000000\" d=\"M371,-187C371,-187 277,-187 277,-187 271,-187 265,-181 265,-175 265,-175 265,-116 265,-116 265,-110 271,-104 277,-104 277,-104 371,-104 371,-104 377,-104 383,-110 383,-116 383,-116 383,-175 383,-175 383,-181 377,-187 371,-187\"/>\n",
       "<text text-anchor=\"middle\" x=\"324\" y=\"-171.8\" font-family=\"Helvetica,sans-Serif\" font-size=\"14.00\" fill=\"#000000\">Sex_Male &lt;= 0.5</text>\n",
       "<text text-anchor=\"middle\" x=\"324\" y=\"-156.8\" font-family=\"Helvetica,sans-Serif\" font-size=\"14.00\" fill=\"#000000\">gini = 0.442</text>\n",
       "<text text-anchor=\"middle\" x=\"324\" y=\"-141.8\" font-family=\"Helvetica,sans-Serif\" font-size=\"14.00\" fill=\"#000000\">samples = 10340</text>\n",
       "<text text-anchor=\"middle\" x=\"324\" y=\"-126.8\" font-family=\"Helvetica,sans-Serif\" font-size=\"14.00\" fill=\"#000000\">value = [10966, 5408]</text>\n",
       "<text text-anchor=\"middle\" x=\"324\" y=\"-111.8\" font-family=\"Helvetica,sans-Serif\" font-size=\"14.00\" fill=\"#000000\">class = &lt;=50K</text>\n",
       "</g>\n",
       "<!-- 0&#45;&gt;4 -->\n",
       "<g id=\"edge4\" class=\"edge\">\n",
       "<title>0&#45;&gt;4</title>\n",
       "<path fill=\"none\" stroke=\"#000000\" d=\"M273.2806,-222.8796C279.0068,-214.1434 285.1046,-204.8404 291.0137,-195.8253\"/>\n",
       "<polygon fill=\"#000000\" stroke=\"#000000\" points=\"294.0482,-197.5803 296.6029,-187.2981 288.1937,-193.7429 294.0482,-197.5803\"/>\n",
       "<text text-anchor=\"middle\" x=\"301.6968\" y=\"-208.0736\" font-family=\"Helvetica,sans-Serif\" font-size=\"14.00\" fill=\"#000000\">False</text>\n",
       "</g>\n",
       "<!-- 2 -->\n",
       "<g id=\"node3\" class=\"node\">\n",
       "<title>2</title>\n",
       "<path fill=\"none\" stroke=\"#000000\" d=\"M94,-68C94,-68 12,-68 12,-68 6,-68 0,-62 0,-56 0,-56 0,-12 0,-12 0,-6 6,0 12,0 12,0 94,0 94,0 100,0 106,-6 106,-12 106,-12 106,-56 106,-56 106,-62 100,-68 94,-68\"/>\n",
       "<text text-anchor=\"middle\" x=\"53\" y=\"-52.8\" font-family=\"Helvetica,sans-Serif\" font-size=\"14.00\" fill=\"#000000\">gini = 0.059</text>\n",
       "<text text-anchor=\"middle\" x=\"53\" y=\"-37.8\" font-family=\"Helvetica,sans-Serif\" font-size=\"14.00\" fill=\"#000000\">samples = 4188</text>\n",
       "<text text-anchor=\"middle\" x=\"53\" y=\"-22.8\" font-family=\"Helvetica,sans-Serif\" font-size=\"14.00\" fill=\"#000000\">value = [6449, 203]</text>\n",
       "<text text-anchor=\"middle\" x=\"53\" y=\"-7.8\" font-family=\"Helvetica,sans-Serif\" font-size=\"14.00\" fill=\"#000000\">class = &lt;=50K</text>\n",
       "</g>\n",
       "<!-- 1&#45;&gt;2 -->\n",
       "<g id=\"edge2\" class=\"edge\">\n",
       "<title>1&#45;&gt;2</title>\n",
       "<path fill=\"none\" stroke=\"#000000\" d=\"M125.8059,-103.9815C116.0531,-94.607 105.7017,-84.6572 95.9586,-75.2921\"/>\n",
       "<polygon fill=\"#000000\" stroke=\"#000000\" points=\"98.2815,-72.6702 88.6465,-68.2637 93.4306,-77.7169 98.2815,-72.6702\"/>\n",
       "</g>\n",
       "<!-- 3 -->\n",
       "<g id=\"node4\" class=\"node\">\n",
       "<title>3</title>\n",
       "<path fill=\"none\" stroke=\"#000000\" d=\"M218,-68C218,-68 136,-68 136,-68 130,-68 124,-62 124,-56 124,-56 124,-12 124,-12 124,-6 130,0 136,0 136,0 218,0 218,0 224,0 230,-6 230,-12 230,-12 230,-56 230,-56 230,-62 224,-68 218,-68\"/>\n",
       "<text text-anchor=\"middle\" x=\"177\" y=\"-52.8\" font-family=\"Helvetica,sans-Serif\" font-size=\"14.00\" fill=\"#000000\">gini = 0.348</text>\n",
       "<text text-anchor=\"middle\" x=\"177\" y=\"-37.8\" font-family=\"Helvetica,sans-Serif\" font-size=\"14.00\" fill=\"#000000\">samples = 853</text>\n",
       "<text text-anchor=\"middle\" x=\"177\" y=\"-22.8\" font-family=\"Helvetica,sans-Serif\" font-size=\"14.00\" fill=\"#000000\">value = [1081, 313]</text>\n",
       "<text text-anchor=\"middle\" x=\"177\" y=\"-7.8\" font-family=\"Helvetica,sans-Serif\" font-size=\"14.00\" fill=\"#000000\">class = &lt;=50K</text>\n",
       "</g>\n",
       "<!-- 1&#45;&gt;3 -->\n",
       "<g id=\"edge3\" class=\"edge\">\n",
       "<title>1&#45;&gt;3</title>\n",
       "<path fill=\"none\" stroke=\"#000000\" d=\"M171.9789,-103.9815C172.579,-95.618 173.2119,-86.7965 173.8186,-78.3409\"/>\n",
       "<polygon fill=\"#000000\" stroke=\"#000000\" points=\"177.3169,-78.4885 174.5416,-68.2637 170.3349,-77.9875 177.3169,-78.4885\"/>\n",
       "</g>\n",
       "<!-- 5 -->\n",
       "<g id=\"node6\" class=\"node\">\n",
       "<title>5</title>\n",
       "<path fill=\"none\" stroke=\"#000000\" d=\"M357,-68C357,-68 275,-68 275,-68 269,-68 263,-62 263,-56 263,-56 263,-12 263,-12 263,-6 269,0 275,0 275,0 357,0 357,0 363,0 369,-6 369,-12 369,-12 369,-56 369,-56 369,-62 363,-68 357,-68\"/>\n",
       "<text text-anchor=\"middle\" x=\"316\" y=\"-52.8\" font-family=\"Helvetica,sans-Serif\" font-size=\"14.00\" fill=\"#000000\">gini = 0.26</text>\n",
       "<text text-anchor=\"middle\" x=\"316\" y=\"-37.8\" font-family=\"Helvetica,sans-Serif\" font-size=\"14.00\" fill=\"#000000\">samples = 3046</text>\n",
       "<text text-anchor=\"middle\" x=\"316\" y=\"-22.8\" font-family=\"Helvetica,sans-Serif\" font-size=\"14.00\" fill=\"#000000\">value = [4088, 741]</text>\n",
       "<text text-anchor=\"middle\" x=\"316\" y=\"-7.8\" font-family=\"Helvetica,sans-Serif\" font-size=\"14.00\" fill=\"#000000\">class = &lt;=50K</text>\n",
       "</g>\n",
       "<!-- 4&#45;&gt;5 -->\n",
       "<g id=\"edge5\" class=\"edge\">\n",
       "<title>4&#45;&gt;5</title>\n",
       "<path fill=\"none\" stroke=\"#000000\" d=\"M321.0211,-103.9815C320.421,-95.618 319.7881,-86.7965 319.1814,-78.3409\"/>\n",
       "<polygon fill=\"#000000\" stroke=\"#000000\" points=\"322.6651,-77.9875 318.4584,-68.2637 315.6831,-78.4885 322.6651,-77.9875\"/>\n",
       "</g>\n",
       "<!-- 6 -->\n",
       "<g id=\"node7\" class=\"node\">\n",
       "<title>6</title>\n",
       "<path fill=\"none\" stroke=\"#000000\" d=\"M487,-68C487,-68 399,-68 399,-68 393,-68 387,-62 387,-56 387,-56 387,-12 387,-12 387,-6 393,0 399,0 399,0 487,0 487,0 493,0 499,-6 499,-12 499,-12 499,-56 499,-56 499,-62 493,-68 487,-68\"/>\n",
       "<text text-anchor=\"middle\" x=\"443\" y=\"-52.8\" font-family=\"Helvetica,sans-Serif\" font-size=\"14.00\" fill=\"#000000\">gini = 0.482</text>\n",
       "<text text-anchor=\"middle\" x=\"443\" y=\"-37.8\" font-family=\"Helvetica,sans-Serif\" font-size=\"14.00\" fill=\"#000000\">samples = 7294</text>\n",
       "<text text-anchor=\"middle\" x=\"443\" y=\"-22.8\" font-family=\"Helvetica,sans-Serif\" font-size=\"14.00\" fill=\"#000000\">value = [6878, 4667]</text>\n",
       "<text text-anchor=\"middle\" x=\"443\" y=\"-7.8\" font-family=\"Helvetica,sans-Serif\" font-size=\"14.00\" fill=\"#000000\">class = &lt;=50K</text>\n",
       "</g>\n",
       "<!-- 4&#45;&gt;6 -->\n",
       "<g id=\"edge6\" class=\"edge\">\n",
       "<title>4&#45;&gt;6</title>\n",
       "<path fill=\"none\" stroke=\"#000000\" d=\"M368.3112,-103.9815C378.3163,-94.607 388.9354,-84.6572 398.9304,-75.2921\"/>\n",
       "<polygon fill=\"#000000\" stroke=\"#000000\" points=\"401.5274,-77.6551 406.4316,-68.2637 396.7412,-72.547 401.5274,-77.6551\"/>\n",
       "</g>\n",
       "</g>\n",
       "</svg>\n"
      ],
      "text/plain": [
       "<graphviz.files.Source at 0x1a19a24860>"
      ]
     },
     "execution_count": 58,
     "metadata": {},
     "output_type": "execute_result"
    }
   ],
   "source": [
    "#tree_2 = forest_2.estimators_[1].fit(data_train, target_train.iloc[:,1])\n",
    "export_graphviz(tree_2, out_file=\"mytree.dot\", feature_names=data_train.columns , class_names=list(target_train), rounded=True)\n",
    "with open(\"mytree.dot\") as f:\n",
    "    dot_graph = f.read()\n",
    "graphviz.Source(dot_graph)"
   ]
  },
  {
   "cell_type": "markdown",
   "metadata": {},
   "source": [
    "## 5. Gradient boosting\n",
    "\n",
    "As a final step, we'll examine Gradient Boosted Trees. "
   ]
  },
  {
   "cell_type": "markdown",
   "metadata": {},
   "source": [
    "### 5.1 GBT "
   ]
  },
  {
   "cell_type": "markdown",
   "metadata": {},
   "source": [
    "#### 5.1.1 Fitting a GBT model\n",
    "\n",
    "In the cell below, import `GradientBoostingClassifier` from sklearn's `ensemble` module."
   ]
  },
  {
   "cell_type": "code",
   "execution_count": 59,
   "metadata": {},
   "outputs": [],
   "source": [
    "from sklearn.ensemble import GradientBoostingClassifier"
   ]
  },
  {
   "cell_type": "markdown",
   "metadata": {},
   "source": [
    "Next, create a `GradientBoostingClassifier` and set the `max_depth` to 5 and the `learning_rate` to `0.01`.  Then, fit the model to our training data."
   ]
  },
  {
   "cell_type": "code",
   "execution_count": 61,
   "metadata": {},
   "outputs": [
    {
     "data": {
      "text/plain": [
       "GradientBoostingClassifier(criterion='friedman_mse', init=None,\n",
       "              learning_rate=0.01, loss='deviance', max_depth=5,\n",
       "              max_features=None, max_leaf_nodes=None,\n",
       "              min_impurity_decrease=0.0, min_impurity_split=None,\n",
       "              min_samples_leaf=1, min_samples_split=2,\n",
       "              min_weight_fraction_leaf=0.0, n_estimators=100,\n",
       "              presort='auto', random_state=None, subsample=1.0, verbose=0,\n",
       "              warm_start=False)"
      ]
     },
     "execution_count": 61,
     "metadata": {},
     "output_type": "execute_result"
    }
   ],
   "source": [
    "gradboost = GradientBoostingClassifier(max_depth=5, learning_rate=.01)\n",
    "gradboost.fit(data_train,target_train)\n"
   ]
  },
  {
   "cell_type": "markdown",
   "metadata": {},
   "source": [
    "Now, check the training and testing accuracy of our Gradient Boosted Model.  "
   ]
  },
  {
   "cell_type": "code",
   "execution_count": 64,
   "metadata": {},
   "outputs": [
    {
     "data": {
      "text/plain": [
       "0.8170352170352171"
      ]
     },
     "execution_count": 64,
     "metadata": {},
     "output_type": "execute_result"
    }
   ],
   "source": [
    "gradboost.score(data_train,target_train)"
   ]
  },
  {
   "cell_type": "code",
   "execution_count": 65,
   "metadata": {},
   "outputs": [
    {
     "data": {
      "text/plain": [
       "0.8125537403267412"
      ]
     },
     "execution_count": 65,
     "metadata": {},
     "output_type": "execute_result"
    }
   ],
   "source": [
    "gradboost.score(data_test,target_test)"
   ]
  },
  {
   "cell_type": "markdown",
   "metadata": {},
   "source": [
    "Finally, plot the feature importance for the model. "
   ]
  },
  {
   "cell_type": "code",
   "execution_count": 66,
   "metadata": {},
   "outputs": [
    {
     "data": {
      "image/png": "[encoded data removed]",
      "text/plain": [
       "<Figure size 576x576 with 1 Axes>"
      ]
     },
     "metadata": {},
     "output_type": "display_data"
    }
   ],
   "source": [
    "plot_feature_importances(gradboost)"
   ]
  },
  {
   "cell_type": "markdown",
   "metadata": {},
   "source": [
    "This isn't really an improvement compared to our Random forests. We told you that gradient boosting methods can generate excellent results, if you set your hyperparameters right! As you know, gradient descent is a delicate process and the learning rate should be set correctly. Let's have a look at what changing the learning rate does to our model."
   ]
  },
  {
   "cell_type": "markdown",
   "metadata": {},
   "source": [
    "#### 5.1.2 Changing the learning rate\n",
    "\n",
    "We'll create another `GradientBoostingClassifier`.  Set the `max_depth` to `5`, and the `learning_rate` to `0.09`.  Then, fit the new model to our training data. "
   ]
  },
  {
   "cell_type": "code",
   "execution_count": 67,
   "metadata": {},
   "outputs": [
    {
     "data": {
      "text/plain": [
       "GradientBoostingClassifier(criterion='friedman_mse', init=None,\n",
       "              learning_rate=0.09, loss='deviance', max_depth=5,\n",
       "              max_features=None, max_leaf_nodes=None,\n",
       "              min_impurity_decrease=0.0, min_impurity_split=None,\n",
       "              min_samples_leaf=1, min_samples_split=2,\n",
       "              min_weight_fraction_leaf=0.0, n_estimators=100,\n",
       "              presort='auto', random_state=None, subsample=1.0, verbose=0,\n",
       "              warm_start=False)"
      ]
     },
     "execution_count": 67,
     "metadata": {},
     "output_type": "execute_result"
    }
   ],
   "source": [
    "gradboost_2 = GradientBoostingClassifier(max_depth=5,learning_rate=.09)\n",
    "gradboost_2.fit(data_train,target_train)"
   ]
  },
  {
   "cell_type": "markdown",
   "metadata": {},
   "source": [
    "Now, check the training and testing accuracy of this model. "
   ]
  },
  {
   "cell_type": "code",
   "execution_count": 68,
   "metadata": {},
   "outputs": [
    {
     "data": {
      "text/plain": [
       "0.8455773955773955"
      ]
     },
     "execution_count": 68,
     "metadata": {},
     "output_type": "execute_result"
    }
   ],
   "source": [
    "gradboost_2.score(data_train,target_train)"
   ]
  },
  {
   "cell_type": "code",
   "execution_count": 69,
   "metadata": {},
   "outputs": [
    {
     "data": {
      "text/plain": [
       "0.8333128608279081"
      ]
     },
     "execution_count": 69,
     "metadata": {},
     "output_type": "execute_result"
    }
   ],
   "source": [
    "gradboost_2.score(data_test,target_test)"
   ]
  },
  {
   "cell_type": "markdown",
   "metadata": {},
   "source": [
    "Now, plot the feature importance. "
   ]
  },
  {
   "cell_type": "code",
   "execution_count": 70,
   "metadata": {},
   "outputs": [
    {
     "data": {
      "image/png": "[encoded data removed]",
      "text/plain": [
       "<Figure size 576x576 with 1 Axes>"
      ]
     },
     "metadata": {},
     "output_type": "display_data"
    }
   ],
   "source": [
    "plot_feature_importances(gradboost_2)"
   ]
  },
  {
   "cell_type": "markdown",
   "metadata": {},
   "source": [
    "The feature importances plot has changed drastically! This model is definitely more complex, as mentioned in the lecture."
   ]
  },
  {
   "cell_type": "markdown",
   "metadata": {},
   "source": [
    "### 5.2 AdaBoost\n",
    "\n",
    "We'll end this lab with AdaBoost, a popular variant of Gradient Boosted Trees.  \n",
    "\n",
    "In the cell below, import `AdaBoostClassifier` from sklearn's `ensemble` module. "
   ]
  },
  {
   "cell_type": "code",
   "execution_count": 71,
   "metadata": {},
   "outputs": [],
   "source": [
    "from sklearn.ensemble import AdaBoostClassifier"
   ]
  },
  {
   "cell_type": "markdown",
   "metadata": {},
   "source": [
    "In the cell below, create an AdaBoost classifier. Set the number of estimators to `100`.  Then, fit the model to our training data. "
   ]
  },
  {
   "cell_type": "code",
   "execution_count": 72,
   "metadata": {},
   "outputs": [
    {
     "data": {
      "text/plain": [
       "AdaBoostClassifier(algorithm='SAMME.R', base_estimator=None,\n",
       "          learning_rate=1.0, n_estimators=100, random_state=None)"
      ]
     },
     "execution_count": 72,
     "metadata": {},
     "output_type": "execute_result"
    }
   ],
   "source": [
    "adaboost = AdaBoostClassifier(n_estimators=100)\n",
    "adaboost.fit(data_train,target_train)\n"
   ]
  },
  {
   "cell_type": "markdown",
   "metadata": {},
   "source": [
    "Now, check the training and testing accuracy of the model. "
   ]
  },
  {
   "cell_type": "code",
   "execution_count": 73,
   "metadata": {},
   "outputs": [
    {
     "data": {
      "text/plain": [
       "0.836036036036036"
      ]
     },
     "execution_count": 73,
     "metadata": {},
     "output_type": "execute_result"
    }
   ],
   "source": [
    "adaboost.score(data_train,target_train)"
   ]
  },
  {
   "cell_type": "code",
   "execution_count": 74,
   "metadata": {},
   "outputs": [
    {
     "data": {
      "text/plain": [
       "0.8360152315440363"
      ]
     },
     "execution_count": 74,
     "metadata": {},
     "output_type": "execute_result"
    }
   ],
   "source": [
    "adaboost.score(data_test,target_test)"
   ]
  },
  {
   "cell_type": "markdown",
   "metadata": {},
   "source": [
    "Finally, plot the feature importances for our AdaBoost model. "
   ]
  },
  {
   "cell_type": "code",
   "execution_count": 75,
   "metadata": {},
   "outputs": [
    {
     "data": {
      "image/png": "[encoded data removed]",
      "text/plain": [
       "<Figure size 576x576 with 1 Axes>"
      ]
     },
     "metadata": {},
     "output_type": "display_data"
    }
   ],
   "source": [
    "plot_feature_importances(adaboost)"
   ]
  },
  {
   "cell_type": "markdown",
   "metadata": {},
   "source": [
    "Seems to be performing similarly to gradient boosting, even more focus on Age."
   ]
  },
  {
   "cell_type": "markdown",
   "metadata": {},
   "source": [
    "# Sources\n",
    "https://www.svds.com/machine-learning-vs-statistics/ \n",
    "\n",
    "https://github.com/xbno/Projects/blob/master/Models_Scratch/Decision%20Trees%20from%20scratch.ipynb\n",
    "\n",
    "http://scikit-learn.org/stable/modules/generated/sklearn.ensemble.RandomForestClassifier.html\n",
    "\n",
    "http://scikit-learn.org/stable/modules/ensemble.html\n",
    "\n",
    "\n",
    "Raschka and Mirjalili\n",
    "\n",
    "Muller and Guido\n"
   ]
  },
  {
   "cell_type": "markdown",
   "metadata": {},
   "source": [
    "https://machinelearningmastery.com/ensemble-machine-learning-algorithms-python-scikit-learn/"
   ]
  }
 ],
 "metadata": {
  "kernelspec": {
   "display_name": "Python 3",
   "language": "python",
   "name": "python3"
  },
  "language_info": {
   "codemirror_mode": {
    "name": "ipython",
    "version": 3
   },
   "file_extension": ".py",
   "mimetype": "text/x-python",
   "name": "python",
   "nbconvert_exporter": "python",
   "pygments_lexer": "ipython3",
   "version": "3.6.6"
  }
 },
 "nbformat": 4,
 "nbformat_minor": 2
}
